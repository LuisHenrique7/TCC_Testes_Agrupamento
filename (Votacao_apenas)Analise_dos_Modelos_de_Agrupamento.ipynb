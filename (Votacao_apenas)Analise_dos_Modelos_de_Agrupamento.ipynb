{
  "nbformat": 4,
  "nbformat_minor": 0,
  "metadata": {
    "colab": {
      "provenance": [],
      "toc_visible": true,
      "mount_file_id": "1WAXCe-Ggr0U670kHDjKWZhxgju8-YsBZ",
      "authorship_tag": "ABX9TyMH2shOchEqdgcigXehI2EF",
      "include_colab_link": true
    },
    "kernelspec": {
      "name": "python3",
      "display_name": "Python 3"
    },
    "language_info": {
      "name": "python"
    }
  },
  "cells": [
    {
      "cell_type": "markdown",
      "metadata": {
        "id": "view-in-github",
        "colab_type": "text"
      },
      "source": [
        "<a href=\"https://colab.research.google.com/github/LuisHenrique7/TCC_Testes_Agrupamento/blob/main/(Votacao_apenas)Analise_dos_Modelos_de_Agrupamento.ipynb\" target=\"_parent\"><img src=\"https://colab.research.google.com/assets/colab-badge.svg\" alt=\"Open In Colab\"/></a>"
      ]
    },
    {
      "cell_type": "markdown",
      "source": [
        "# Bibliotecas"
      ],
      "metadata": {
        "id": "jJTigGIvdVRE"
      }
    },
    {
      "cell_type": "code",
      "source": [
        "import pandas as pd\n",
        "import numpy as np\n",
        "import matplotlib.pyplot as plt"
      ],
      "metadata": {
        "id": "IFo5JzNzdzJW"
      },
      "execution_count": null,
      "outputs": []
    },
    {
      "cell_type": "code",
      "source": [
        "from sklearn.decomposition import PCA"
      ],
      "metadata": {
        "id": "TiKL_8Vr8Vxv"
      },
      "execution_count": null,
      "outputs": []
    },
    {
      "cell_type": "code",
      "execution_count": null,
      "metadata": {
        "id": "5qXbZZPrdDlS"
      },
      "outputs": [],
      "source": [
        "# from sklearn.datasets import make_blobs\n",
        "from sklearn.preprocessing import OneHotEncoder\n",
        "\n",
        "from sklearn.cluster import MeanShift, estimate_bandwidth\n",
        "from sklearn.cluster import KMeans\n",
        "from sklearn.cluster import DBSCAN\n",
        "\n",
        "from sklearn import metrics\n",
        "from sklearn.model_selection import GridSearchCV"
      ]
    },
    {
      "cell_type": "markdown",
      "source": [
        "# Lendo Conjunto de Dados"
      ],
      "metadata": {
        "id": "175YNR4TdVTw"
      }
    },
    {
      "cell_type": "code",
      "source": [
        "df_votos_deputados = pd.read_csv('/content/drive/MyDrive/TCC II/APP 2/Datasets Gerados/VotacaoDosDeputados(23_03_23).csv')\n",
        "df_votos_deputados"
      ],
      "metadata": {
        "colab": {
          "base_uri": "https://localhost:8080/"
        },
        "id": "KW3TODDZesD3",
        "outputId": "0f19b494-1711-45e6-fd22-1103a921b1c6"
      },
      "execution_count": null,
      "outputs": [
        {
          "output_type": "execute_result",
          "data": {
            "text/plain": [
              "     id_deputado             nome   siglaPartido siglaUf Votacao 2301683-33  \\\n",
              "0         220593   Abilio Brunini             PL      MT                Sim   \n",
              "1         204379   Acácio Favacho            MDB      AP                Não   \n",
              "2         220714      Adail Filho   REPUBLICANOS      AM              Vazio   \n",
              "3         221328  Adilson Barroso             PL      SP              Vazio   \n",
              "4         204560     Adolfo Viana           PSDB      BA              Vazio   \n",
              "..           ...              ...            ...     ...                ...   \n",
              "508       160632         Zé Silva  SOLIDARIEDADE      MG                Não   \n",
              "509       220558        Zé Trovão             PL      SC                Sim   \n",
              "510       204517         Zé Vitor             PL      MG              Vazio   \n",
              "511       160592      Zeca Dirceu             PT      PR              Vazio   \n",
              "512       220592  Zezinho Barbary             PP      AC              Vazio   \n",
              "\n",
              "    Votacao 2350702-8 Votacao 2350706-6 Votacao 2351332-7  \n",
              "0                 Sim             Vazio               Não  \n",
              "1                 Sim               Sim             Vazio  \n",
              "2                 Sim               Não               Sim  \n",
              "3                 Sim             Vazio               Sim  \n",
              "4               Vazio             Vazio             Vazio  \n",
              "..                ...               ...               ...  \n",
              "508               Sim               Sim               Sim  \n",
              "509               Sim               Não               Não  \n",
              "510             Vazio               Sim               Sim  \n",
              "511             Vazio             Vazio               Sim  \n",
              "512               Sim             Vazio               Sim  \n",
              "\n",
              "[513 rows x 8 columns]"
            ],
            "text/html": [
              "\n",
              "  <div id=\"df-4a3810bf-e37d-45f7-a11a-dbbf7b9b6278\">\n",
              "    <div class=\"colab-df-container\">\n",
              "      <div>\n",
              "<style scoped>\n",
              "    .dataframe tbody tr th:only-of-type {\n",
              "        vertical-align: middle;\n",
              "    }\n",
              "\n",
              "    .dataframe tbody tr th {\n",
              "        vertical-align: top;\n",
              "    }\n",
              "\n",
              "    .dataframe thead th {\n",
              "        text-align: right;\n",
              "    }\n",
              "</style>\n",
              "<table border=\"1\" class=\"dataframe\">\n",
              "  <thead>\n",
              "    <tr style=\"text-align: right;\">\n",
              "      <th></th>\n",
              "      <th>id_deputado</th>\n",
              "      <th>nome</th>\n",
              "      <th>siglaPartido</th>\n",
              "      <th>siglaUf</th>\n",
              "      <th>Votacao 2301683-33</th>\n",
              "      <th>Votacao 2350702-8</th>\n",
              "      <th>Votacao 2350706-6</th>\n",
              "      <th>Votacao 2351332-7</th>\n",
              "    </tr>\n",
              "  </thead>\n",
              "  <tbody>\n",
              "    <tr>\n",
              "      <th>0</th>\n",
              "      <td>220593</td>\n",
              "      <td>Abilio Brunini</td>\n",
              "      <td>PL</td>\n",
              "      <td>MT</td>\n",
              "      <td>Sim</td>\n",
              "      <td>Sim</td>\n",
              "      <td>Vazio</td>\n",
              "      <td>Não</td>\n",
              "    </tr>\n",
              "    <tr>\n",
              "      <th>1</th>\n",
              "      <td>204379</td>\n",
              "      <td>Acácio Favacho</td>\n",
              "      <td>MDB</td>\n",
              "      <td>AP</td>\n",
              "      <td>Não</td>\n",
              "      <td>Sim</td>\n",
              "      <td>Sim</td>\n",
              "      <td>Vazio</td>\n",
              "    </tr>\n",
              "    <tr>\n",
              "      <th>2</th>\n",
              "      <td>220714</td>\n",
              "      <td>Adail Filho</td>\n",
              "      <td>REPUBLICANOS</td>\n",
              "      <td>AM</td>\n",
              "      <td>Vazio</td>\n",
              "      <td>Sim</td>\n",
              "      <td>Não</td>\n",
              "      <td>Sim</td>\n",
              "    </tr>\n",
              "    <tr>\n",
              "      <th>3</th>\n",
              "      <td>221328</td>\n",
              "      <td>Adilson Barroso</td>\n",
              "      <td>PL</td>\n",
              "      <td>SP</td>\n",
              "      <td>Vazio</td>\n",
              "      <td>Sim</td>\n",
              "      <td>Vazio</td>\n",
              "      <td>Sim</td>\n",
              "    </tr>\n",
              "    <tr>\n",
              "      <th>4</th>\n",
              "      <td>204560</td>\n",
              "      <td>Adolfo Viana</td>\n",
              "      <td>PSDB</td>\n",
              "      <td>BA</td>\n",
              "      <td>Vazio</td>\n",
              "      <td>Vazio</td>\n",
              "      <td>Vazio</td>\n",
              "      <td>Vazio</td>\n",
              "    </tr>\n",
              "    <tr>\n",
              "      <th>...</th>\n",
              "      <td>...</td>\n",
              "      <td>...</td>\n",
              "      <td>...</td>\n",
              "      <td>...</td>\n",
              "      <td>...</td>\n",
              "      <td>...</td>\n",
              "      <td>...</td>\n",
              "      <td>...</td>\n",
              "    </tr>\n",
              "    <tr>\n",
              "      <th>508</th>\n",
              "      <td>160632</td>\n",
              "      <td>Zé Silva</td>\n",
              "      <td>SOLIDARIEDADE</td>\n",
              "      <td>MG</td>\n",
              "      <td>Não</td>\n",
              "      <td>Sim</td>\n",
              "      <td>Sim</td>\n",
              "      <td>Sim</td>\n",
              "    </tr>\n",
              "    <tr>\n",
              "      <th>509</th>\n",
              "      <td>220558</td>\n",
              "      <td>Zé Trovão</td>\n",
              "      <td>PL</td>\n",
              "      <td>SC</td>\n",
              "      <td>Sim</td>\n",
              "      <td>Sim</td>\n",
              "      <td>Não</td>\n",
              "      <td>Não</td>\n",
              "    </tr>\n",
              "    <tr>\n",
              "      <th>510</th>\n",
              "      <td>204517</td>\n",
              "      <td>Zé Vitor</td>\n",
              "      <td>PL</td>\n",
              "      <td>MG</td>\n",
              "      <td>Vazio</td>\n",
              "      <td>Vazio</td>\n",
              "      <td>Sim</td>\n",
              "      <td>Sim</td>\n",
              "    </tr>\n",
              "    <tr>\n",
              "      <th>511</th>\n",
              "      <td>160592</td>\n",
              "      <td>Zeca Dirceu</td>\n",
              "      <td>PT</td>\n",
              "      <td>PR</td>\n",
              "      <td>Vazio</td>\n",
              "      <td>Vazio</td>\n",
              "      <td>Vazio</td>\n",
              "      <td>Sim</td>\n",
              "    </tr>\n",
              "    <tr>\n",
              "      <th>512</th>\n",
              "      <td>220592</td>\n",
              "      <td>Zezinho Barbary</td>\n",
              "      <td>PP</td>\n",
              "      <td>AC</td>\n",
              "      <td>Vazio</td>\n",
              "      <td>Sim</td>\n",
              "      <td>Vazio</td>\n",
              "      <td>Sim</td>\n",
              "    </tr>\n",
              "  </tbody>\n",
              "</table>\n",
              "<p>513 rows × 8 columns</p>\n",
              "</div>\n",
              "      <button class=\"colab-df-convert\" onclick=\"convertToInteractive('df-4a3810bf-e37d-45f7-a11a-dbbf7b9b6278')\"\n",
              "              title=\"Convert this dataframe to an interactive table.\"\n",
              "              style=\"display:none;\">\n",
              "        \n",
              "  <svg xmlns=\"http://www.w3.org/2000/svg\" height=\"24px\"viewBox=\"0 0 24 24\"\n",
              "       width=\"24px\">\n",
              "    <path d=\"M0 0h24v24H0V0z\" fill=\"none\"/>\n",
              "    <path d=\"M18.56 5.44l.94 2.06.94-2.06 2.06-.94-2.06-.94-.94-2.06-.94 2.06-2.06.94zm-11 1L8.5 8.5l.94-2.06 2.06-.94-2.06-.94L8.5 2.5l-.94 2.06-2.06.94zm10 10l.94 2.06.94-2.06 2.06-.94-2.06-.94-.94-2.06-.94 2.06-2.06.94z\"/><path d=\"M17.41 7.96l-1.37-1.37c-.4-.4-.92-.59-1.43-.59-.52 0-1.04.2-1.43.59L10.3 9.45l-7.72 7.72c-.78.78-.78 2.05 0 2.83L4 21.41c.39.39.9.59 1.41.59.51 0 1.02-.2 1.41-.59l7.78-7.78 2.81-2.81c.8-.78.8-2.07 0-2.86zM5.41 20L4 18.59l7.72-7.72 1.47 1.35L5.41 20z\"/>\n",
              "  </svg>\n",
              "      </button>\n",
              "      \n",
              "  <style>\n",
              "    .colab-df-container {\n",
              "      display:flex;\n",
              "      flex-wrap:wrap;\n",
              "      gap: 12px;\n",
              "    }\n",
              "\n",
              "    .colab-df-convert {\n",
              "      background-color: #E8F0FE;\n",
              "      border: none;\n",
              "      border-radius: 50%;\n",
              "      cursor: pointer;\n",
              "      display: none;\n",
              "      fill: #1967D2;\n",
              "      height: 32px;\n",
              "      padding: 0 0 0 0;\n",
              "      width: 32px;\n",
              "    }\n",
              "\n",
              "    .colab-df-convert:hover {\n",
              "      background-color: #E2EBFA;\n",
              "      box-shadow: 0px 1px 2px rgba(60, 64, 67, 0.3), 0px 1px 3px 1px rgba(60, 64, 67, 0.15);\n",
              "      fill: #174EA6;\n",
              "    }\n",
              "\n",
              "    [theme=dark] .colab-df-convert {\n",
              "      background-color: #3B4455;\n",
              "      fill: #D2E3FC;\n",
              "    }\n",
              "\n",
              "    [theme=dark] .colab-df-convert:hover {\n",
              "      background-color: #434B5C;\n",
              "      box-shadow: 0px 1px 3px 1px rgba(0, 0, 0, 0.15);\n",
              "      filter: drop-shadow(0px 1px 2px rgba(0, 0, 0, 0.3));\n",
              "      fill: #FFFFFF;\n",
              "    }\n",
              "  </style>\n",
              "\n",
              "      <script>\n",
              "        const buttonEl =\n",
              "          document.querySelector('#df-4a3810bf-e37d-45f7-a11a-dbbf7b9b6278 button.colab-df-convert');\n",
              "        buttonEl.style.display =\n",
              "          google.colab.kernel.accessAllowed ? 'block' : 'none';\n",
              "\n",
              "        async function convertToInteractive(key) {\n",
              "          const element = document.querySelector('#df-4a3810bf-e37d-45f7-a11a-dbbf7b9b6278');\n",
              "          const dataTable =\n",
              "            await google.colab.kernel.invokeFunction('convertToInteractive',\n",
              "                                                     [key], {});\n",
              "          if (!dataTable) return;\n",
              "\n",
              "          const docLinkHtml = 'Like what you see? Visit the ' +\n",
              "            '<a target=\"_blank\" href=https://colab.research.google.com/notebooks/data_table.ipynb>data table notebook</a>'\n",
              "            + ' to learn more about interactive tables.';\n",
              "          element.innerHTML = '';\n",
              "          dataTable['output_type'] = 'display_data';\n",
              "          await google.colab.output.renderOutput(dataTable, element);\n",
              "          const docLink = document.createElement('div');\n",
              "          docLink.innerHTML = docLinkHtml;\n",
              "          element.appendChild(docLink);\n",
              "        }\n",
              "      </script>\n",
              "    </div>\n",
              "  </div>\n",
              "  "
            ]
          },
          "metadata": {},
          "execution_count": 35
        }
      ]
    },
    {
      "cell_type": "code",
      "source": [
        "df_proposicoes_temas_deputados = pd.read_json('/content/drive/MyDrive/TCC II/APP 2/Datasets Gerados/TemaProposicaoDosDeputados.json')\n",
        "df_proposicoes_temas_deputados.columns = ['id_deputado', 'nome',\t'proposicoes',\t'temas_proposicoes']\n",
        "df_proposicoes_temas_deputados"
      ],
      "metadata": {
        "colab": {
          "base_uri": "https://localhost:8080/"
        },
        "id": "LydTf4vid-fZ",
        "outputId": "d1158b3b-d341-462b-a477-c92d2c720c88"
      },
      "execution_count": null,
      "outputs": [
        {
          "output_type": "execute_result",
          "data": {
            "text/plain": [
              "     id_deputado             nome  \\\n",
              "0         220593   Abilio Brunini   \n",
              "1         204379   Acácio Favacho   \n",
              "2         220714      Adail Filho   \n",
              "3         221328  Adilson Barroso   \n",
              "4         204560     Adolfo Viana   \n",
              "..           ...              ...   \n",
              "508       160632         Zé Silva   \n",
              "509       220558        Zé Trovão   \n",
              "510       204517         Zé Vitor   \n",
              "511       160592      Zeca Dirceu   \n",
              "512       220592  Zezinho Barbary   \n",
              "\n",
              "                                           proposicoes  \\\n",
              "0    [2352557, 2352553, 2352549, 2352547, 2352524, ...   \n",
              "1    [2352547, 2352545, 2352541, 2352476, 2352473, ...   \n",
              "2    [2352559, 2352556, 2352549, 2352548, 2352547, ...   \n",
              "3    [2352062, 2352046, 2351960, 2351680, 2351620, ...   \n",
              "4    [2352559, 2352547, 2352545, 2352514, 2352501, ...   \n",
              "..                                                 ...   \n",
              "508  [2352559, 2352557, 2352549, 2352545, 2352473, ...   \n",
              "509  [2352549, 2352545, 2352541, 2352524, 2352521, ...   \n",
              "510  [2352596, 2352557, 2352556, 2352476, 2352049, ...   \n",
              "511  [2352556, 2352547, 2352445, 2352444, 2351948, ...   \n",
              "512  [2352557, 2352553, 2352545, 2352473, 2352322, ...   \n",
              "\n",
              "                                     temas_proposicoes  \n",
              "0    [Sem tema, Sem tema, Sem tema, Sem tema, Sem t...  \n",
              "1    [Sem tema, Sem tema, Sem tema, [Direitos Human...  \n",
              "2    [Sem tema, Sem tema, Sem tema, Sem tema, Sem t...  \n",
              "3    [Sem tema, Sem tema, Sem tema, [Direito Penal ...  \n",
              "4    [Sem tema, Sem tema, Sem tema, Sem tema, Sem t...  \n",
              "..                                                 ...  \n",
              "508  [Sem tema, Sem tema, Sem tema, Sem tema, Sem t...  \n",
              "509  [Sem tema, Sem tema, Sem tema, Sem tema, Sem t...  \n",
              "510  [Sem tema, Sem tema, Sem tema, [Direitos Human...  \n",
              "511  [Sem tema, Sem tema, Sem tema, Sem tema, Sem t...  \n",
              "512  [Sem tema, Sem tema, Sem tema, Sem tema, Sem t...  \n",
              "\n",
              "[513 rows x 4 columns]"
            ],
            "text/html": [
              "\n",
              "  <div id=\"df-824e561d-b6f0-46ba-8087-6b95d4c89b09\">\n",
              "    <div class=\"colab-df-container\">\n",
              "      <div>\n",
              "<style scoped>\n",
              "    .dataframe tbody tr th:only-of-type {\n",
              "        vertical-align: middle;\n",
              "    }\n",
              "\n",
              "    .dataframe tbody tr th {\n",
              "        vertical-align: top;\n",
              "    }\n",
              "\n",
              "    .dataframe thead th {\n",
              "        text-align: right;\n",
              "    }\n",
              "</style>\n",
              "<table border=\"1\" class=\"dataframe\">\n",
              "  <thead>\n",
              "    <tr style=\"text-align: right;\">\n",
              "      <th></th>\n",
              "      <th>id_deputado</th>\n",
              "      <th>nome</th>\n",
              "      <th>proposicoes</th>\n",
              "      <th>temas_proposicoes</th>\n",
              "    </tr>\n",
              "  </thead>\n",
              "  <tbody>\n",
              "    <tr>\n",
              "      <th>0</th>\n",
              "      <td>220593</td>\n",
              "      <td>Abilio Brunini</td>\n",
              "      <td>[2352557, 2352553, 2352549, 2352547, 2352524, ...</td>\n",
              "      <td>[Sem tema, Sem tema, Sem tema, Sem tema, Sem t...</td>\n",
              "    </tr>\n",
              "    <tr>\n",
              "      <th>1</th>\n",
              "      <td>204379</td>\n",
              "      <td>Acácio Favacho</td>\n",
              "      <td>[2352547, 2352545, 2352541, 2352476, 2352473, ...</td>\n",
              "      <td>[Sem tema, Sem tema, Sem tema, [Direitos Human...</td>\n",
              "    </tr>\n",
              "    <tr>\n",
              "      <th>2</th>\n",
              "      <td>220714</td>\n",
              "      <td>Adail Filho</td>\n",
              "      <td>[2352559, 2352556, 2352549, 2352548, 2352547, ...</td>\n",
              "      <td>[Sem tema, Sem tema, Sem tema, Sem tema, Sem t...</td>\n",
              "    </tr>\n",
              "    <tr>\n",
              "      <th>3</th>\n",
              "      <td>221328</td>\n",
              "      <td>Adilson Barroso</td>\n",
              "      <td>[2352062, 2352046, 2351960, 2351680, 2351620, ...</td>\n",
              "      <td>[Sem tema, Sem tema, Sem tema, [Direito Penal ...</td>\n",
              "    </tr>\n",
              "    <tr>\n",
              "      <th>4</th>\n",
              "      <td>204560</td>\n",
              "      <td>Adolfo Viana</td>\n",
              "      <td>[2352559, 2352547, 2352545, 2352514, 2352501, ...</td>\n",
              "      <td>[Sem tema, Sem tema, Sem tema, Sem tema, Sem t...</td>\n",
              "    </tr>\n",
              "    <tr>\n",
              "      <th>...</th>\n",
              "      <td>...</td>\n",
              "      <td>...</td>\n",
              "      <td>...</td>\n",
              "      <td>...</td>\n",
              "    </tr>\n",
              "    <tr>\n",
              "      <th>508</th>\n",
              "      <td>160632</td>\n",
              "      <td>Zé Silva</td>\n",
              "      <td>[2352559, 2352557, 2352549, 2352545, 2352473, ...</td>\n",
              "      <td>[Sem tema, Sem tema, Sem tema, Sem tema, Sem t...</td>\n",
              "    </tr>\n",
              "    <tr>\n",
              "      <th>509</th>\n",
              "      <td>220558</td>\n",
              "      <td>Zé Trovão</td>\n",
              "      <td>[2352549, 2352545, 2352541, 2352524, 2352521, ...</td>\n",
              "      <td>[Sem tema, Sem tema, Sem tema, Sem tema, Sem t...</td>\n",
              "    </tr>\n",
              "    <tr>\n",
              "      <th>510</th>\n",
              "      <td>204517</td>\n",
              "      <td>Zé Vitor</td>\n",
              "      <td>[2352596, 2352557, 2352556, 2352476, 2352049, ...</td>\n",
              "      <td>[Sem tema, Sem tema, Sem tema, [Direitos Human...</td>\n",
              "    </tr>\n",
              "    <tr>\n",
              "      <th>511</th>\n",
              "      <td>160592</td>\n",
              "      <td>Zeca Dirceu</td>\n",
              "      <td>[2352556, 2352547, 2352445, 2352444, 2351948, ...</td>\n",
              "      <td>[Sem tema, Sem tema, Sem tema, Sem tema, Sem t...</td>\n",
              "    </tr>\n",
              "    <tr>\n",
              "      <th>512</th>\n",
              "      <td>220592</td>\n",
              "      <td>Zezinho Barbary</td>\n",
              "      <td>[2352557, 2352553, 2352545, 2352473, 2352322, ...</td>\n",
              "      <td>[Sem tema, Sem tema, Sem tema, Sem tema, Sem t...</td>\n",
              "    </tr>\n",
              "  </tbody>\n",
              "</table>\n",
              "<p>513 rows × 4 columns</p>\n",
              "</div>\n",
              "      <button class=\"colab-df-convert\" onclick=\"convertToInteractive('df-824e561d-b6f0-46ba-8087-6b95d4c89b09')\"\n",
              "              title=\"Convert this dataframe to an interactive table.\"\n",
              "              style=\"display:none;\">\n",
              "        \n",
              "  <svg xmlns=\"http://www.w3.org/2000/svg\" height=\"24px\"viewBox=\"0 0 24 24\"\n",
              "       width=\"24px\">\n",
              "    <path d=\"M0 0h24v24H0V0z\" fill=\"none\"/>\n",
              "    <path d=\"M18.56 5.44l.94 2.06.94-2.06 2.06-.94-2.06-.94-.94-2.06-.94 2.06-2.06.94zm-11 1L8.5 8.5l.94-2.06 2.06-.94-2.06-.94L8.5 2.5l-.94 2.06-2.06.94zm10 10l.94 2.06.94-2.06 2.06-.94-2.06-.94-.94-2.06-.94 2.06-2.06.94z\"/><path d=\"M17.41 7.96l-1.37-1.37c-.4-.4-.92-.59-1.43-.59-.52 0-1.04.2-1.43.59L10.3 9.45l-7.72 7.72c-.78.78-.78 2.05 0 2.83L4 21.41c.39.39.9.59 1.41.59.51 0 1.02-.2 1.41-.59l7.78-7.78 2.81-2.81c.8-.78.8-2.07 0-2.86zM5.41 20L4 18.59l7.72-7.72 1.47 1.35L5.41 20z\"/>\n",
              "  </svg>\n",
              "      </button>\n",
              "      \n",
              "  <style>\n",
              "    .colab-df-container {\n",
              "      display:flex;\n",
              "      flex-wrap:wrap;\n",
              "      gap: 12px;\n",
              "    }\n",
              "\n",
              "    .colab-df-convert {\n",
              "      background-color: #E8F0FE;\n",
              "      border: none;\n",
              "      border-radius: 50%;\n",
              "      cursor: pointer;\n",
              "      display: none;\n",
              "      fill: #1967D2;\n",
              "      height: 32px;\n",
              "      padding: 0 0 0 0;\n",
              "      width: 32px;\n",
              "    }\n",
              "\n",
              "    .colab-df-convert:hover {\n",
              "      background-color: #E2EBFA;\n",
              "      box-shadow: 0px 1px 2px rgba(60, 64, 67, 0.3), 0px 1px 3px 1px rgba(60, 64, 67, 0.15);\n",
              "      fill: #174EA6;\n",
              "    }\n",
              "\n",
              "    [theme=dark] .colab-df-convert {\n",
              "      background-color: #3B4455;\n",
              "      fill: #D2E3FC;\n",
              "    }\n",
              "\n",
              "    [theme=dark] .colab-df-convert:hover {\n",
              "      background-color: #434B5C;\n",
              "      box-shadow: 0px 1px 3px 1px rgba(0, 0, 0, 0.15);\n",
              "      filter: drop-shadow(0px 1px 2px rgba(0, 0, 0, 0.3));\n",
              "      fill: #FFFFFF;\n",
              "    }\n",
              "  </style>\n",
              "\n",
              "      <script>\n",
              "        const buttonEl =\n",
              "          document.querySelector('#df-824e561d-b6f0-46ba-8087-6b95d4c89b09 button.colab-df-convert');\n",
              "        buttonEl.style.display =\n",
              "          google.colab.kernel.accessAllowed ? 'block' : 'none';\n",
              "\n",
              "        async function convertToInteractive(key) {\n",
              "          const element = document.querySelector('#df-824e561d-b6f0-46ba-8087-6b95d4c89b09');\n",
              "          const dataTable =\n",
              "            await google.colab.kernel.invokeFunction('convertToInteractive',\n",
              "                                                     [key], {});\n",
              "          if (!dataTable) return;\n",
              "\n",
              "          const docLinkHtml = 'Like what you see? Visit the ' +\n",
              "            '<a target=\"_blank\" href=https://colab.research.google.com/notebooks/data_table.ipynb>data table notebook</a>'\n",
              "            + ' to learn more about interactive tables.';\n",
              "          element.innerHTML = '';\n",
              "          dataTable['output_type'] = 'display_data';\n",
              "          await google.colab.output.renderOutput(dataTable, element);\n",
              "          const docLink = document.createElement('div');\n",
              "          docLink.innerHTML = docLinkHtml;\n",
              "          element.appendChild(docLink);\n",
              "        }\n",
              "      </script>\n",
              "    </div>\n",
              "  </div>\n",
              "  "
            ]
          },
          "metadata": {},
          "execution_count": 36
        }
      ]
    },
    {
      "cell_type": "code",
      "source": [
        "df_caracteristicas_deputados_geral = pd.merge(df_votos_deputados, df_proposicoes_temas_deputados, left_on='id_deputado', right_on='id_deputado', suffixes=('', '_df_temas'))\n",
        "df_caracteristicas_deputados_geral"
      ],
      "metadata": {
        "colab": {
          "base_uri": "https://localhost:8080/"
        },
        "id": "WVYdDv_ViLrt",
        "outputId": "e7e4b6e5-353f-457a-e8d4-3ca5dbd57c6c"
      },
      "execution_count": null,
      "outputs": [
        {
          "output_type": "execute_result",
          "data": {
            "text/plain": [
              "     id_deputado             nome   siglaPartido siglaUf Votacao 2301683-33  \\\n",
              "0         220593   Abilio Brunini             PL      MT                Sim   \n",
              "1         204379   Acácio Favacho            MDB      AP                Não   \n",
              "2         220714      Adail Filho   REPUBLICANOS      AM              Vazio   \n",
              "3         221328  Adilson Barroso             PL      SP              Vazio   \n",
              "4         204560     Adolfo Viana           PSDB      BA              Vazio   \n",
              "..           ...              ...            ...     ...                ...   \n",
              "508       160632         Zé Silva  SOLIDARIEDADE      MG                Não   \n",
              "509       220558        Zé Trovão             PL      SC                Sim   \n",
              "510       204517         Zé Vitor             PL      MG              Vazio   \n",
              "511       160592      Zeca Dirceu             PT      PR              Vazio   \n",
              "512       220592  Zezinho Barbary             PP      AC              Vazio   \n",
              "\n",
              "    Votacao 2350702-8 Votacao 2350706-6 Votacao 2351332-7    nome_df_temas  \\\n",
              "0                 Sim             Vazio               Não   Abilio Brunini   \n",
              "1                 Sim               Sim             Vazio   Acácio Favacho   \n",
              "2                 Sim               Não               Sim      Adail Filho   \n",
              "3                 Sim             Vazio               Sim  Adilson Barroso   \n",
              "4               Vazio             Vazio             Vazio     Adolfo Viana   \n",
              "..                ...               ...               ...              ...   \n",
              "508               Sim               Sim               Sim         Zé Silva   \n",
              "509               Sim               Não               Não        Zé Trovão   \n",
              "510             Vazio               Sim               Sim         Zé Vitor   \n",
              "511             Vazio             Vazio               Sim      Zeca Dirceu   \n",
              "512               Sim             Vazio               Sim  Zezinho Barbary   \n",
              "\n",
              "                                           proposicoes  \\\n",
              "0    [2352557, 2352553, 2352549, 2352547, 2352524, ...   \n",
              "1    [2352547, 2352545, 2352541, 2352476, 2352473, ...   \n",
              "2    [2352559, 2352556, 2352549, 2352548, 2352547, ...   \n",
              "3    [2352062, 2352046, 2351960, 2351680, 2351620, ...   \n",
              "4    [2352559, 2352547, 2352545, 2352514, 2352501, ...   \n",
              "..                                                 ...   \n",
              "508  [2352559, 2352557, 2352549, 2352545, 2352473, ...   \n",
              "509  [2352549, 2352545, 2352541, 2352524, 2352521, ...   \n",
              "510  [2352596, 2352557, 2352556, 2352476, 2352049, ...   \n",
              "511  [2352556, 2352547, 2352445, 2352444, 2351948, ...   \n",
              "512  [2352557, 2352553, 2352545, 2352473, 2352322, ...   \n",
              "\n",
              "                                     temas_proposicoes  \n",
              "0    [Sem tema, Sem tema, Sem tema, Sem tema, Sem t...  \n",
              "1    [Sem tema, Sem tema, Sem tema, [Direitos Human...  \n",
              "2    [Sem tema, Sem tema, Sem tema, Sem tema, Sem t...  \n",
              "3    [Sem tema, Sem tema, Sem tema, [Direito Penal ...  \n",
              "4    [Sem tema, Sem tema, Sem tema, Sem tema, Sem t...  \n",
              "..                                                 ...  \n",
              "508  [Sem tema, Sem tema, Sem tema, Sem tema, Sem t...  \n",
              "509  [Sem tema, Sem tema, Sem tema, Sem tema, Sem t...  \n",
              "510  [Sem tema, Sem tema, Sem tema, [Direitos Human...  \n",
              "511  [Sem tema, Sem tema, Sem tema, Sem tema, Sem t...  \n",
              "512  [Sem tema, Sem tema, Sem tema, Sem tema, Sem t...  \n",
              "\n",
              "[513 rows x 11 columns]"
            ],
            "text/html": [
              "\n",
              "  <div id=\"df-09f94128-8e1e-45f9-97c1-1a3c47cd026b\">\n",
              "    <div class=\"colab-df-container\">\n",
              "      <div>\n",
              "<style scoped>\n",
              "    .dataframe tbody tr th:only-of-type {\n",
              "        vertical-align: middle;\n",
              "    }\n",
              "\n",
              "    .dataframe tbody tr th {\n",
              "        vertical-align: top;\n",
              "    }\n",
              "\n",
              "    .dataframe thead th {\n",
              "        text-align: right;\n",
              "    }\n",
              "</style>\n",
              "<table border=\"1\" class=\"dataframe\">\n",
              "  <thead>\n",
              "    <tr style=\"text-align: right;\">\n",
              "      <th></th>\n",
              "      <th>id_deputado</th>\n",
              "      <th>nome</th>\n",
              "      <th>siglaPartido</th>\n",
              "      <th>siglaUf</th>\n",
              "      <th>Votacao 2301683-33</th>\n",
              "      <th>Votacao 2350702-8</th>\n",
              "      <th>Votacao 2350706-6</th>\n",
              "      <th>Votacao 2351332-7</th>\n",
              "      <th>nome_df_temas</th>\n",
              "      <th>proposicoes</th>\n",
              "      <th>temas_proposicoes</th>\n",
              "    </tr>\n",
              "  </thead>\n",
              "  <tbody>\n",
              "    <tr>\n",
              "      <th>0</th>\n",
              "      <td>220593</td>\n",
              "      <td>Abilio Brunini</td>\n",
              "      <td>PL</td>\n",
              "      <td>MT</td>\n",
              "      <td>Sim</td>\n",
              "      <td>Sim</td>\n",
              "      <td>Vazio</td>\n",
              "      <td>Não</td>\n",
              "      <td>Abilio Brunini</td>\n",
              "      <td>[2352557, 2352553, 2352549, 2352547, 2352524, ...</td>\n",
              "      <td>[Sem tema, Sem tema, Sem tema, Sem tema, Sem t...</td>\n",
              "    </tr>\n",
              "    <tr>\n",
              "      <th>1</th>\n",
              "      <td>204379</td>\n",
              "      <td>Acácio Favacho</td>\n",
              "      <td>MDB</td>\n",
              "      <td>AP</td>\n",
              "      <td>Não</td>\n",
              "      <td>Sim</td>\n",
              "      <td>Sim</td>\n",
              "      <td>Vazio</td>\n",
              "      <td>Acácio Favacho</td>\n",
              "      <td>[2352547, 2352545, 2352541, 2352476, 2352473, ...</td>\n",
              "      <td>[Sem tema, Sem tema, Sem tema, [Direitos Human...</td>\n",
              "    </tr>\n",
              "    <tr>\n",
              "      <th>2</th>\n",
              "      <td>220714</td>\n",
              "      <td>Adail Filho</td>\n",
              "      <td>REPUBLICANOS</td>\n",
              "      <td>AM</td>\n",
              "      <td>Vazio</td>\n",
              "      <td>Sim</td>\n",
              "      <td>Não</td>\n",
              "      <td>Sim</td>\n",
              "      <td>Adail Filho</td>\n",
              "      <td>[2352559, 2352556, 2352549, 2352548, 2352547, ...</td>\n",
              "      <td>[Sem tema, Sem tema, Sem tema, Sem tema, Sem t...</td>\n",
              "    </tr>\n",
              "    <tr>\n",
              "      <th>3</th>\n",
              "      <td>221328</td>\n",
              "      <td>Adilson Barroso</td>\n",
              "      <td>PL</td>\n",
              "      <td>SP</td>\n",
              "      <td>Vazio</td>\n",
              "      <td>Sim</td>\n",
              "      <td>Vazio</td>\n",
              "      <td>Sim</td>\n",
              "      <td>Adilson Barroso</td>\n",
              "      <td>[2352062, 2352046, 2351960, 2351680, 2351620, ...</td>\n",
              "      <td>[Sem tema, Sem tema, Sem tema, [Direito Penal ...</td>\n",
              "    </tr>\n",
              "    <tr>\n",
              "      <th>4</th>\n",
              "      <td>204560</td>\n",
              "      <td>Adolfo Viana</td>\n",
              "      <td>PSDB</td>\n",
              "      <td>BA</td>\n",
              "      <td>Vazio</td>\n",
              "      <td>Vazio</td>\n",
              "      <td>Vazio</td>\n",
              "      <td>Vazio</td>\n",
              "      <td>Adolfo Viana</td>\n",
              "      <td>[2352559, 2352547, 2352545, 2352514, 2352501, ...</td>\n",
              "      <td>[Sem tema, Sem tema, Sem tema, Sem tema, Sem t...</td>\n",
              "    </tr>\n",
              "    <tr>\n",
              "      <th>...</th>\n",
              "      <td>...</td>\n",
              "      <td>...</td>\n",
              "      <td>...</td>\n",
              "      <td>...</td>\n",
              "      <td>...</td>\n",
              "      <td>...</td>\n",
              "      <td>...</td>\n",
              "      <td>...</td>\n",
              "      <td>...</td>\n",
              "      <td>...</td>\n",
              "      <td>...</td>\n",
              "    </tr>\n",
              "    <tr>\n",
              "      <th>508</th>\n",
              "      <td>160632</td>\n",
              "      <td>Zé Silva</td>\n",
              "      <td>SOLIDARIEDADE</td>\n",
              "      <td>MG</td>\n",
              "      <td>Não</td>\n",
              "      <td>Sim</td>\n",
              "      <td>Sim</td>\n",
              "      <td>Sim</td>\n",
              "      <td>Zé Silva</td>\n",
              "      <td>[2352559, 2352557, 2352549, 2352545, 2352473, ...</td>\n",
              "      <td>[Sem tema, Sem tema, Sem tema, Sem tema, Sem t...</td>\n",
              "    </tr>\n",
              "    <tr>\n",
              "      <th>509</th>\n",
              "      <td>220558</td>\n",
              "      <td>Zé Trovão</td>\n",
              "      <td>PL</td>\n",
              "      <td>SC</td>\n",
              "      <td>Sim</td>\n",
              "      <td>Sim</td>\n",
              "      <td>Não</td>\n",
              "      <td>Não</td>\n",
              "      <td>Zé Trovão</td>\n",
              "      <td>[2352549, 2352545, 2352541, 2352524, 2352521, ...</td>\n",
              "      <td>[Sem tema, Sem tema, Sem tema, Sem tema, Sem t...</td>\n",
              "    </tr>\n",
              "    <tr>\n",
              "      <th>510</th>\n",
              "      <td>204517</td>\n",
              "      <td>Zé Vitor</td>\n",
              "      <td>PL</td>\n",
              "      <td>MG</td>\n",
              "      <td>Vazio</td>\n",
              "      <td>Vazio</td>\n",
              "      <td>Sim</td>\n",
              "      <td>Sim</td>\n",
              "      <td>Zé Vitor</td>\n",
              "      <td>[2352596, 2352557, 2352556, 2352476, 2352049, ...</td>\n",
              "      <td>[Sem tema, Sem tema, Sem tema, [Direitos Human...</td>\n",
              "    </tr>\n",
              "    <tr>\n",
              "      <th>511</th>\n",
              "      <td>160592</td>\n",
              "      <td>Zeca Dirceu</td>\n",
              "      <td>PT</td>\n",
              "      <td>PR</td>\n",
              "      <td>Vazio</td>\n",
              "      <td>Vazio</td>\n",
              "      <td>Vazio</td>\n",
              "      <td>Sim</td>\n",
              "      <td>Zeca Dirceu</td>\n",
              "      <td>[2352556, 2352547, 2352445, 2352444, 2351948, ...</td>\n",
              "      <td>[Sem tema, Sem tema, Sem tema, Sem tema, Sem t...</td>\n",
              "    </tr>\n",
              "    <tr>\n",
              "      <th>512</th>\n",
              "      <td>220592</td>\n",
              "      <td>Zezinho Barbary</td>\n",
              "      <td>PP</td>\n",
              "      <td>AC</td>\n",
              "      <td>Vazio</td>\n",
              "      <td>Sim</td>\n",
              "      <td>Vazio</td>\n",
              "      <td>Sim</td>\n",
              "      <td>Zezinho Barbary</td>\n",
              "      <td>[2352557, 2352553, 2352545, 2352473, 2352322, ...</td>\n",
              "      <td>[Sem tema, Sem tema, Sem tema, Sem tema, Sem t...</td>\n",
              "    </tr>\n",
              "  </tbody>\n",
              "</table>\n",
              "<p>513 rows × 11 columns</p>\n",
              "</div>\n",
              "      <button class=\"colab-df-convert\" onclick=\"convertToInteractive('df-09f94128-8e1e-45f9-97c1-1a3c47cd026b')\"\n",
              "              title=\"Convert this dataframe to an interactive table.\"\n",
              "              style=\"display:none;\">\n",
              "        \n",
              "  <svg xmlns=\"http://www.w3.org/2000/svg\" height=\"24px\"viewBox=\"0 0 24 24\"\n",
              "       width=\"24px\">\n",
              "    <path d=\"M0 0h24v24H0V0z\" fill=\"none\"/>\n",
              "    <path d=\"M18.56 5.44l.94 2.06.94-2.06 2.06-.94-2.06-.94-.94-2.06-.94 2.06-2.06.94zm-11 1L8.5 8.5l.94-2.06 2.06-.94-2.06-.94L8.5 2.5l-.94 2.06-2.06.94zm10 10l.94 2.06.94-2.06 2.06-.94-2.06-.94-.94-2.06-.94 2.06-2.06.94z\"/><path d=\"M17.41 7.96l-1.37-1.37c-.4-.4-.92-.59-1.43-.59-.52 0-1.04.2-1.43.59L10.3 9.45l-7.72 7.72c-.78.78-.78 2.05 0 2.83L4 21.41c.39.39.9.59 1.41.59.51 0 1.02-.2 1.41-.59l7.78-7.78 2.81-2.81c.8-.78.8-2.07 0-2.86zM5.41 20L4 18.59l7.72-7.72 1.47 1.35L5.41 20z\"/>\n",
              "  </svg>\n",
              "      </button>\n",
              "      \n",
              "  <style>\n",
              "    .colab-df-container {\n",
              "      display:flex;\n",
              "      flex-wrap:wrap;\n",
              "      gap: 12px;\n",
              "    }\n",
              "\n",
              "    .colab-df-convert {\n",
              "      background-color: #E8F0FE;\n",
              "      border: none;\n",
              "      border-radius: 50%;\n",
              "      cursor: pointer;\n",
              "      display: none;\n",
              "      fill: #1967D2;\n",
              "      height: 32px;\n",
              "      padding: 0 0 0 0;\n",
              "      width: 32px;\n",
              "    }\n",
              "\n",
              "    .colab-df-convert:hover {\n",
              "      background-color: #E2EBFA;\n",
              "      box-shadow: 0px 1px 2px rgba(60, 64, 67, 0.3), 0px 1px 3px 1px rgba(60, 64, 67, 0.15);\n",
              "      fill: #174EA6;\n",
              "    }\n",
              "\n",
              "    [theme=dark] .colab-df-convert {\n",
              "      background-color: #3B4455;\n",
              "      fill: #D2E3FC;\n",
              "    }\n",
              "\n",
              "    [theme=dark] .colab-df-convert:hover {\n",
              "      background-color: #434B5C;\n",
              "      box-shadow: 0px 1px 3px 1px rgba(0, 0, 0, 0.15);\n",
              "      filter: drop-shadow(0px 1px 2px rgba(0, 0, 0, 0.3));\n",
              "      fill: #FFFFFF;\n",
              "    }\n",
              "  </style>\n",
              "\n",
              "      <script>\n",
              "        const buttonEl =\n",
              "          document.querySelector('#df-09f94128-8e1e-45f9-97c1-1a3c47cd026b button.colab-df-convert');\n",
              "        buttonEl.style.display =\n",
              "          google.colab.kernel.accessAllowed ? 'block' : 'none';\n",
              "\n",
              "        async function convertToInteractive(key) {\n",
              "          const element = document.querySelector('#df-09f94128-8e1e-45f9-97c1-1a3c47cd026b');\n",
              "          const dataTable =\n",
              "            await google.colab.kernel.invokeFunction('convertToInteractive',\n",
              "                                                     [key], {});\n",
              "          if (!dataTable) return;\n",
              "\n",
              "          const docLinkHtml = 'Like what you see? Visit the ' +\n",
              "            '<a target=\"_blank\" href=https://colab.research.google.com/notebooks/data_table.ipynb>data table notebook</a>'\n",
              "            + ' to learn more about interactive tables.';\n",
              "          element.innerHTML = '';\n",
              "          dataTable['output_type'] = 'display_data';\n",
              "          await google.colab.output.renderOutput(dataTable, element);\n",
              "          const docLink = document.createElement('div');\n",
              "          docLink.innerHTML = docLinkHtml;\n",
              "          element.appendChild(docLink);\n",
              "        }\n",
              "      </script>\n",
              "    </div>\n",
              "  </div>\n",
              "  "
            ]
          },
          "metadata": {},
          "execution_count": 37
        }
      ]
    },
    {
      "cell_type": "markdown",
      "source": [
        "# Codifica Colunas com características categóricas"
      ],
      "metadata": {
        "id": "lGmUcWHhmItc"
      }
    },
    {
      "cell_type": "markdown",
      "source": [
        "## Colunas de votação"
      ],
      "metadata": {
        "id": "YkIh4PATmwsN"
      }
    },
    {
      "cell_type": "code",
      "source": [
        "# Votacao 2301683-33\tVotacao 2350702-8\tVotacao 2350706-6\tVotacao 2351332-7"
      ],
      "metadata": {
        "id": "FYgd5zwDxF6R"
      },
      "execution_count": null,
      "outputs": []
    },
    {
      "cell_type": "code",
      "source": [
        "print(len(df_caracteristicas_deputados_geral['Votacao 2301683-33']))\n",
        "print(len(df_caracteristicas_deputados_geral['Votacao 2350702-8']))\n",
        "print(len(df_caracteristicas_deputados_geral['Votacao 2350706-6']))\n",
        "print(len(df_caracteristicas_deputados_geral['Votacao 2351332-7']))"
      ],
      "metadata": {
        "colab": {
          "base_uri": "https://localhost:8080/"
        },
        "id": "oIxsGe1qxz42",
        "outputId": "51e173d8-e889-4160-a95e-cebba51c894d"
      },
      "execution_count": null,
      "outputs": [
        {
          "output_type": "stream",
          "name": "stdout",
          "text": [
            "513\n",
            "513\n",
            "513\n",
            "513\n"
          ]
        }
      ]
    },
    {
      "cell_type": "code",
      "source": [
        "tipo_voto_codificado = np.concatenate((df_caracteristicas_deputados_geral['Votacao 2301683-33'].values, df_caracteristicas_deputados_geral['Votacao 2350702-8'].values), axis=0)\n",
        "tipo_voto_codificado = np.concatenate((tipo_voto_codificado, df_caracteristicas_deputados_geral['Votacao 2350706-6'].values), axis=0)\n",
        "tipo_voto_codificado = np.concatenate((tipo_voto_codificado, df_caracteristicas_deputados_geral['Votacao 2351332-7'].values), axis=0)\n",
        "tipo_voto_codificado = pd.factorize(tipo_voto_codificado)[0]\n",
        "print(len(tipo_voto_codificado))\n",
        "tipo_voto_codificado"
      ],
      "metadata": {
        "colab": {
          "base_uri": "https://localhost:8080/"
        },
        "id": "yrcMDLJTmPFn",
        "outputId": "2fc34835-47e0-452f-cac5-b4652395fece"
      },
      "execution_count": null,
      "outputs": [
        {
          "output_type": "stream",
          "name": "stdout",
          "text": [
            "2052\n"
          ]
        },
        {
          "output_type": "execute_result",
          "data": {
            "text/plain": [
              "array([0, 1, 2, ..., 0, 0, 0])"
            ]
          },
          "metadata": {},
          "execution_count": 40
        }
      ]
    },
    {
      "cell_type": "code",
      "source": [
        "n_cols = 4\n",
        "limite = []\n",
        "\n",
        "for i in range(len(df_caracteristicas_deputados_geral), n_cols * len(df_caracteristicas_deputados_geral), len(df_caracteristicas_deputados_geral)):\n",
        "  print(i, end='   ')\n",
        "  limite.append(i)"
      ],
      "metadata": {
        "colab": {
          "base_uri": "https://localhost:8080/"
        },
        "id": "5ZQFY9k-oZ_I",
        "outputId": "562fae77-89a2-4534-c235-e590ce3aed4a"
      },
      "execution_count": null,
      "outputs": [
        {
          "output_type": "stream",
          "name": "stdout",
          "text": [
            "513   1026   1539   "
          ]
        }
      ]
    },
    {
      "cell_type": "code",
      "source": [
        "lista_votacao_codificado_2301683_33 = tipo_voto_codificado[:limite[0]]\n",
        "lista_votacao_codificado_2350702_8 = tipo_voto_codificado[limite[0] : limite[1]]\n",
        "lista_votacao_codificado_2350706_6 = tipo_voto_codificado[limite[1] : limite[2]]\n",
        "lista_votacao_codificado_2351332_7 = tipo_voto_codificado[limite[2] : ]\n",
        "\n",
        "print(len(lista_votacao_codificado_2301683_33))\n",
        "print(len(lista_votacao_codificado_2350702_8))\n",
        "print(len(lista_votacao_codificado_2350706_6))\n",
        "print(len(lista_votacao_codificado_2351332_7))"
      ],
      "metadata": {
        "colab": {
          "base_uri": "https://localhost:8080/"
        },
        "id": "Mp8QDaMamPII",
        "outputId": "b9a1585c-76cc-467f-ddfb-1ac643c3b1ec"
      },
      "execution_count": null,
      "outputs": [
        {
          "output_type": "stream",
          "name": "stdout",
          "text": [
            "513\n",
            "513\n",
            "513\n",
            "513\n"
          ]
        }
      ]
    },
    {
      "cell_type": "markdown",
      "source": [
        "## Coluna Estado e Partido"
      ],
      "metadata": {
        "id": "g66SHLcUpmSF"
      }
    },
    {
      "cell_type": "code",
      "source": [
        "dados_para_codificar = df_caracteristicas_deputados_geral.loc[:, ['siglaUf']]\n",
        "dados_para_codificar"
      ],
      "metadata": {
        "colab": {
          "base_uri": "https://localhost:8080/",
          "height": 424
        },
        "id": "8855moujpqp1",
        "outputId": "71a8b18b-7680-41e0-9d44-8fbbe6812582"
      },
      "execution_count": null,
      "outputs": [
        {
          "output_type": "execute_result",
          "data": {
            "text/plain": [
              "    siglaUf\n",
              "0        MT\n",
              "1        AP\n",
              "2        AM\n",
              "3        SP\n",
              "4        BA\n",
              "..      ...\n",
              "508      MG\n",
              "509      SC\n",
              "510      MG\n",
              "511      PR\n",
              "512      AC\n",
              "\n",
              "[513 rows x 1 columns]"
            ],
            "text/html": [
              "\n",
              "  <div id=\"df-bf1dd677-9d2e-4c05-b07c-b67d5e8252f0\">\n",
              "    <div class=\"colab-df-container\">\n",
              "      <div>\n",
              "<style scoped>\n",
              "    .dataframe tbody tr th:only-of-type {\n",
              "        vertical-align: middle;\n",
              "    }\n",
              "\n",
              "    .dataframe tbody tr th {\n",
              "        vertical-align: top;\n",
              "    }\n",
              "\n",
              "    .dataframe thead th {\n",
              "        text-align: right;\n",
              "    }\n",
              "</style>\n",
              "<table border=\"1\" class=\"dataframe\">\n",
              "  <thead>\n",
              "    <tr style=\"text-align: right;\">\n",
              "      <th></th>\n",
              "      <th>siglaUf</th>\n",
              "    </tr>\n",
              "  </thead>\n",
              "  <tbody>\n",
              "    <tr>\n",
              "      <th>0</th>\n",
              "      <td>MT</td>\n",
              "    </tr>\n",
              "    <tr>\n",
              "      <th>1</th>\n",
              "      <td>AP</td>\n",
              "    </tr>\n",
              "    <tr>\n",
              "      <th>2</th>\n",
              "      <td>AM</td>\n",
              "    </tr>\n",
              "    <tr>\n",
              "      <th>3</th>\n",
              "      <td>SP</td>\n",
              "    </tr>\n",
              "    <tr>\n",
              "      <th>4</th>\n",
              "      <td>BA</td>\n",
              "    </tr>\n",
              "    <tr>\n",
              "      <th>...</th>\n",
              "      <td>...</td>\n",
              "    </tr>\n",
              "    <tr>\n",
              "      <th>508</th>\n",
              "      <td>MG</td>\n",
              "    </tr>\n",
              "    <tr>\n",
              "      <th>509</th>\n",
              "      <td>SC</td>\n",
              "    </tr>\n",
              "    <tr>\n",
              "      <th>510</th>\n",
              "      <td>MG</td>\n",
              "    </tr>\n",
              "    <tr>\n",
              "      <th>511</th>\n",
              "      <td>PR</td>\n",
              "    </tr>\n",
              "    <tr>\n",
              "      <th>512</th>\n",
              "      <td>AC</td>\n",
              "    </tr>\n",
              "  </tbody>\n",
              "</table>\n",
              "<p>513 rows × 1 columns</p>\n",
              "</div>\n",
              "      <button class=\"colab-df-convert\" onclick=\"convertToInteractive('df-bf1dd677-9d2e-4c05-b07c-b67d5e8252f0')\"\n",
              "              title=\"Convert this dataframe to an interactive table.\"\n",
              "              style=\"display:none;\">\n",
              "        \n",
              "  <svg xmlns=\"http://www.w3.org/2000/svg\" height=\"24px\"viewBox=\"0 0 24 24\"\n",
              "       width=\"24px\">\n",
              "    <path d=\"M0 0h24v24H0V0z\" fill=\"none\"/>\n",
              "    <path d=\"M18.56 5.44l.94 2.06.94-2.06 2.06-.94-2.06-.94-.94-2.06-.94 2.06-2.06.94zm-11 1L8.5 8.5l.94-2.06 2.06-.94-2.06-.94L8.5 2.5l-.94 2.06-2.06.94zm10 10l.94 2.06.94-2.06 2.06-.94-2.06-.94-.94-2.06-.94 2.06-2.06.94z\"/><path d=\"M17.41 7.96l-1.37-1.37c-.4-.4-.92-.59-1.43-.59-.52 0-1.04.2-1.43.59L10.3 9.45l-7.72 7.72c-.78.78-.78 2.05 0 2.83L4 21.41c.39.39.9.59 1.41.59.51 0 1.02-.2 1.41-.59l7.78-7.78 2.81-2.81c.8-.78.8-2.07 0-2.86zM5.41 20L4 18.59l7.72-7.72 1.47 1.35L5.41 20z\"/>\n",
              "  </svg>\n",
              "      </button>\n",
              "      \n",
              "  <style>\n",
              "    .colab-df-container {\n",
              "      display:flex;\n",
              "      flex-wrap:wrap;\n",
              "      gap: 12px;\n",
              "    }\n",
              "\n",
              "    .colab-df-convert {\n",
              "      background-color: #E8F0FE;\n",
              "      border: none;\n",
              "      border-radius: 50%;\n",
              "      cursor: pointer;\n",
              "      display: none;\n",
              "      fill: #1967D2;\n",
              "      height: 32px;\n",
              "      padding: 0 0 0 0;\n",
              "      width: 32px;\n",
              "    }\n",
              "\n",
              "    .colab-df-convert:hover {\n",
              "      background-color: #E2EBFA;\n",
              "      box-shadow: 0px 1px 2px rgba(60, 64, 67, 0.3), 0px 1px 3px 1px rgba(60, 64, 67, 0.15);\n",
              "      fill: #174EA6;\n",
              "    }\n",
              "\n",
              "    [theme=dark] .colab-df-convert {\n",
              "      background-color: #3B4455;\n",
              "      fill: #D2E3FC;\n",
              "    }\n",
              "\n",
              "    [theme=dark] .colab-df-convert:hover {\n",
              "      background-color: #434B5C;\n",
              "      box-shadow: 0px 1px 3px 1px rgba(0, 0, 0, 0.15);\n",
              "      filter: drop-shadow(0px 1px 2px rgba(0, 0, 0, 0.3));\n",
              "      fill: #FFFFFF;\n",
              "    }\n",
              "  </style>\n",
              "\n",
              "      <script>\n",
              "        const buttonEl =\n",
              "          document.querySelector('#df-bf1dd677-9d2e-4c05-b07c-b67d5e8252f0 button.colab-df-convert');\n",
              "        buttonEl.style.display =\n",
              "          google.colab.kernel.accessAllowed ? 'block' : 'none';\n",
              "\n",
              "        async function convertToInteractive(key) {\n",
              "          const element = document.querySelector('#df-bf1dd677-9d2e-4c05-b07c-b67d5e8252f0');\n",
              "          const dataTable =\n",
              "            await google.colab.kernel.invokeFunction('convertToInteractive',\n",
              "                                                     [key], {});\n",
              "          if (!dataTable) return;\n",
              "\n",
              "          const docLinkHtml = 'Like what you see? Visit the ' +\n",
              "            '<a target=\"_blank\" href=https://colab.research.google.com/notebooks/data_table.ipynb>data table notebook</a>'\n",
              "            + ' to learn more about interactive tables.';\n",
              "          element.innerHTML = '';\n",
              "          dataTable['output_type'] = 'display_data';\n",
              "          await google.colab.output.renderOutput(dataTable, element);\n",
              "          const docLink = document.createElement('div');\n",
              "          docLink.innerHTML = docLinkHtml;\n",
              "          element.appendChild(docLink);\n",
              "        }\n",
              "      </script>\n",
              "    </div>\n",
              "  </div>\n",
              "  "
            ]
          },
          "metadata": {},
          "execution_count": 13
        }
      ]
    },
    {
      "cell_type": "code",
      "source": [
        "enc = OneHotEncoder()\n",
        "enc.fit(dados_para_codificar)\n",
        "uf_codificado = enc.transform(dados_para_codificar).toarray()\n",
        "print(uf_codificado.shape)\n",
        "uf_codificado"
      ],
      "metadata": {
        "colab": {
          "base_uri": "https://localhost:8080/"
        },
        "id": "XnT9XWbCpqsc",
        "outputId": "118b604c-1b8c-4a7f-9585-77b2f54f65ef"
      },
      "execution_count": null,
      "outputs": [
        {
          "output_type": "stream",
          "name": "stdout",
          "text": [
            "(513, 27)\n"
          ]
        },
        {
          "output_type": "execute_result",
          "data": {
            "text/plain": [
              "array([[0., 0., 0., ..., 0., 0., 0.],\n",
              "       [0., 0., 0., ..., 0., 0., 0.],\n",
              "       [0., 0., 1., ..., 0., 0., 0.],\n",
              "       ...,\n",
              "       [0., 0., 0., ..., 0., 0., 0.],\n",
              "       [0., 0., 0., ..., 0., 0., 0.],\n",
              "       [1., 0., 0., ..., 0., 0., 0.]])"
            ]
          },
          "metadata": {},
          "execution_count": 91
        }
      ]
    },
    {
      "cell_type": "code",
      "source": [
        "uf_codificado = pd.factorize(np.ravel(dados_para_codificar.values))[0]\n",
        "uf_codificado"
      ],
      "metadata": {
        "colab": {
          "base_uri": "https://localhost:8080/"
        },
        "id": "0rTd_7lJ7GXS",
        "outputId": "29a2f465-a40e-4451-fbbd-97df8904d287"
      },
      "execution_count": null,
      "outputs": [
        {
          "output_type": "execute_result",
          "data": {
            "text/plain": [
              "array([ 0,  1,  2,  3,  4,  3,  5,  6,  7,  7,  8,  9, 10, 11,  3, 12,  7,\n",
              "        3,  3,  4, 13,  3,  7,  3, 14,  4, 15, 16, 17,  0, 17, 18,  2,  6,\n",
              "       19,  6, 10, 20, 10, 17,  6,  9, 21, 13,  4,  3,  9,  7,  3,  3, 14,\n",
              "        4,  2, 22, 20,  1, 16,  4,  3, 16, 16, 16, 23, 24, 15, 15, 11,  7,\n",
              "        7,  6,  3,  8, 24,  2,  4,  3,  3, 19,  7, 13, 16,  3, 20,  3, 15,\n",
              "       19, 22,  6,  5, 10,  3,  9,  3,  4, 16, 16, 16, 20,  4, 17, 20, 19,\n",
              "        0, 25,  0, 20,  3, 21,  7, 25, 18, 24,  7,  4,  8,  6, 16,  5,  4,\n",
              "       14, 19, 16,  7, 19, 10,  7,  3, 10, 12,  5,  6, 26,  9,  3,  9, 14,\n",
              "        6, 15,  3,  3, 16, 15,  7, 17,  6,  4, 15, 15,  9,  6, 16, 10,  6,\n",
              "        1, 17, 25, 22,  6, 10, 24, 18,  5,  9, 17, 12,  6, 10,  3, 20, 21,\n",
              "        9, 13,  4,  0,  6, 15, 20,  3, 11,  6,  6, 10, 18,  0, 17, 26, 19,\n",
              "        3,  3,  2,  3, 20, 15,  4,  7, 10, 20, 23, 20, 20, 15, 13,  5, 22,\n",
              "       22,  7,  6, 11,  4, 23, 16, 19, 15, 24, 21,  8, 15,  6,  3, 18, 19,\n",
              "       18, 11,  7, 16,  5, 15,  6,  3, 20,  5, 26, 16,  7, 18, 12, 16,  9,\n",
              "        6, 16,  8, 26, 10,  6, 19,  5, 14,  3,  4, 20, 18, 22, 16,  5,  3,\n",
              "       12,  3,  4, 26,  4, 23,  9,  3, 16, 19,  4, 10, 10,  0,  5,  9,  4,\n",
              "        4,  1,  4, 17, 17,  0, 19,  3, 22, 22, 11, 16, 16,  6,  9, 17, 10,\n",
              "        9,  3,  3,  6, 16, 13, 25,  5,  4,  6,  4,  4,  6, 16, 20,  7, 14,\n",
              "       20, 15, 16, 25, 16,  6, 15, 16,  7,  3,  8,  6, 10, 16, 15,  3,  3,\n",
              "       10, 20,  5,  3,  7,  6, 16,  3,  7, 16,  3,  7, 17, 17,  4,  3, 15,\n",
              "        7, 22,  3, 24, 16, 16, 20,  7,  3,  3,  6,  4, 17,  5, 14, 10, 25,\n",
              "        6,  7,  3, 10, 16, 21, 20, 22,  8, 18,  6,  3,  3,  6, 10, 16,  8,\n",
              "       23,  6,  4,  6, 12,  6,  3,  6,  9,  3,  7, 16,  4, 15,  6, 12, 20,\n",
              "       17, 16,  4,  6, 14, 23,  6,  3,  4, 18,  3,  6, 15,  4,  6, 20, 17,\n",
              "       15, 16, 19,  7, 19,  6,  7,  3, 11,  5,  1,  3, 14, 11,  6,  4,  9,\n",
              "        6,  7, 16,  3,  9, 20, 16, 13, 19,  4,  3,  3, 10,  4, 21, 16, 23,\n",
              "       24,  6, 15,  3, 26,  4,  6,  8,  3,  3,  6, 17,  5, 17,  3,  8,  3,\n",
              "        6,  7, 15, 15, 23, 16,  2, 15,  2,  2, 25,  1, 20,  5,  3, 21,  1,\n",
              "       16, 16,  6,  3, 15, 16, 16,  7, 26, 25, 15,  3, 15, 20,  4, 24, 15,\n",
              "        3, 13,  3,  1,  3, 20,  4, 16,  6,  8,  8, 26, 10, 12,  4,  6, 19,\n",
              "        6, 15, 21])"
            ]
          },
          "metadata": {},
          "execution_count": 14
        }
      ]
    },
    {
      "cell_type": "code",
      "source": [
        "dados_para_codificar = df_caracteristicas_deputados_geral.loc[:, ['siglaPartido']]\n",
        "dados_para_codificar"
      ],
      "metadata": {
        "colab": {
          "base_uri": "https://localhost:8080/",
          "height": 424
        },
        "id": "WhnKAH-QqKMS",
        "outputId": "dc863afa-d6e1-4c77-e2ce-95b44ea93f7d"
      },
      "execution_count": null,
      "outputs": [
        {
          "output_type": "execute_result",
          "data": {
            "text/plain": [
              "      siglaPartido\n",
              "0               PL\n",
              "1              MDB\n",
              "2     REPUBLICANOS\n",
              "3               PL\n",
              "4             PSDB\n",
              "..             ...\n",
              "508  SOLIDARIEDADE\n",
              "509             PL\n",
              "510             PL\n",
              "511             PT\n",
              "512             PP\n",
              "\n",
              "[513 rows x 1 columns]"
            ],
            "text/html": [
              "\n",
              "  <div id=\"df-47ec540f-d42b-4092-b8bb-0b64dd8e1a19\">\n",
              "    <div class=\"colab-df-container\">\n",
              "      <div>\n",
              "<style scoped>\n",
              "    .dataframe tbody tr th:only-of-type {\n",
              "        vertical-align: middle;\n",
              "    }\n",
              "\n",
              "    .dataframe tbody tr th {\n",
              "        vertical-align: top;\n",
              "    }\n",
              "\n",
              "    .dataframe thead th {\n",
              "        text-align: right;\n",
              "    }\n",
              "</style>\n",
              "<table border=\"1\" class=\"dataframe\">\n",
              "  <thead>\n",
              "    <tr style=\"text-align: right;\">\n",
              "      <th></th>\n",
              "      <th>siglaPartido</th>\n",
              "    </tr>\n",
              "  </thead>\n",
              "  <tbody>\n",
              "    <tr>\n",
              "      <th>0</th>\n",
              "      <td>PL</td>\n",
              "    </tr>\n",
              "    <tr>\n",
              "      <th>1</th>\n",
              "      <td>MDB</td>\n",
              "    </tr>\n",
              "    <tr>\n",
              "      <th>2</th>\n",
              "      <td>REPUBLICANOS</td>\n",
              "    </tr>\n",
              "    <tr>\n",
              "      <th>3</th>\n",
              "      <td>PL</td>\n",
              "    </tr>\n",
              "    <tr>\n",
              "      <th>4</th>\n",
              "      <td>PSDB</td>\n",
              "    </tr>\n",
              "    <tr>\n",
              "      <th>...</th>\n",
              "      <td>...</td>\n",
              "    </tr>\n",
              "    <tr>\n",
              "      <th>508</th>\n",
              "      <td>SOLIDARIEDADE</td>\n",
              "    </tr>\n",
              "    <tr>\n",
              "      <th>509</th>\n",
              "      <td>PL</td>\n",
              "    </tr>\n",
              "    <tr>\n",
              "      <th>510</th>\n",
              "      <td>PL</td>\n",
              "    </tr>\n",
              "    <tr>\n",
              "      <th>511</th>\n",
              "      <td>PT</td>\n",
              "    </tr>\n",
              "    <tr>\n",
              "      <th>512</th>\n",
              "      <td>PP</td>\n",
              "    </tr>\n",
              "  </tbody>\n",
              "</table>\n",
              "<p>513 rows × 1 columns</p>\n",
              "</div>\n",
              "      <button class=\"colab-df-convert\" onclick=\"convertToInteractive('df-47ec540f-d42b-4092-b8bb-0b64dd8e1a19')\"\n",
              "              title=\"Convert this dataframe to an interactive table.\"\n",
              "              style=\"display:none;\">\n",
              "        \n",
              "  <svg xmlns=\"http://www.w3.org/2000/svg\" height=\"24px\"viewBox=\"0 0 24 24\"\n",
              "       width=\"24px\">\n",
              "    <path d=\"M0 0h24v24H0V0z\" fill=\"none\"/>\n",
              "    <path d=\"M18.56 5.44l.94 2.06.94-2.06 2.06-.94-2.06-.94-.94-2.06-.94 2.06-2.06.94zm-11 1L8.5 8.5l.94-2.06 2.06-.94-2.06-.94L8.5 2.5l-.94 2.06-2.06.94zm10 10l.94 2.06.94-2.06 2.06-.94-2.06-.94-.94-2.06-.94 2.06-2.06.94z\"/><path d=\"M17.41 7.96l-1.37-1.37c-.4-.4-.92-.59-1.43-.59-.52 0-1.04.2-1.43.59L10.3 9.45l-7.72 7.72c-.78.78-.78 2.05 0 2.83L4 21.41c.39.39.9.59 1.41.59.51 0 1.02-.2 1.41-.59l7.78-7.78 2.81-2.81c.8-.78.8-2.07 0-2.86zM5.41 20L4 18.59l7.72-7.72 1.47 1.35L5.41 20z\"/>\n",
              "  </svg>\n",
              "      </button>\n",
              "      \n",
              "  <style>\n",
              "    .colab-df-container {\n",
              "      display:flex;\n",
              "      flex-wrap:wrap;\n",
              "      gap: 12px;\n",
              "    }\n",
              "\n",
              "    .colab-df-convert {\n",
              "      background-color: #E8F0FE;\n",
              "      border: none;\n",
              "      border-radius: 50%;\n",
              "      cursor: pointer;\n",
              "      display: none;\n",
              "      fill: #1967D2;\n",
              "      height: 32px;\n",
              "      padding: 0 0 0 0;\n",
              "      width: 32px;\n",
              "    }\n",
              "\n",
              "    .colab-df-convert:hover {\n",
              "      background-color: #E2EBFA;\n",
              "      box-shadow: 0px 1px 2px rgba(60, 64, 67, 0.3), 0px 1px 3px 1px rgba(60, 64, 67, 0.15);\n",
              "      fill: #174EA6;\n",
              "    }\n",
              "\n",
              "    [theme=dark] .colab-df-convert {\n",
              "      background-color: #3B4455;\n",
              "      fill: #D2E3FC;\n",
              "    }\n",
              "\n",
              "    [theme=dark] .colab-df-convert:hover {\n",
              "      background-color: #434B5C;\n",
              "      box-shadow: 0px 1px 3px 1px rgba(0, 0, 0, 0.15);\n",
              "      filter: drop-shadow(0px 1px 2px rgba(0, 0, 0, 0.3));\n",
              "      fill: #FFFFFF;\n",
              "    }\n",
              "  </style>\n",
              "\n",
              "      <script>\n",
              "        const buttonEl =\n",
              "          document.querySelector('#df-47ec540f-d42b-4092-b8bb-0b64dd8e1a19 button.colab-df-convert');\n",
              "        buttonEl.style.display =\n",
              "          google.colab.kernel.accessAllowed ? 'block' : 'none';\n",
              "\n",
              "        async function convertToInteractive(key) {\n",
              "          const element = document.querySelector('#df-47ec540f-d42b-4092-b8bb-0b64dd8e1a19');\n",
              "          const dataTable =\n",
              "            await google.colab.kernel.invokeFunction('convertToInteractive',\n",
              "                                                     [key], {});\n",
              "          if (!dataTable) return;\n",
              "\n",
              "          const docLinkHtml = 'Like what you see? Visit the ' +\n",
              "            '<a target=\"_blank\" href=https://colab.research.google.com/notebooks/data_table.ipynb>data table notebook</a>'\n",
              "            + ' to learn more about interactive tables.';\n",
              "          element.innerHTML = '';\n",
              "          dataTable['output_type'] = 'display_data';\n",
              "          await google.colab.output.renderOutput(dataTable, element);\n",
              "          const docLink = document.createElement('div');\n",
              "          docLink.innerHTML = docLinkHtml;\n",
              "          element.appendChild(docLink);\n",
              "        }\n",
              "      </script>\n",
              "    </div>\n",
              "  </div>\n",
              "  "
            ]
          },
          "metadata": {},
          "execution_count": 15
        }
      ]
    },
    {
      "cell_type": "code",
      "source": [
        "enc = OneHotEncoder()\n",
        "enc.fit(dados_para_codificar)\n",
        "partido_codificado = enc.transform(dados_para_codificar).toarray()\n",
        "print(partido_codificado.shape)\n",
        "partido_codificado"
      ],
      "metadata": {
        "colab": {
          "base_uri": "https://localhost:8080/"
        },
        "id": "j8r9GCVpqKPw",
        "outputId": "4f4f2aa7-b8db-401c-aeec-66ac050e86f4"
      },
      "execution_count": null,
      "outputs": [
        {
          "output_type": "stream",
          "name": "stdout",
          "text": [
            "(513, 22)\n"
          ]
        },
        {
          "output_type": "execute_result",
          "data": {
            "text/plain": [
              "array([[0., 0., 0., ..., 0., 0., 0.],\n",
              "       [0., 0., 1., ..., 0., 0., 0.],\n",
              "       [0., 0., 0., ..., 1., 0., 0.],\n",
              "       ...,\n",
              "       [0., 0., 0., ..., 0., 0., 0.],\n",
              "       [0., 0., 0., ..., 0., 0., 0.],\n",
              "       [0., 0., 0., ..., 0., 0., 0.]])"
            ]
          },
          "metadata": {},
          "execution_count": 94
        }
      ]
    },
    {
      "cell_type": "code",
      "source": [
        "partido_codificado = pd.factorize(np.ravel(dados_para_codificar.values))[0]\n",
        "partido_codificado"
      ],
      "metadata": {
        "colab": {
          "base_uri": "https://localhost:8080/"
        },
        "id": "2oJijzJH7gTQ",
        "outputId": "101e9ac6-22d4-484c-d30c-487f0f1eb702"
      },
      "execution_count": null,
      "outputs": [
        {
          "output_type": "execute_result",
          "data": {
            "text/plain": [
              "array([ 0,  1,  2,  0,  3,  4,  5,  3,  5,  6,  5,  7,  5,  0,  1,  2,  1,\n",
              "        7,  8,  2,  2,  9,  7,  7,  9, 10, 11,  0, 12,  0,  5,  2,  8,  5,\n",
              "        7,  7,  0,  0,  6,  5, 13,  1,  2,  2, 14,  0,  1,  8,  7,  8,  5,\n",
              "        9, 14,  5,  2,  1, 15, 11,  1, 16,  5,  7,  9,  3, 14,  3,  0,  0,\n",
              "        7, 13, 17,  0,  7,  0,  0,  0,  0,  1,  2,  9,  0,  3,  7,  7,  7,\n",
              "        0, 14, 18,  1, 14,  2,  9, 14, 14, 18,  9,  0,  5,  5,  2, 11,  1,\n",
              "        9,  0,  0,  0,  5,  9,  5,  9,  5,  3, 10,  9,  9,  7,  9,  0, 10,\n",
              "        5,  0, 14,  3,  0,  9, 14,  9,  9,  2,  7, 13, 14,  0,  5,  0,  5,\n",
              "        9,  9,  1,  0,  0, 17,  7,  0, 14, 14,  2,  5,  7,  5,  7, 14,  0,\n",
              "        6,  9,  9,  7, 19,  0,  5, 17,  9,  1, 16,  1,  6,  6,  0,  5,  9,\n",
              "        1,  0,  9,  1,  0,  7, 16, 18,  7,  0,  2,  1,  5,  9, 17, 14,  9,\n",
              "        1,  5,  9,  9, 16,  9,  6, 18,  9,  9,  7,  5,  0,  0,  0,  6,  7,\n",
              "        7,  2, 19,  2, 14,  0,  0,  3,  9,  3,  5, 16,  0,  2, 12, 17,  4,\n",
              "        0,  2,  0, 18, 12,  7, 13, 18, 16,  0,  2,  1, 16,  7,  1,  0,  1,\n",
              "        1, 14,  2,  0,  6, 17, 14, 14,  1, 18,  7,  1,  7, 11, 10,  2,  0,\n",
              "        2,  7,  0,  7,  5,  0,  0, 16,  2,  0,  7,  7,  7,  0,  5,  1,  9,\n",
              "        7,  6,  7,  0, 14,  1,  0,  7,  5, 14,  2,  5,  9,  0, 14,  0,  0,\n",
              "        1,  7,  9,  2, 14,  5,  9,  3,  6,  7,  9, 16,  0,  7, 16,  3, 11,\n",
              "        9, 16,  0,  1,  2, 13, 14,  5,  9,  0,  7, 14, 14,  0, 14,  0, 18,\n",
              "        7,  5,  0,  9,  4,  0,  2, 15,  0,  5,  0,  1,  6, 10,  2, 14,  5,\n",
              "        7, 14,  2,  0,  9,  6, 15,  7,  2,  0,  6,  5, 19,  1,  5,  0,  9,\n",
              "        0, 17,  5,  6, 20,  9,  9,  7,  5,  2,  7,  0,  2, 14,  9,  9,  2,\n",
              "        7, 17,  5,  1,  9,  0,  7,  7,  1, 10,  1,  1, 14,  9,  7,  9,  0,\n",
              "        0, 18, 13,  7,  7,  9,  3,  3,  9, 16,  0,  7, 14, 14, 19, 16,  9,\n",
              "        5, 14,  7,  5,  1,  5,  6,  0, 11,  0,  6, 18,  1,  1,  9, 17, 14,\n",
              "        7,  7,  7, 17,  1, 10,  9,  2, 14,  1,  0, 14,  6,  0,  2,  0,  0,\n",
              "        0,  9, 14, 17,  9,  2,  7, 12,  0,  9,  0,  1,  7,  7,  7, 12, 18,\n",
              "        0,  0, 14, 14,  0, 17,  9,  1, 14,  2,  0,  0,  2,  9,  1,  5,  0,\n",
              "        0,  0, 14, 16,  7, 18, 18,  2,  5,  1,  5,  0,  5, 21,  7,  7,  0,\n",
              "        7,  5,  2,  0,  3, 13,  7,  7, 20,  0,  2,  9,  0, 14,  7, 15,  0,\n",
              "        0,  7,  5])"
            ]
          },
          "metadata": {},
          "execution_count": 16
        }
      ]
    },
    {
      "cell_type": "markdown",
      "source": [
        "## Coluna proposições"
      ],
      "metadata": {
        "id": "Dt_gzfeWpXhY"
      }
    },
    {
      "cell_type": "code",
      "source": [
        "for i in df_caracteristicas_deputados_geral.index:\n",
        "  df_caracteristicas_deputados_geral['proposicoes'][i].sort()"
      ],
      "metadata": {
        "id": "MrTzSrJVr-j5"
      },
      "execution_count": null,
      "outputs": []
    },
    {
      "cell_type": "code",
      "source": [
        "dados_para_codificar = df_caracteristicas_deputados_geral.loc[:, ['proposicoes']]\n",
        "dados_para_codificar"
      ],
      "metadata": {
        "colab": {
          "base_uri": "https://localhost:8080/",
          "height": 423
        },
        "id": "T4plwOC8pfG0",
        "outputId": "33ac0013-19fd-4a52-92d2-1316422a0ee0"
      },
      "execution_count": null,
      "outputs": [
        {
          "output_type": "execute_result",
          "data": {
            "text/plain": [
              "                                           proposicoes\n",
              "0    [2346923, 2347272, 2348353, 2348760, 2348794, ...\n",
              "1    [2345611, 2347180, 2347316, 2348698, 2348760, ...\n",
              "2    [2345725, 2346749, 2346783, 2347016, 2348209, ...\n",
              "3    [2348360, 2348794, 2348805, 2348861, 2349027, ...\n",
              "4    [2345598, 2345609, 2347226, 2347227, 2348622, ...\n",
              "..                                                 ...\n",
              "508  [2347098, 2348209, 2348339, 2348794, 2348803, ...\n",
              "509  [2347272, 2348794, 2348845, 2348860, 2348861, ...\n",
              "510  [2345680, 2347272, 2348209, 2348336, 2348376, ...\n",
              "511  [2345502, 2345614, 2345615, 2347219, 2347224, ...\n",
              "512  [2348845, 2348861, 2348921, 2348978, 2349014, ...\n",
              "\n",
              "[513 rows x 1 columns]"
            ],
            "text/html": [
              "\n",
              "  <div id=\"df-335028fd-01b4-48e8-8071-50d09335fede\">\n",
              "    <div class=\"colab-df-container\">\n",
              "      <div>\n",
              "<style scoped>\n",
              "    .dataframe tbody tr th:only-of-type {\n",
              "        vertical-align: middle;\n",
              "    }\n",
              "\n",
              "    .dataframe tbody tr th {\n",
              "        vertical-align: top;\n",
              "    }\n",
              "\n",
              "    .dataframe thead th {\n",
              "        text-align: right;\n",
              "    }\n",
              "</style>\n",
              "<table border=\"1\" class=\"dataframe\">\n",
              "  <thead>\n",
              "    <tr style=\"text-align: right;\">\n",
              "      <th></th>\n",
              "      <th>proposicoes</th>\n",
              "    </tr>\n",
              "  </thead>\n",
              "  <tbody>\n",
              "    <tr>\n",
              "      <th>0</th>\n",
              "      <td>[2346923, 2347272, 2348353, 2348760, 2348794, ...</td>\n",
              "    </tr>\n",
              "    <tr>\n",
              "      <th>1</th>\n",
              "      <td>[2345611, 2347180, 2347316, 2348698, 2348760, ...</td>\n",
              "    </tr>\n",
              "    <tr>\n",
              "      <th>2</th>\n",
              "      <td>[2345725, 2346749, 2346783, 2347016, 2348209, ...</td>\n",
              "    </tr>\n",
              "    <tr>\n",
              "      <th>3</th>\n",
              "      <td>[2348360, 2348794, 2348805, 2348861, 2349027, ...</td>\n",
              "    </tr>\n",
              "    <tr>\n",
              "      <th>4</th>\n",
              "      <td>[2345598, 2345609, 2347226, 2347227, 2348622, ...</td>\n",
              "    </tr>\n",
              "    <tr>\n",
              "      <th>...</th>\n",
              "      <td>...</td>\n",
              "    </tr>\n",
              "    <tr>\n",
              "      <th>508</th>\n",
              "      <td>[2347098, 2348209, 2348339, 2348794, 2348803, ...</td>\n",
              "    </tr>\n",
              "    <tr>\n",
              "      <th>509</th>\n",
              "      <td>[2347272, 2348794, 2348845, 2348860, 2348861, ...</td>\n",
              "    </tr>\n",
              "    <tr>\n",
              "      <th>510</th>\n",
              "      <td>[2345680, 2347272, 2348209, 2348336, 2348376, ...</td>\n",
              "    </tr>\n",
              "    <tr>\n",
              "      <th>511</th>\n",
              "      <td>[2345502, 2345614, 2345615, 2347219, 2347224, ...</td>\n",
              "    </tr>\n",
              "    <tr>\n",
              "      <th>512</th>\n",
              "      <td>[2348845, 2348861, 2348921, 2348978, 2349014, ...</td>\n",
              "    </tr>\n",
              "  </tbody>\n",
              "</table>\n",
              "<p>513 rows × 1 columns</p>\n",
              "</div>\n",
              "      <button class=\"colab-df-convert\" onclick=\"convertToInteractive('df-335028fd-01b4-48e8-8071-50d09335fede')\"\n",
              "              title=\"Convert this dataframe to an interactive table.\"\n",
              "              style=\"display:none;\">\n",
              "        \n",
              "  <svg xmlns=\"http://www.w3.org/2000/svg\" height=\"24px\"viewBox=\"0 0 24 24\"\n",
              "       width=\"24px\">\n",
              "    <path d=\"M0 0h24v24H0V0z\" fill=\"none\"/>\n",
              "    <path d=\"M18.56 5.44l.94 2.06.94-2.06 2.06-.94-2.06-.94-.94-2.06-.94 2.06-2.06.94zm-11 1L8.5 8.5l.94-2.06 2.06-.94-2.06-.94L8.5 2.5l-.94 2.06-2.06.94zm10 10l.94 2.06.94-2.06 2.06-.94-2.06-.94-.94-2.06-.94 2.06-2.06.94z\"/><path d=\"M17.41 7.96l-1.37-1.37c-.4-.4-.92-.59-1.43-.59-.52 0-1.04.2-1.43.59L10.3 9.45l-7.72 7.72c-.78.78-.78 2.05 0 2.83L4 21.41c.39.39.9.59 1.41.59.51 0 1.02-.2 1.41-.59l7.78-7.78 2.81-2.81c.8-.78.8-2.07 0-2.86zM5.41 20L4 18.59l7.72-7.72 1.47 1.35L5.41 20z\"/>\n",
              "  </svg>\n",
              "      </button>\n",
              "      \n",
              "  <style>\n",
              "    .colab-df-container {\n",
              "      display:flex;\n",
              "      flex-wrap:wrap;\n",
              "      gap: 12px;\n",
              "    }\n",
              "\n",
              "    .colab-df-convert {\n",
              "      background-color: #E8F0FE;\n",
              "      border: none;\n",
              "      border-radius: 50%;\n",
              "      cursor: pointer;\n",
              "      display: none;\n",
              "      fill: #1967D2;\n",
              "      height: 32px;\n",
              "      padding: 0 0 0 0;\n",
              "      width: 32px;\n",
              "    }\n",
              "\n",
              "    .colab-df-convert:hover {\n",
              "      background-color: #E2EBFA;\n",
              "      box-shadow: 0px 1px 2px rgba(60, 64, 67, 0.3), 0px 1px 3px 1px rgba(60, 64, 67, 0.15);\n",
              "      fill: #174EA6;\n",
              "    }\n",
              "\n",
              "    [theme=dark] .colab-df-convert {\n",
              "      background-color: #3B4455;\n",
              "      fill: #D2E3FC;\n",
              "    }\n",
              "\n",
              "    [theme=dark] .colab-df-convert:hover {\n",
              "      background-color: #434B5C;\n",
              "      box-shadow: 0px 1px 3px 1px rgba(0, 0, 0, 0.15);\n",
              "      filter: drop-shadow(0px 1px 2px rgba(0, 0, 0, 0.3));\n",
              "      fill: #FFFFFF;\n",
              "    }\n",
              "  </style>\n",
              "\n",
              "      <script>\n",
              "        const buttonEl =\n",
              "          document.querySelector('#df-335028fd-01b4-48e8-8071-50d09335fede button.colab-df-convert');\n",
              "        buttonEl.style.display =\n",
              "          google.colab.kernel.accessAllowed ? 'block' : 'none';\n",
              "\n",
              "        async function convertToInteractive(key) {\n",
              "          const element = document.querySelector('#df-335028fd-01b4-48e8-8071-50d09335fede');\n",
              "          const dataTable =\n",
              "            await google.colab.kernel.invokeFunction('convertToInteractive',\n",
              "                                                     [key], {});\n",
              "          if (!dataTable) return;\n",
              "\n",
              "          const docLinkHtml = 'Like what you see? Visit the ' +\n",
              "            '<a target=\"_blank\" href=https://colab.research.google.com/notebooks/data_table.ipynb>data table notebook</a>'\n",
              "            + ' to learn more about interactive tables.';\n",
              "          element.innerHTML = '';\n",
              "          dataTable['output_type'] = 'display_data';\n",
              "          await google.colab.output.renderOutput(dataTable, element);\n",
              "          const docLink = document.createElement('div');\n",
              "          docLink.innerHTML = docLinkHtml;\n",
              "          element.appendChild(docLink);\n",
              "        }\n",
              "      </script>\n",
              "    </div>\n",
              "  </div>\n",
              "  "
            ]
          },
          "metadata": {},
          "execution_count": 58
        }
      ]
    },
    {
      "cell_type": "code",
      "source": [
        "enc = OneHotEncoder()\n",
        "enc.fit(dados_para_codificar)\n",
        "proposicoes_codificado = enc.transform(dados_para_codificar).toarray()\n",
        "print(proposicoes_codificado.shape)\n",
        "proposicoes_codificado"
      ],
      "metadata": {
        "colab": {
          "base_uri": "https://localhost:8080/",
          "height": 432
        },
        "id": "JFXLLbT_pfJe",
        "outputId": "5c58efb0-9e7a-411a-fdf9-daa3e55e15fa"
      },
      "execution_count": null,
      "outputs": [
        {
          "output_type": "error",
          "ename": "TypeError",
          "evalue": "ignored",
          "traceback": [
            "\u001b[0;31m---------------------------------------------------------------------------\u001b[0m",
            "\u001b[0;31mTypeError\u001b[0m                                 Traceback (most recent call last)",
            "\u001b[0;32m/usr/local/lib/python3.9/dist-packages/sklearn/utils/_encode.py\u001b[0m in \u001b[0;36m_unique_python\u001b[0;34m(values, return_inverse, return_counts)\u001b[0m\n\u001b[1;32m    169\u001b[0m     \u001b[0;32mtry\u001b[0m\u001b[0;34m:\u001b[0m\u001b[0;34m\u001b[0m\u001b[0;34m\u001b[0m\u001b[0m\n\u001b[0;32m--> 170\u001b[0;31m         \u001b[0muniques_set\u001b[0m \u001b[0;34m=\u001b[0m \u001b[0mset\u001b[0m\u001b[0;34m(\u001b[0m\u001b[0mvalues\u001b[0m\u001b[0;34m)\u001b[0m\u001b[0;34m\u001b[0m\u001b[0;34m\u001b[0m\u001b[0m\n\u001b[0m\u001b[1;32m    171\u001b[0m         \u001b[0muniques_set\u001b[0m\u001b[0;34m,\u001b[0m \u001b[0mmissing_values\u001b[0m \u001b[0;34m=\u001b[0m \u001b[0m_extract_missing\u001b[0m\u001b[0;34m(\u001b[0m\u001b[0muniques_set\u001b[0m\u001b[0;34m)\u001b[0m\u001b[0;34m\u001b[0m\u001b[0;34m\u001b[0m\u001b[0m\n",
            "\u001b[0;31mTypeError\u001b[0m: unhashable type: 'list'",
            "\nDuring handling of the above exception, another exception occurred:\n",
            "\u001b[0;31mTypeError\u001b[0m                                 Traceback (most recent call last)",
            "\u001b[0;32m<ipython-input-59-6cff52e751a2>\u001b[0m in \u001b[0;36m<module>\u001b[0;34m\u001b[0m\n\u001b[1;32m      1\u001b[0m \u001b[0menc\u001b[0m \u001b[0;34m=\u001b[0m \u001b[0mOneHotEncoder\u001b[0m\u001b[0;34m(\u001b[0m\u001b[0;34m)\u001b[0m\u001b[0;34m\u001b[0m\u001b[0;34m\u001b[0m\u001b[0m\n\u001b[0;32m----> 2\u001b[0;31m \u001b[0menc\u001b[0m\u001b[0;34m.\u001b[0m\u001b[0mfit\u001b[0m\u001b[0;34m(\u001b[0m\u001b[0mdados_para_codificar\u001b[0m\u001b[0;34m)\u001b[0m\u001b[0;34m\u001b[0m\u001b[0;34m\u001b[0m\u001b[0m\n\u001b[0m\u001b[1;32m      3\u001b[0m \u001b[0mproposicoes_codificado\u001b[0m \u001b[0;34m=\u001b[0m \u001b[0menc\u001b[0m\u001b[0;34m.\u001b[0m\u001b[0mtransform\u001b[0m\u001b[0;34m(\u001b[0m\u001b[0mdados_para_codificar\u001b[0m\u001b[0;34m)\u001b[0m\u001b[0;34m.\u001b[0m\u001b[0mtoarray\u001b[0m\u001b[0;34m(\u001b[0m\u001b[0;34m)\u001b[0m\u001b[0;34m\u001b[0m\u001b[0;34m\u001b[0m\u001b[0m\n\u001b[1;32m      4\u001b[0m \u001b[0mprint\u001b[0m\u001b[0;34m(\u001b[0m\u001b[0mproposicoes_codificado\u001b[0m\u001b[0;34m.\u001b[0m\u001b[0mshape\u001b[0m\u001b[0;34m)\u001b[0m\u001b[0;34m\u001b[0m\u001b[0;34m\u001b[0m\u001b[0m\n\u001b[1;32m      5\u001b[0m \u001b[0mproposicoes_codificado\u001b[0m\u001b[0;34m\u001b[0m\u001b[0;34m\u001b[0m\u001b[0m\n",
            "\u001b[0;32m/usr/local/lib/python3.9/dist-packages/sklearn/preprocessing/_encoders.py\u001b[0m in \u001b[0;36mfit\u001b[0;34m(self, X, y)\u001b[0m\n\u001b[1;32m    876\u001b[0m         \u001b[0mself\u001b[0m\u001b[0;34m.\u001b[0m\u001b[0m_check_infrequent_enabled\u001b[0m\u001b[0;34m(\u001b[0m\u001b[0;34m)\u001b[0m\u001b[0;34m\u001b[0m\u001b[0;34m\u001b[0m\u001b[0m\n\u001b[1;32m    877\u001b[0m \u001b[0;34m\u001b[0m\u001b[0m\n\u001b[0;32m--> 878\u001b[0;31m         fit_results = self._fit(\n\u001b[0m\u001b[1;32m    879\u001b[0m             \u001b[0mX\u001b[0m\u001b[0;34m,\u001b[0m\u001b[0;34m\u001b[0m\u001b[0;34m\u001b[0m\u001b[0m\n\u001b[1;32m    880\u001b[0m             \u001b[0mhandle_unknown\u001b[0m\u001b[0;34m=\u001b[0m\u001b[0mself\u001b[0m\u001b[0;34m.\u001b[0m\u001b[0mhandle_unknown\u001b[0m\u001b[0;34m,\u001b[0m\u001b[0;34m\u001b[0m\u001b[0;34m\u001b[0m\u001b[0m\n",
            "\u001b[0;32m/usr/local/lib/python3.9/dist-packages/sklearn/preprocessing/_encoders.py\u001b[0m in \u001b[0;36m_fit\u001b[0;34m(self, X, handle_unknown, force_all_finite, return_counts)\u001b[0m\n\u001b[1;32m     91\u001b[0m \u001b[0;34m\u001b[0m\u001b[0m\n\u001b[1;32m     92\u001b[0m             \u001b[0;32mif\u001b[0m \u001b[0mself\u001b[0m\u001b[0;34m.\u001b[0m\u001b[0mcategories\u001b[0m \u001b[0;34m==\u001b[0m \u001b[0;34m\"auto\"\u001b[0m\u001b[0;34m:\u001b[0m\u001b[0;34m\u001b[0m\u001b[0;34m\u001b[0m\u001b[0m\n\u001b[0;32m---> 93\u001b[0;31m                 \u001b[0mresult\u001b[0m \u001b[0;34m=\u001b[0m \u001b[0m_unique\u001b[0m\u001b[0;34m(\u001b[0m\u001b[0mXi\u001b[0m\u001b[0;34m,\u001b[0m \u001b[0mreturn_counts\u001b[0m\u001b[0;34m=\u001b[0m\u001b[0mreturn_counts\u001b[0m\u001b[0;34m)\u001b[0m\u001b[0;34m\u001b[0m\u001b[0;34m\u001b[0m\u001b[0m\n\u001b[0m\u001b[1;32m     94\u001b[0m                 \u001b[0;32mif\u001b[0m \u001b[0mreturn_counts\u001b[0m\u001b[0;34m:\u001b[0m\u001b[0;34m\u001b[0m\u001b[0;34m\u001b[0m\u001b[0m\n\u001b[1;32m     95\u001b[0m                     \u001b[0mcats\u001b[0m\u001b[0;34m,\u001b[0m \u001b[0mcounts\u001b[0m \u001b[0;34m=\u001b[0m \u001b[0mresult\u001b[0m\u001b[0;34m\u001b[0m\u001b[0;34m\u001b[0m\u001b[0m\n",
            "\u001b[0;32m/usr/local/lib/python3.9/dist-packages/sklearn/utils/_encode.py\u001b[0m in \u001b[0;36m_unique\u001b[0;34m(values, return_inverse, return_counts)\u001b[0m\n\u001b[1;32m     39\u001b[0m     \"\"\"\n\u001b[1;32m     40\u001b[0m     \u001b[0;32mif\u001b[0m \u001b[0mvalues\u001b[0m\u001b[0;34m.\u001b[0m\u001b[0mdtype\u001b[0m \u001b[0;34m==\u001b[0m \u001b[0mobject\u001b[0m\u001b[0;34m:\u001b[0m\u001b[0;34m\u001b[0m\u001b[0;34m\u001b[0m\u001b[0m\n\u001b[0;32m---> 41\u001b[0;31m         return _unique_python(\n\u001b[0m\u001b[1;32m     42\u001b[0m             \u001b[0mvalues\u001b[0m\u001b[0;34m,\u001b[0m \u001b[0mreturn_inverse\u001b[0m\u001b[0;34m=\u001b[0m\u001b[0mreturn_inverse\u001b[0m\u001b[0;34m,\u001b[0m \u001b[0mreturn_counts\u001b[0m\u001b[0;34m=\u001b[0m\u001b[0mreturn_counts\u001b[0m\u001b[0;34m\u001b[0m\u001b[0;34m\u001b[0m\u001b[0m\n\u001b[1;32m     43\u001b[0m         )\n",
            "\u001b[0;32m/usr/local/lib/python3.9/dist-packages/sklearn/utils/_encode.py\u001b[0m in \u001b[0;36m_unique_python\u001b[0;34m(values, return_inverse, return_counts)\u001b[0m\n\u001b[1;32m    176\u001b[0m     \u001b[0;32mexcept\u001b[0m \u001b[0mTypeError\u001b[0m\u001b[0;34m:\u001b[0m\u001b[0;34m\u001b[0m\u001b[0;34m\u001b[0m\u001b[0m\n\u001b[1;32m    177\u001b[0m         \u001b[0mtypes\u001b[0m \u001b[0;34m=\u001b[0m \u001b[0msorted\u001b[0m\u001b[0;34m(\u001b[0m\u001b[0mt\u001b[0m\u001b[0;34m.\u001b[0m\u001b[0m__qualname__\u001b[0m \u001b[0;32mfor\u001b[0m \u001b[0mt\u001b[0m \u001b[0;32min\u001b[0m \u001b[0mset\u001b[0m\u001b[0;34m(\u001b[0m\u001b[0mtype\u001b[0m\u001b[0;34m(\u001b[0m\u001b[0mv\u001b[0m\u001b[0;34m)\u001b[0m \u001b[0;32mfor\u001b[0m \u001b[0mv\u001b[0m \u001b[0;32min\u001b[0m \u001b[0mvalues\u001b[0m\u001b[0;34m)\u001b[0m\u001b[0;34m)\u001b[0m\u001b[0;34m\u001b[0m\u001b[0;34m\u001b[0m\u001b[0m\n\u001b[0;32m--> 178\u001b[0;31m         raise TypeError(\n\u001b[0m\u001b[1;32m    179\u001b[0m             \u001b[0;34m\"Encoders require their input to be uniformly \"\u001b[0m\u001b[0;34m\u001b[0m\u001b[0;34m\u001b[0m\u001b[0m\n\u001b[1;32m    180\u001b[0m             \u001b[0;34mf\"strings or numbers. Got {types}\"\u001b[0m\u001b[0;34m\u001b[0m\u001b[0;34m\u001b[0m\u001b[0m\n",
            "\u001b[0;31mTypeError\u001b[0m: Encoders require their input to be uniformly strings or numbers. Got ['list']"
          ]
        }
      ]
    },
    {
      "cell_type": "markdown",
      "source": [
        "# Seleciona dados para o treinamento"
      ],
      "metadata": {
        "id": "ud-wu0mPdVWE"
      }
    },
    {
      "cell_type": "code",
      "source": [
        "df_caracteristicas_selecionadas_deputados = df_caracteristicas_deputados_geral.iloc[: , [0,1]]\n",
        "\n",
        "# df_caracteristicas_selecionadas_deputados['partido'] = partido_codificado.tolist()\n",
        "# df_caracteristicas_selecionadas_deputados['estado'] = uf_codificado.tolist()\n",
        "df_caracteristicas_selecionadas_deputados['Votacao 2301683_33'] = lista_votacao_codificado_2301683_33\n",
        "df_caracteristicas_selecionadas_deputados['Votacao 2350702_8'] = lista_votacao_codificado_2350702_8\n",
        "df_caracteristicas_selecionadas_deputados['Votacao 2350706_6'] = lista_votacao_codificado_2350706_6\n",
        "df_caracteristicas_selecionadas_deputados['Votacao 2351332_7'] = lista_votacao_codificado_2351332_7\n",
        "\n",
        "df_caracteristicas_selecionadas_deputados"
      ],
      "metadata": {
        "id": "xmKjwYked-4C",
        "colab": {
          "base_uri": "https://localhost:8080/",
          "height": 840
        },
        "outputId": "b447fa65-bf2b-4f2e-bca9-366691ea0409"
      },
      "execution_count": null,
      "outputs": [
        {
          "output_type": "stream",
          "name": "stderr",
          "text": [
            "<ipython-input-43-1d198d0d1a2a>:5: SettingWithCopyWarning: \n",
            "A value is trying to be set on a copy of a slice from a DataFrame.\n",
            "Try using .loc[row_indexer,col_indexer] = value instead\n",
            "\n",
            "See the caveats in the documentation: https://pandas.pydata.org/pandas-docs/stable/user_guide/indexing.html#returning-a-view-versus-a-copy\n",
            "  df_caracteristicas_selecionadas_deputados['Votacao 2301683_33'] = lista_votacao_codificado_2301683_33\n",
            "<ipython-input-43-1d198d0d1a2a>:6: SettingWithCopyWarning: \n",
            "A value is trying to be set on a copy of a slice from a DataFrame.\n",
            "Try using .loc[row_indexer,col_indexer] = value instead\n",
            "\n",
            "See the caveats in the documentation: https://pandas.pydata.org/pandas-docs/stable/user_guide/indexing.html#returning-a-view-versus-a-copy\n",
            "  df_caracteristicas_selecionadas_deputados['Votacao 2350702_8'] = lista_votacao_codificado_2350702_8\n",
            "<ipython-input-43-1d198d0d1a2a>:7: SettingWithCopyWarning: \n",
            "A value is trying to be set on a copy of a slice from a DataFrame.\n",
            "Try using .loc[row_indexer,col_indexer] = value instead\n",
            "\n",
            "See the caveats in the documentation: https://pandas.pydata.org/pandas-docs/stable/user_guide/indexing.html#returning-a-view-versus-a-copy\n",
            "  df_caracteristicas_selecionadas_deputados['Votacao 2350706_6'] = lista_votacao_codificado_2350706_6\n",
            "<ipython-input-43-1d198d0d1a2a>:8: SettingWithCopyWarning: \n",
            "A value is trying to be set on a copy of a slice from a DataFrame.\n",
            "Try using .loc[row_indexer,col_indexer] = value instead\n",
            "\n",
            "See the caveats in the documentation: https://pandas.pydata.org/pandas-docs/stable/user_guide/indexing.html#returning-a-view-versus-a-copy\n",
            "  df_caracteristicas_selecionadas_deputados['Votacao 2351332_7'] = lista_votacao_codificado_2351332_7\n"
          ]
        },
        {
          "output_type": "execute_result",
          "data": {
            "text/plain": [
              "     id_deputado             nome  Votacao 2301683_33  Votacao 2350702_8  \\\n",
              "0         220593   Abilio Brunini                   0                  0   \n",
              "1         204379   Acácio Favacho                   1                  0   \n",
              "2         220714      Adail Filho                   2                  0   \n",
              "3         221328  Adilson Barroso                   2                  0   \n",
              "4         204560     Adolfo Viana                   2                  2   \n",
              "..           ...              ...                 ...                ...   \n",
              "508       160632         Zé Silva                   1                  0   \n",
              "509       220558        Zé Trovão                   0                  0   \n",
              "510       204517         Zé Vitor                   2                  2   \n",
              "511       160592      Zeca Dirceu                   2                  2   \n",
              "512       220592  Zezinho Barbary                   2                  0   \n",
              "\n",
              "     Votacao 2350706_6  Votacao 2351332_7  \n",
              "0                    2                  1  \n",
              "1                    0                  2  \n",
              "2                    1                  0  \n",
              "3                    2                  0  \n",
              "4                    2                  2  \n",
              "..                 ...                ...  \n",
              "508                  0                  0  \n",
              "509                  1                  1  \n",
              "510                  0                  0  \n",
              "511                  2                  0  \n",
              "512                  2                  0  \n",
              "\n",
              "[513 rows x 6 columns]"
            ],
            "text/html": [
              "\n",
              "  <div id=\"df-defb9f9d-0f4d-4ec1-9140-241cb85ac59a\">\n",
              "    <div class=\"colab-df-container\">\n",
              "      <div>\n",
              "<style scoped>\n",
              "    .dataframe tbody tr th:only-of-type {\n",
              "        vertical-align: middle;\n",
              "    }\n",
              "\n",
              "    .dataframe tbody tr th {\n",
              "        vertical-align: top;\n",
              "    }\n",
              "\n",
              "    .dataframe thead th {\n",
              "        text-align: right;\n",
              "    }\n",
              "</style>\n",
              "<table border=\"1\" class=\"dataframe\">\n",
              "  <thead>\n",
              "    <tr style=\"text-align: right;\">\n",
              "      <th></th>\n",
              "      <th>id_deputado</th>\n",
              "      <th>nome</th>\n",
              "      <th>Votacao 2301683_33</th>\n",
              "      <th>Votacao 2350702_8</th>\n",
              "      <th>Votacao 2350706_6</th>\n",
              "      <th>Votacao 2351332_7</th>\n",
              "    </tr>\n",
              "  </thead>\n",
              "  <tbody>\n",
              "    <tr>\n",
              "      <th>0</th>\n",
              "      <td>220593</td>\n",
              "      <td>Abilio Brunini</td>\n",
              "      <td>0</td>\n",
              "      <td>0</td>\n",
              "      <td>2</td>\n",
              "      <td>1</td>\n",
              "    </tr>\n",
              "    <tr>\n",
              "      <th>1</th>\n",
              "      <td>204379</td>\n",
              "      <td>Acácio Favacho</td>\n",
              "      <td>1</td>\n",
              "      <td>0</td>\n",
              "      <td>0</td>\n",
              "      <td>2</td>\n",
              "    </tr>\n",
              "    <tr>\n",
              "      <th>2</th>\n",
              "      <td>220714</td>\n",
              "      <td>Adail Filho</td>\n",
              "      <td>2</td>\n",
              "      <td>0</td>\n",
              "      <td>1</td>\n",
              "      <td>0</td>\n",
              "    </tr>\n",
              "    <tr>\n",
              "      <th>3</th>\n",
              "      <td>221328</td>\n",
              "      <td>Adilson Barroso</td>\n",
              "      <td>2</td>\n",
              "      <td>0</td>\n",
              "      <td>2</td>\n",
              "      <td>0</td>\n",
              "    </tr>\n",
              "    <tr>\n",
              "      <th>4</th>\n",
              "      <td>204560</td>\n",
              "      <td>Adolfo Viana</td>\n",
              "      <td>2</td>\n",
              "      <td>2</td>\n",
              "      <td>2</td>\n",
              "      <td>2</td>\n",
              "    </tr>\n",
              "    <tr>\n",
              "      <th>...</th>\n",
              "      <td>...</td>\n",
              "      <td>...</td>\n",
              "      <td>...</td>\n",
              "      <td>...</td>\n",
              "      <td>...</td>\n",
              "      <td>...</td>\n",
              "    </tr>\n",
              "    <tr>\n",
              "      <th>508</th>\n",
              "      <td>160632</td>\n",
              "      <td>Zé Silva</td>\n",
              "      <td>1</td>\n",
              "      <td>0</td>\n",
              "      <td>0</td>\n",
              "      <td>0</td>\n",
              "    </tr>\n",
              "    <tr>\n",
              "      <th>509</th>\n",
              "      <td>220558</td>\n",
              "      <td>Zé Trovão</td>\n",
              "      <td>0</td>\n",
              "      <td>0</td>\n",
              "      <td>1</td>\n",
              "      <td>1</td>\n",
              "    </tr>\n",
              "    <tr>\n",
              "      <th>510</th>\n",
              "      <td>204517</td>\n",
              "      <td>Zé Vitor</td>\n",
              "      <td>2</td>\n",
              "      <td>2</td>\n",
              "      <td>0</td>\n",
              "      <td>0</td>\n",
              "    </tr>\n",
              "    <tr>\n",
              "      <th>511</th>\n",
              "      <td>160592</td>\n",
              "      <td>Zeca Dirceu</td>\n",
              "      <td>2</td>\n",
              "      <td>2</td>\n",
              "      <td>2</td>\n",
              "      <td>0</td>\n",
              "    </tr>\n",
              "    <tr>\n",
              "      <th>512</th>\n",
              "      <td>220592</td>\n",
              "      <td>Zezinho Barbary</td>\n",
              "      <td>2</td>\n",
              "      <td>0</td>\n",
              "      <td>2</td>\n",
              "      <td>0</td>\n",
              "    </tr>\n",
              "  </tbody>\n",
              "</table>\n",
              "<p>513 rows × 6 columns</p>\n",
              "</div>\n",
              "      <button class=\"colab-df-convert\" onclick=\"convertToInteractive('df-defb9f9d-0f4d-4ec1-9140-241cb85ac59a')\"\n",
              "              title=\"Convert this dataframe to an interactive table.\"\n",
              "              style=\"display:none;\">\n",
              "        \n",
              "  <svg xmlns=\"http://www.w3.org/2000/svg\" height=\"24px\"viewBox=\"0 0 24 24\"\n",
              "       width=\"24px\">\n",
              "    <path d=\"M0 0h24v24H0V0z\" fill=\"none\"/>\n",
              "    <path d=\"M18.56 5.44l.94 2.06.94-2.06 2.06-.94-2.06-.94-.94-2.06-.94 2.06-2.06.94zm-11 1L8.5 8.5l.94-2.06 2.06-.94-2.06-.94L8.5 2.5l-.94 2.06-2.06.94zm10 10l.94 2.06.94-2.06 2.06-.94-2.06-.94-.94-2.06-.94 2.06-2.06.94z\"/><path d=\"M17.41 7.96l-1.37-1.37c-.4-.4-.92-.59-1.43-.59-.52 0-1.04.2-1.43.59L10.3 9.45l-7.72 7.72c-.78.78-.78 2.05 0 2.83L4 21.41c.39.39.9.59 1.41.59.51 0 1.02-.2 1.41-.59l7.78-7.78 2.81-2.81c.8-.78.8-2.07 0-2.86zM5.41 20L4 18.59l7.72-7.72 1.47 1.35L5.41 20z\"/>\n",
              "  </svg>\n",
              "      </button>\n",
              "      \n",
              "  <style>\n",
              "    .colab-df-container {\n",
              "      display:flex;\n",
              "      flex-wrap:wrap;\n",
              "      gap: 12px;\n",
              "    }\n",
              "\n",
              "    .colab-df-convert {\n",
              "      background-color: #E8F0FE;\n",
              "      border: none;\n",
              "      border-radius: 50%;\n",
              "      cursor: pointer;\n",
              "      display: none;\n",
              "      fill: #1967D2;\n",
              "      height: 32px;\n",
              "      padding: 0 0 0 0;\n",
              "      width: 32px;\n",
              "    }\n",
              "\n",
              "    .colab-df-convert:hover {\n",
              "      background-color: #E2EBFA;\n",
              "      box-shadow: 0px 1px 2px rgba(60, 64, 67, 0.3), 0px 1px 3px 1px rgba(60, 64, 67, 0.15);\n",
              "      fill: #174EA6;\n",
              "    }\n",
              "\n",
              "    [theme=dark] .colab-df-convert {\n",
              "      background-color: #3B4455;\n",
              "      fill: #D2E3FC;\n",
              "    }\n",
              "\n",
              "    [theme=dark] .colab-df-convert:hover {\n",
              "      background-color: #434B5C;\n",
              "      box-shadow: 0px 1px 3px 1px rgba(0, 0, 0, 0.15);\n",
              "      filter: drop-shadow(0px 1px 2px rgba(0, 0, 0, 0.3));\n",
              "      fill: #FFFFFF;\n",
              "    }\n",
              "  </style>\n",
              "\n",
              "      <script>\n",
              "        const buttonEl =\n",
              "          document.querySelector('#df-defb9f9d-0f4d-4ec1-9140-241cb85ac59a button.colab-df-convert');\n",
              "        buttonEl.style.display =\n",
              "          google.colab.kernel.accessAllowed ? 'block' : 'none';\n",
              "\n",
              "        async function convertToInteractive(key) {\n",
              "          const element = document.querySelector('#df-defb9f9d-0f4d-4ec1-9140-241cb85ac59a');\n",
              "          const dataTable =\n",
              "            await google.colab.kernel.invokeFunction('convertToInteractive',\n",
              "                                                     [key], {});\n",
              "          if (!dataTable) return;\n",
              "\n",
              "          const docLinkHtml = 'Like what you see? Visit the ' +\n",
              "            '<a target=\"_blank\" href=https://colab.research.google.com/notebooks/data_table.ipynb>data table notebook</a>'\n",
              "            + ' to learn more about interactive tables.';\n",
              "          element.innerHTML = '';\n",
              "          dataTable['output_type'] = 'display_data';\n",
              "          await google.colab.output.renderOutput(dataTable, element);\n",
              "          const docLink = document.createElement('div');\n",
              "          docLink.innerHTML = docLinkHtml;\n",
              "          element.appendChild(docLink);\n",
              "        }\n",
              "      </script>\n",
              "    </div>\n",
              "  </div>\n",
              "  "
            ]
          },
          "metadata": {},
          "execution_count": 43
        }
      ]
    },
    {
      "cell_type": "code",
      "source": [],
      "metadata": {
        "id": "HABipvaPd-6I"
      },
      "execution_count": null,
      "outputs": []
    },
    {
      "cell_type": "markdown",
      "source": [
        "# Ajustando características multidimensionais"
      ],
      "metadata": {
        "id": "AEwJr7Lu4kzN"
      }
    },
    {
      "cell_type": "code",
      "source": [
        "X = df_caracteristicas_selecionadas_deputados.iloc[: , 2:].values\n",
        "print(X.shape)\n",
        "X"
      ],
      "metadata": {
        "colab": {
          "base_uri": "https://localhost:8080/"
        },
        "id": "y7SKQDMi5Fqc",
        "outputId": "70495ab0-cbfe-4380-d3eb-959f812fcc86"
      },
      "execution_count": null,
      "outputs": [
        {
          "output_type": "stream",
          "name": "stdout",
          "text": [
            "(513, 6)\n"
          ]
        },
        {
          "output_type": "execute_result",
          "data": {
            "text/plain": [
              "array([[list([0.0, 0.0, 0.0, 0.0, 0.0, 0.0, 0.0, 1.0, 0.0, 0.0, 0.0, 0.0, 0.0, 0.0, 0.0, 0.0, 0.0, 0.0, 0.0, 0.0, 0.0, 0.0]),\n",
              "        list([0.0, 0.0, 0.0, 0.0, 0.0, 0.0, 0.0, 0.0, 0.0, 0.0, 0.0, 0.0, 1.0, 0.0, 0.0, 0.0, 0.0, 0.0, 0.0, 0.0, 0.0, 0.0, 0.0, 0.0, 0.0, 0.0, 0.0]),\n",
              "        0, 0, 2, 1],\n",
              "       [list([0.0, 0.0, 1.0, 0.0, 0.0, 0.0, 0.0, 0.0, 0.0, 0.0, 0.0, 0.0, 0.0, 0.0, 0.0, 0.0, 0.0, 0.0, 0.0, 0.0, 0.0, 0.0]),\n",
              "        list([0.0, 0.0, 0.0, 1.0, 0.0, 0.0, 0.0, 0.0, 0.0, 0.0, 0.0, 0.0, 0.0, 0.0, 0.0, 0.0, 0.0, 0.0, 0.0, 0.0, 0.0, 0.0, 0.0, 0.0, 0.0, 0.0, 0.0]),\n",
              "        1, 0, 0, 2],\n",
              "       [list([0.0, 0.0, 0.0, 0.0, 0.0, 0.0, 0.0, 0.0, 0.0, 0.0, 0.0, 0.0, 0.0, 0.0, 0.0, 0.0, 0.0, 0.0, 0.0, 1.0, 0.0, 0.0]),\n",
              "        list([0.0, 0.0, 1.0, 0.0, 0.0, 0.0, 0.0, 0.0, 0.0, 0.0, 0.0, 0.0, 0.0, 0.0, 0.0, 0.0, 0.0, 0.0, 0.0, 0.0, 0.0, 0.0, 0.0, 0.0, 0.0, 0.0, 0.0]),\n",
              "        2, 0, 1, 0],\n",
              "       ...,\n",
              "       [list([0.0, 0.0, 0.0, 0.0, 0.0, 0.0, 0.0, 1.0, 0.0, 0.0, 0.0, 0.0, 0.0, 0.0, 0.0, 0.0, 0.0, 0.0, 0.0, 0.0, 0.0, 0.0]),\n",
              "        list([0.0, 0.0, 0.0, 0.0, 0.0, 0.0, 0.0, 0.0, 0.0, 0.0, 1.0, 0.0, 0.0, 0.0, 0.0, 0.0, 0.0, 0.0, 0.0, 0.0, 0.0, 0.0, 0.0, 0.0, 0.0, 0.0, 0.0]),\n",
              "        2, 2, 0, 0],\n",
              "       [list([0.0, 0.0, 0.0, 0.0, 0.0, 0.0, 0.0, 0.0, 0.0, 0.0, 0.0, 0.0, 0.0, 0.0, 0.0, 0.0, 1.0, 0.0, 0.0, 0.0, 0.0, 0.0]),\n",
              "        list([0.0, 0.0, 0.0, 0.0, 0.0, 0.0, 0.0, 0.0, 0.0, 0.0, 0.0, 0.0, 0.0, 0.0, 0.0, 0.0, 0.0, 1.0, 0.0, 0.0, 0.0, 0.0, 0.0, 0.0, 0.0, 0.0, 0.0]),\n",
              "        2, 2, 2, 0],\n",
              "       [list([0.0, 0.0, 0.0, 0.0, 0.0, 0.0, 0.0, 0.0, 0.0, 1.0, 0.0, 0.0, 0.0, 0.0, 0.0, 0.0, 0.0, 0.0, 0.0, 0.0, 0.0, 0.0]),\n",
              "        list([1.0, 0.0, 0.0, 0.0, 0.0, 0.0, 0.0, 0.0, 0.0, 0.0, 0.0, 0.0, 0.0, 0.0, 0.0, 0.0, 0.0, 0.0, 0.0, 0.0, 0.0, 0.0, 0.0, 0.0, 0.0, 0.0, 0.0]),\n",
              "        2, 0, 2, 0]], dtype=object)"
            ]
          },
          "metadata": {},
          "execution_count": 76
        }
      ]
    },
    {
      "cell_type": "code",
      "source": [
        "for i in X:\n",
        "  i[0] = np.array(i[0])\n",
        "  i[1] = np.array(i[1])"
      ],
      "metadata": {
        "id": "ezvJrER3B5He"
      },
      "execution_count": null,
      "outputs": []
    },
    {
      "cell_type": "code",
      "source": [
        "X.ravel()"
      ],
      "metadata": {
        "colab": {
          "base_uri": "https://localhost:8080/"
        },
        "id": "87ZYBoBPCMmV",
        "outputId": "6243ba7f-fbd0-4451-8486-4586c1668de4"
      },
      "execution_count": null,
      "outputs": [
        {
          "output_type": "execute_result",
          "data": {
            "text/plain": [
              "array([array([0., 0., 0., 0., 0., 0., 0., 1., 0., 0., 0., 0., 0., 0., 0., 0., 0.,\n",
              "              0., 0., 0., 0., 0.])                                               ,\n",
              "       array([0., 0., 0., 0., 0., 0., 0., 0., 0., 0., 0., 0., 1., 0., 0., 0., 0.,\n",
              "              0., 0., 0., 0., 0., 0., 0., 0., 0., 0.])                           ,\n",
              "       0, ..., 0, 2, 0], dtype=object)"
            ]
          },
          "metadata": {},
          "execution_count": 86
        }
      ]
    },
    {
      "cell_type": "code",
      "source": [
        "X = X.ravel().reshape(len(df_caracteristicas_selecionadas_deputados), -1)\n",
        "print(X.shape)\n",
        "X"
      ],
      "metadata": {
        "colab": {
          "base_uri": "https://localhost:8080/"
        },
        "id": "3jK4A7VeAa5b",
        "outputId": "279470ba-aa3a-4cfb-f149-2a22f5648d9f"
      },
      "execution_count": null,
      "outputs": [
        {
          "output_type": "stream",
          "name": "stdout",
          "text": [
            "(513, 6)\n"
          ]
        },
        {
          "output_type": "execute_result",
          "data": {
            "text/plain": [
              "array([[array([0., 0., 0., 0., 0., 0., 0., 1., 0., 0., 0., 0., 0., 0., 0., 0., 0.,\n",
              "               0., 0., 0., 0., 0.])                                               ,\n",
              "        array([0., 0., 0., 0., 0., 0., 0., 0., 0., 0., 0., 0., 1., 0., 0., 0., 0.,\n",
              "               0., 0., 0., 0., 0., 0., 0., 0., 0., 0.])                           ,\n",
              "        0, 0, 2, 1],\n",
              "       [array([0., 0., 1., 0., 0., 0., 0., 0., 0., 0., 0., 0., 0., 0., 0., 0., 0.,\n",
              "               0., 0., 0., 0., 0.])                                               ,\n",
              "        array([0., 0., 0., 1., 0., 0., 0., 0., 0., 0., 0., 0., 0., 0., 0., 0., 0.,\n",
              "               0., 0., 0., 0., 0., 0., 0., 0., 0., 0.])                           ,\n",
              "        1, 0, 0, 2],\n",
              "       [array([0., 0., 0., 0., 0., 0., 0., 0., 0., 0., 0., 0., 0., 0., 0., 0., 0.,\n",
              "               0., 0., 1., 0., 0.])                                               ,\n",
              "        array([0., 0., 1., 0., 0., 0., 0., 0., 0., 0., 0., 0., 0., 0., 0., 0., 0.,\n",
              "               0., 0., 0., 0., 0., 0., 0., 0., 0., 0.])                           ,\n",
              "        2, 0, 1, 0],\n",
              "       ...,\n",
              "       [array([0., 0., 0., 0., 0., 0., 0., 1., 0., 0., 0., 0., 0., 0., 0., 0., 0.,\n",
              "               0., 0., 0., 0., 0.])                                               ,\n",
              "        array([0., 0., 0., 0., 0., 0., 0., 0., 0., 0., 1., 0., 0., 0., 0., 0., 0.,\n",
              "               0., 0., 0., 0., 0., 0., 0., 0., 0., 0.])                           ,\n",
              "        2, 2, 0, 0],\n",
              "       [array([0., 0., 0., 0., 0., 0., 0., 0., 0., 0., 0., 0., 0., 0., 0., 0., 1.,\n",
              "               0., 0., 0., 0., 0.])                                               ,\n",
              "        array([0., 0., 0., 0., 0., 0., 0., 0., 0., 0., 0., 0., 0., 0., 0., 0., 0.,\n",
              "               1., 0., 0., 0., 0., 0., 0., 0., 0., 0.])                           ,\n",
              "        2, 2, 2, 0],\n",
              "       [array([0., 0., 0., 0., 0., 0., 0., 0., 0., 1., 0., 0., 0., 0., 0., 0., 0.,\n",
              "               0., 0., 0., 0., 0.])                                               ,\n",
              "        array([1., 0., 0., 0., 0., 0., 0., 0., 0., 0., 0., 0., 0., 0., 0., 0., 0.,\n",
              "               0., 0., 0., 0., 0., 0., 0., 0., 0., 0.])                           ,\n",
              "        2, 0, 2, 0]], dtype=object)"
            ]
          },
          "metadata": {},
          "execution_count": 88
        }
      ]
    },
    {
      "cell_type": "code",
      "source": [
        "df_caracteristicas_selecionadas_deputados.info()"
      ],
      "metadata": {
        "colab": {
          "base_uri": "https://localhost:8080/"
        },
        "id": "11CErUXY5KtE",
        "outputId": "82e6a6e9-12f8-46ff-f50c-5d504c3f79ea"
      },
      "execution_count": null,
      "outputs": [
        {
          "output_type": "stream",
          "name": "stdout",
          "text": [
            "<class 'pandas.core.frame.DataFrame'>\n",
            "Int64Index: 513 entries, 0 to 512\n",
            "Data columns (total 8 columns):\n",
            " #   Column              Non-Null Count  Dtype \n",
            "---  ------              --------------  ----- \n",
            " 0   id_deputado         513 non-null    int64 \n",
            " 1   nome                513 non-null    object\n",
            " 2   partido             513 non-null    int64 \n",
            " 3   estado              513 non-null    int64 \n",
            " 4   Votacao 2301683_33  513 non-null    int64 \n",
            " 5   Votacao 2350702_8   513 non-null    int64 \n",
            " 6   Votacao 2350706_6   513 non-null    int64 \n",
            " 7   Votacao 2351332_7   513 non-null    int64 \n",
            "dtypes: int64(7), object(1)\n",
            "memory usage: 36.1+ KB\n"
          ]
        }
      ]
    },
    {
      "cell_type": "markdown",
      "source": [
        "# Usando MeanShift"
      ],
      "metadata": {
        "id": "2V1JIm96Obdn"
      }
    },
    {
      "cell_type": "code",
      "source": [
        "# The following bandwidth can be automatically detected using\n",
        "X = df_caracteristicas_selecionadas_deputados.iloc[: , 2:]\n",
        "\n",
        "bandwidth = estimate_bandwidth(X, quantile=0.2, n_samples=100)\n",
        "\n",
        "ms = MeanShift(bandwidth=bandwidth, bin_seeding=True)\n",
        "ms.fit(X)\n",
        "labels = ms.labels_\n",
        "cluster_centers = ms.cluster_centers_\n",
        "\n",
        "labels_unique = np.unique(labels)\n",
        "n_clusters_ = len(labels_unique)\n",
        "\n",
        "print(\"number of estimated clusters : %d\" % n_clusters_)\n",
        "print(f\"Silhouette Coefficient: {metrics.silhouette_score(X, labels):.3f}\")"
      ],
      "metadata": {
        "colab": {
          "base_uri": "https://localhost:8080/"
        },
        "id": "75UmpOYNOlSv",
        "outputId": "9ae52cde-820a-4b71-a641-3df92a7f624d"
      },
      "execution_count": null,
      "outputs": [
        {
          "output_type": "stream",
          "name": "stdout",
          "text": [
            "number of estimated clusters : 2\n",
            "Silhouette Coefficient: 0.435\n"
          ]
        }
      ]
    },
    {
      "cell_type": "code",
      "source": [
        "# print(f\"Homogeneity: {metrics.homogeneity_score(labels_true, labels):.3f}\")\n",
        "# print(f\"Completeness: {metrics.completeness_score(labels_true, labels):.3f}\")\n",
        "# print(f\"V-measure: {metrics.v_measure_score(labels_true, labels):.3f}\")\n",
        "# print(f\"Adjusted Rand Index: {metrics.adjusted_rand_score(labels_true, labels):.3f}\")\n",
        "# print(\n",
        "#     \"Adjusted Mutual Information:\"\n",
        "#     f\" {metrics.adjusted_mutual_info_score(labels_true, labels):.3f}\"\n",
        "# )\n",
        "print(f\"Silhouette Coefficient: {metrics.silhouette_score(X, labels):.3f}\")"
      ],
      "metadata": {
        "id": "G3vG_J2zYjcD"
      },
      "execution_count": null,
      "outputs": []
    },
    {
      "cell_type": "code",
      "source": [
        "plt.figure(1)\n",
        "plt.clf()\n",
        "\n",
        "colors = [\"#dede00\", \"#377eb8\", \"#f781bf\", '#f9aa00', \"#00AA18\"]\n",
        "markers = [\"p\", \"o\", \"^\", '*', 's']\n",
        "\n",
        "for k, col in zip(range(n_clusters_), colors):\n",
        "    my_members = labels == k\n",
        "    cluster_center = cluster_centers[k]\n",
        "    plt.scatter(df_caracteristicas_selecionadas_deputados.iloc[: , 2:].values[my_members, 0], df_caracteristicas_selecionadas_deputados.iloc[: , 2:].values[my_members, 1], color=col)\n",
        "    plt.plot(\n",
        "        cluster_center[0],\n",
        "        cluster_center[1],\n",
        "        markers[k],\n",
        "        markerfacecolor=col,\n",
        "        markeredgecolor=\"k\",\n",
        "        markersize=14,\n",
        "    )\n",
        "plt.title(\"Estimated number of clusters: %d\" % n_clusters_)\n",
        "plt.show()"
      ],
      "metadata": {
        "colab": {
          "base_uri": "https://localhost:8080/",
          "height": 281
        },
        "id": "lRkmr6ntO-_v",
        "outputId": "9f2d79ba-db19-4bdf-fb5b-4c96bf408f65"
      },
      "execution_count": null,
      "outputs": [
        {
          "output_type": "display_data",
          "data": {
            "text/plain": [
              "<Figure size 432x288 with 1 Axes>"
            ],
            "image/png": "[encoded data removed]"
          },
          "metadata": {
            "needs_background": "light"
          }
        }
      ]
    },
    {
      "cell_type": "markdown",
      "source": [
        "# KMeans"
      ],
      "metadata": {
        "id": "3Sdt8Vv7C0DM"
      }
    },
    {
      "cell_type": "code",
      "source": [
        "X = df_caracteristicas_selecionadas_deputados.iloc[: , 2:].values\n",
        "\n",
        "random_state = 170\n",
        "\n",
        "common_params = {\n",
        "    \"n_init\": \"auto\",\n",
        "    \"random_state\": random_state,\n",
        "}\n",
        "\n",
        "k_means = KMeans(n_clusters=3, **common_params)\n",
        "k_means.fit(X)\n",
        "labels = k_means.labels_\n",
        "\n",
        "print(f\"Silhouette Coefficient: {metrics.silhouette_score(X, labels):.3f}\")\n",
        "\n",
        "y_pred = k_means.predict(X)\n",
        "plt.scatter(X[:, 0], X[:, 1], c=y_pred)\n",
        "plt.title(\"Optimal Number of Clusters\")\n",
        "plt.show()"
      ],
      "metadata": {
        "colab": {
          "base_uri": "https://localhost:8080/",
          "height": 298
        },
        "id": "qPY_az_e4lON",
        "outputId": "a44f0ccf-06d1-4e10-e1bd-9c9721834a36"
      },
      "execution_count": null,
      "outputs": [
        {
          "output_type": "stream",
          "name": "stdout",
          "text": [
            "Silhouette Coefficient: 0.430\n"
          ]
        },
        {
          "output_type": "display_data",
          "data": {
            "text/plain": [
              "<Figure size 432x288 with 1 Axes>"
            ],
            "image/png": "[encoded data removed]"
          },
          "metadata": {
            "needs_background": "light"
          }
        }
      ]
    },
    {
      "cell_type": "code",
      "source": [
        "pca = PCA(n_components=2).fit_transform(X)\n",
        "pca"
      ],
      "metadata": {
        "colab": {
          "base_uri": "https://localhost:8080/"
        },
        "id": "GahYR3pl4lZM",
        "outputId": "0bf053bb-cab2-4e5f-fe4a-a74e818fc752"
      },
      "execution_count": null,
      "outputs": [
        {
          "output_type": "execute_result",
          "data": {
            "text/plain": [
              "array([[-11.1469007 ,  -5.88303758],\n",
              "       [-10.08123508,  -4.88899772],\n",
              "       [ -9.02213225,  -3.94860671],\n",
              "       ...,\n",
              "       [ -5.13623434,  -6.10242436],\n",
              "       [  4.22155846,   0.31651206],\n",
              "       [ 10.10792739,  -2.02388961]])"
            ]
          },
          "metadata": {},
          "execution_count": 58
        }
      ]
    },
    {
      "cell_type": "code",
      "source": [
        "X = pca\n",
        "\n",
        "random_state = 170\n",
        "\n",
        "common_params = {\n",
        "    \"n_init\": \"auto\",\n",
        "    \"random_state\": random_state,\n",
        "}\n",
        "\n",
        "\n",
        "k_means = KMeans(n_clusters=3, **common_params)\n",
        "k_means.fit(X)\n",
        "labels = k_means.labels_\n",
        "\n",
        "print(f\"Silhouette Coefficient: {metrics.silhouette_score(X, labels):.3f}\")\n",
        "\n",
        "y_pred = k_means.predict(X)\n",
        "plt.scatter(pca[:, 0], pca[:, 1], c=y_pred)\n",
        "plt.title(\"Optimal Number of Clusters\")\n",
        "plt.show()"
      ],
      "metadata": {
        "colab": {
          "base_uri": "https://localhost:8080/",
          "height": 298
        },
        "id": "N4CzW37_8xe-",
        "outputId": "0f91822b-d655-4806-e26d-b4069b315088"
      },
      "execution_count": null,
      "outputs": [
        {
          "output_type": "stream",
          "name": "stdout",
          "text": [
            "Silhouette Coefficient: 0.409\n"
          ]
        },
        {
          "output_type": "display_data",
          "data": {
            "text/plain": [
              "<Figure size 432x288 with 1 Axes>"
            ],
            "image/png": "[encoded data removed]"
          },
          "metadata": {
            "needs_background": "light"
          }
        }
      ]
    },
    {
      "cell_type": "markdown",
      "source": [
        "# DBSCAN"
      ],
      "metadata": {
        "id": "8JaqEMWPDbzy"
      }
    },
    {
      "cell_type": "code",
      "source": [
        "X = df_caracteristicas_selecionadas_deputados.iloc[: , 2:]\n",
        "\n",
        "# bandwidth = estimate_bandwidth(X, quantile=0.2, n_samples=100)\n",
        "\n",
        "# ms = MeanShift(bandwidth=bandwidth, bin_seeding=True)\n",
        "# ms.fit(X)\n",
        "# labels = ms.labels_\n",
        "# cluster_centers = ms.cluster_centers_\n",
        "\n",
        "db = DBSCAN(eps=0.5, min_samples=200).fit(X)\n",
        "labels = db.labels_\n",
        "\n",
        "labels_unique = np.unique(labels)\n",
        "n_clusters_ = len(labels_unique)\n",
        "\n",
        "print(\"number of estimated clusters : %d\" % n_clusters_)\n",
        "print(f\"Silhouette Coefficient: {metrics.silhouette_score(X, labels):.3f}\")"
      ],
      "metadata": {
        "id": "VOovbgmnF1x-",
        "colab": {
          "base_uri": "https://localhost:8080/",
          "height": 363
        },
        "outputId": "e65e0005-a58a-42c1-aabc-9f21d80c12a7"
      },
      "execution_count": null,
      "outputs": [
        {
          "output_type": "stream",
          "name": "stdout",
          "text": [
            "number of estimated clusters : 1\n"
          ]
        },
        {
          "output_type": "error",
          "ename": "ValueError",
          "evalue": "ignored",
          "traceback": [
            "\u001b[0;31m---------------------------------------------------------------------------\u001b[0m",
            "\u001b[0;31mValueError\u001b[0m                                Traceback (most recent call last)",
            "\u001b[0;32m<ipython-input-22-1f6c67a041f4>\u001b[0m in \u001b[0;36m<module>\u001b[0;34m\u001b[0m\n\u001b[1;32m     15\u001b[0m \u001b[0;34m\u001b[0m\u001b[0m\n\u001b[1;32m     16\u001b[0m \u001b[0mprint\u001b[0m\u001b[0;34m(\u001b[0m\u001b[0;34m\"number of estimated clusters : %d\"\u001b[0m \u001b[0;34m%\u001b[0m \u001b[0mn_clusters_\u001b[0m\u001b[0;34m)\u001b[0m\u001b[0;34m\u001b[0m\u001b[0;34m\u001b[0m\u001b[0m\n\u001b[0;32m---> 17\u001b[0;31m \u001b[0mprint\u001b[0m\u001b[0;34m(\u001b[0m\u001b[0;34mf\"Silhouette Coefficient: {metrics.silhouette_score(X, labels):.3f}\"\u001b[0m\u001b[0;34m)\u001b[0m\u001b[0;34m\u001b[0m\u001b[0;34m\u001b[0m\u001b[0m\n\u001b[0m",
            "\u001b[0;32m/usr/local/lib/python3.9/dist-packages/sklearn/metrics/cluster/_unsupervised.py\u001b[0m in \u001b[0;36msilhouette_score\u001b[0;34m(X, labels, metric, sample_size, random_state, **kwds)\u001b[0m\n\u001b[1;32m    115\u001b[0m         \u001b[0;32melse\u001b[0m\u001b[0;34m:\u001b[0m\u001b[0;34m\u001b[0m\u001b[0;34m\u001b[0m\u001b[0m\n\u001b[1;32m    116\u001b[0m             \u001b[0mX\u001b[0m\u001b[0;34m,\u001b[0m \u001b[0mlabels\u001b[0m \u001b[0;34m=\u001b[0m \u001b[0mX\u001b[0m\u001b[0;34m[\u001b[0m\u001b[0mindices\u001b[0m\u001b[0;34m]\u001b[0m\u001b[0;34m,\u001b[0m \u001b[0mlabels\u001b[0m\u001b[0;34m[\u001b[0m\u001b[0mindices\u001b[0m\u001b[0;34m]\u001b[0m\u001b[0;34m\u001b[0m\u001b[0;34m\u001b[0m\u001b[0m\n\u001b[0;32m--> 117\u001b[0;31m     \u001b[0;32mreturn\u001b[0m \u001b[0mnp\u001b[0m\u001b[0;34m.\u001b[0m\u001b[0mmean\u001b[0m\u001b[0;34m(\u001b[0m\u001b[0msilhouette_samples\u001b[0m\u001b[0;34m(\u001b[0m\u001b[0mX\u001b[0m\u001b[0;34m,\u001b[0m \u001b[0mlabels\u001b[0m\u001b[0;34m,\u001b[0m \u001b[0mmetric\u001b[0m\u001b[0;34m=\u001b[0m\u001b[0mmetric\u001b[0m\u001b[0;34m,\u001b[0m \u001b[0;34m**\u001b[0m\u001b[0mkwds\u001b[0m\u001b[0;34m)\u001b[0m\u001b[0;34m)\u001b[0m\u001b[0;34m\u001b[0m\u001b[0;34m\u001b[0m\u001b[0m\n\u001b[0m\u001b[1;32m    118\u001b[0m \u001b[0;34m\u001b[0m\u001b[0m\n\u001b[1;32m    119\u001b[0m \u001b[0;34m\u001b[0m\u001b[0m\n",
            "\u001b[0;32m/usr/local/lib/python3.9/dist-packages/sklearn/metrics/cluster/_unsupervised.py\u001b[0m in \u001b[0;36msilhouette_samples\u001b[0;34m(X, labels, metric, **kwds)\u001b[0m\n\u001b[1;32m    229\u001b[0m     \u001b[0mn_samples\u001b[0m \u001b[0;34m=\u001b[0m \u001b[0mlen\u001b[0m\u001b[0;34m(\u001b[0m\u001b[0mlabels\u001b[0m\u001b[0;34m)\u001b[0m\u001b[0;34m\u001b[0m\u001b[0;34m\u001b[0m\u001b[0m\n\u001b[1;32m    230\u001b[0m     \u001b[0mlabel_freqs\u001b[0m \u001b[0;34m=\u001b[0m \u001b[0mnp\u001b[0m\u001b[0;34m.\u001b[0m\u001b[0mbincount\u001b[0m\u001b[0;34m(\u001b[0m\u001b[0mlabels\u001b[0m\u001b[0;34m)\u001b[0m\u001b[0;34m\u001b[0m\u001b[0;34m\u001b[0m\u001b[0m\n\u001b[0;32m--> 231\u001b[0;31m     \u001b[0mcheck_number_of_labels\u001b[0m\u001b[0;34m(\u001b[0m\u001b[0mlen\u001b[0m\u001b[0;34m(\u001b[0m\u001b[0mle\u001b[0m\u001b[0;34m.\u001b[0m\u001b[0mclasses_\u001b[0m\u001b[0;34m)\u001b[0m\u001b[0;34m,\u001b[0m \u001b[0mn_samples\u001b[0m\u001b[0;34m)\u001b[0m\u001b[0;34m\u001b[0m\u001b[0;34m\u001b[0m\u001b[0m\n\u001b[0m\u001b[1;32m    232\u001b[0m \u001b[0;34m\u001b[0m\u001b[0m\n\u001b[1;32m    233\u001b[0m     \u001b[0mkwds\u001b[0m\u001b[0;34m[\u001b[0m\u001b[0;34m\"metric\"\u001b[0m\u001b[0;34m]\u001b[0m \u001b[0;34m=\u001b[0m \u001b[0mmetric\u001b[0m\u001b[0;34m\u001b[0m\u001b[0;34m\u001b[0m\u001b[0m\n",
            "\u001b[0;32m/usr/local/lib/python3.9/dist-packages/sklearn/metrics/cluster/_unsupervised.py\u001b[0m in \u001b[0;36mcheck_number_of_labels\u001b[0;34m(n_labels, n_samples)\u001b[0m\n\u001b[1;32m     31\u001b[0m     \"\"\"\n\u001b[1;32m     32\u001b[0m     \u001b[0;32mif\u001b[0m \u001b[0;32mnot\u001b[0m \u001b[0;36m1\u001b[0m \u001b[0;34m<\u001b[0m \u001b[0mn_labels\u001b[0m \u001b[0;34m<\u001b[0m \u001b[0mn_samples\u001b[0m\u001b[0;34m:\u001b[0m\u001b[0;34m\u001b[0m\u001b[0;34m\u001b[0m\u001b[0m\n\u001b[0;32m---> 33\u001b[0;31m         raise ValueError(\n\u001b[0m\u001b[1;32m     34\u001b[0m             \u001b[0;34m\"Number of labels is %d. Valid values are 2 to n_samples - 1 (inclusive)\"\u001b[0m\u001b[0;34m\u001b[0m\u001b[0;34m\u001b[0m\u001b[0m\n\u001b[1;32m     35\u001b[0m             \u001b[0;34m%\u001b[0m \u001b[0mn_labels\u001b[0m\u001b[0;34m\u001b[0m\u001b[0;34m\u001b[0m\u001b[0m\n",
            "\u001b[0;31mValueError\u001b[0m: Number of labels is 1. Valid values are 2 to n_samples - 1 (inclusive)"
          ]
        }
      ]
    },
    {
      "cell_type": "code",
      "source": [
        "X = df_caracteristicas_selecionadas_deputados.iloc[: , 2:].values\n",
        "\n",
        "db = DBSCAN(eps=0.3, min_samples=200).fit(X)\n",
        "labels = db.labels_\n",
        "\n",
        "# Number of clusters in labels, ignoring noise if present.\n",
        "n_clusters_ = len(set(labels)) - (1 if -1 in labels else 0)\n",
        "n_noise_ = list(labels).count(-1)\n",
        "\n",
        "print(\"Estimated number of clusters: %d\" % n_clusters_)\n",
        "print(\"Estimated number of noise points: %d\" % n_noise_)\n",
        "\n",
        "# print(f\"Silhouette Coefficient: {metrics.silhouette_score(X, labels):.3f}\")"
      ],
      "metadata": {
        "colab": {
          "base_uri": "https://localhost:8080/"
        },
        "id": "d-EJOwWsEL76",
        "outputId": "8f0baeb4-1b1e-4659-ef17-1b77ac34320c"
      },
      "execution_count": null,
      "outputs": [
        {
          "output_type": "stream",
          "name": "stdout",
          "text": [
            "Estimated number of clusters: 0\n",
            "Estimated number of noise points: 513\n"
          ]
        }
      ]
    },
    {
      "cell_type": "code",
      "source": [],
      "metadata": {
        "id": "6UtBhC_IXLaz"
      },
      "execution_count": null,
      "outputs": []
    },
    {
      "cell_type": "code",
      "source": [
        "plt.figure(1)\n",
        "plt.clf()\n",
        "\n",
        "colors = [\"#dede00\", \"#377eb8\", \"#f781bf\", '#f9aa00', \"#00AA18\"]\n",
        "markers = [\"p\", \"o\", \"^\", '*', 's']\n",
        "\n",
        "for k, col in zip(range(n_clusters_), colors):\n",
        "    my_members = labels == k\n",
        "    cluster_center = cluster_centers[k]\n",
        "    plt.scatter(df_caracteristicas_selecionadas_deputados.iloc[: , 2:].values[my_members, 0], df_caracteristicas_selecionadas_deputados.iloc[: , 2:].values[my_members, 1], color=col)\n",
        "    plt.plot(\n",
        "        cluster_center[0],\n",
        "        cluster_center[1],\n",
        "        markers[k],\n",
        "        markerfacecolor=col,\n",
        "        markeredgecolor=\"k\",\n",
        "        markersize=14,\n",
        "    )\n",
        "plt.title(\"Estimated number of clusters: %d\" % n_clusters_)\n",
        "plt.show()"
      ],
      "metadata": {
        "id": "2pnhL7x6FAVv"
      },
      "execution_count": null,
      "outputs": []
    },
    {
      "cell_type": "markdown",
      "source": [
        "# Nova seção"
      ],
      "metadata": {
        "id": "1Fe3GRzWZptF"
      }
    },
    {
      "cell_type": "markdown",
      "source": [
        "## KMeans"
      ],
      "metadata": {
        "id": "zegOQ6w6Zqli"
      }
    },
    {
      "cell_type": "code",
      "source": [
        "X = df_caracteristicas_selecionadas_deputados.iloc[: , 2:].values\n",
        "X.shape"
      ],
      "metadata": {
        "colab": {
          "base_uri": "https://localhost:8080/"
        },
        "outputId": "c25f11c1-7a88-4d6a-f23b-12def10c9b75",
        "id": "RkGZ6qXzZqli"
      },
      "execution_count": null,
      "outputs": [
        {
          "output_type": "execute_result",
          "data": {
            "text/plain": [
              "(513, 4)"
            ]
          },
          "metadata": {},
          "execution_count": 13
        }
      ]
    },
    {
      "cell_type": "code",
      "source": [
        "print([_ for _ in range(2, 7)])\n",
        "print([_ for _ in range(50, 201, 10)])"
      ],
      "metadata": {
        "colab": {
          "base_uri": "https://localhost:8080/"
        },
        "outputId": "f967bf41-6f4b-4f73-d3c1-9a52010b3c67",
        "id": "5vgUu7pUZqli"
      },
      "execution_count": null,
      "outputs": [
        {
          "output_type": "stream",
          "name": "stdout",
          "text": [
            "[2, 3, 4, 5, 6]\n",
            "[50, 60, 70, 80, 90, 100, 110, 120, 130, 140, 150, 160, 170, 180, 190, 200]\n"
          ]
        }
      ]
    },
    {
      "cell_type": "code",
      "source": [
        "# Define modelo e parametros\n",
        "clustering_model = KMeans()\n",
        "parametros = {\n",
        "                \"n_init\": [\"auto\"],\n",
        "                'n_clusters': [_ for _ in range(2, 7)],\n",
        "                'random_state': [_ for _ in range(50, 201, 10)]\n",
        "            }\n",
        "\n",
        "# Busca pelo melhor modelo\n",
        "eixo_x = None\n",
        "eixo_y = None\n",
        "y_pred = None\n",
        "silhouette = -1\n",
        "best_model = {\n",
        "    'n_clusters': None,\n",
        "    'random_state': None,\n",
        "    'silhouette': silhouette\n",
        "}\n",
        "\n",
        "for n_clusters in parametros['n_clusters']:\n",
        "  for random_state in parametros['random_state']:\n",
        "    k_means = KMeans(n_clusters=n_clusters, n_init='auto', random_state=random_state)\n",
        "    k_means.fit(X)\n",
        "    labels = k_means.labels_\n",
        "    silhouette_current = metrics.silhouette_score(X, labels)\n",
        "    print(f\"n_clusters = {n_clusters}, random_state = {random_state}\")\n",
        "    print(f\"Silhouette Coefficient: {silhouette_current:.3f}\\n\")\n",
        "    if silhouette_current > silhouette:\n",
        "      eixo_x = X[:, 0]\n",
        "      eixo_y = X[:, 1]\n",
        "      y_pred = k_means.predict(X)\n",
        "      silhouette = silhouette_current\n",
        "      best_model = {\n",
        "          'n_clusters': n_clusters,\n",
        "          'random_state': random_state,\n",
        "          'silhouette': silhouette\n",
        "      }"
      ],
      "metadata": {
        "colab": {
          "base_uri": "https://localhost:8080/"
        },
        "outputId": "2ccbc478-3190-493b-f439-407bff5e3408",
        "id": "vSkOvEkoZqli"
      },
      "execution_count": null,
      "outputs": [
        {
          "output_type": "stream",
          "name": "stdout",
          "text": [
            "n_clusters = 2, random_state = 50\n",
            "Silhouette Coefficient: 0.367\n",
            "\n",
            "n_clusters = 2, random_state = 60\n",
            "Silhouette Coefficient: 0.386\n",
            "\n",
            "n_clusters = 2, random_state = 70\n",
            "Silhouette Coefficient: 0.414\n",
            "\n",
            "n_clusters = 2, random_state = 80\n",
            "Silhouette Coefficient: 0.414\n",
            "\n",
            "n_clusters = 2, random_state = 90\n",
            "Silhouette Coefficient: 0.407\n",
            "\n",
            "n_clusters = 2, random_state = 100\n",
            "Silhouette Coefficient: 0.402\n",
            "\n",
            "n_clusters = 2, random_state = 110\n",
            "Silhouette Coefficient: 0.406\n",
            "\n",
            "n_clusters = 2, random_state = 120\n",
            "Silhouette Coefficient: 0.417\n",
            "\n",
            "n_clusters = 2, random_state = 130\n",
            "Silhouette Coefficient: 0.386\n",
            "\n",
            "n_clusters = 2, random_state = 140\n",
            "Silhouette Coefficient: 0.414\n",
            "\n",
            "n_clusters = 2, random_state = 150\n",
            "Silhouette Coefficient: 0.414\n",
            "\n",
            "n_clusters = 2, random_state = 160\n",
            "Silhouette Coefficient: 0.367\n",
            "\n",
            "n_clusters = 2, random_state = 170\n",
            "Silhouette Coefficient: 0.389\n",
            "\n",
            "n_clusters = 2, random_state = 180\n",
            "Silhouette Coefficient: 0.413\n",
            "\n",
            "n_clusters = 2, random_state = 190\n",
            "Silhouette Coefficient: 0.413\n",
            "\n",
            "n_clusters = 2, random_state = 200\n",
            "Silhouette Coefficient: 0.414\n",
            "\n",
            "n_clusters = 3, random_state = 50\n",
            "Silhouette Coefficient: 0.415\n",
            "\n",
            "n_clusters = 3, random_state = 60\n",
            "Silhouette Coefficient: 0.302\n",
            "\n",
            "n_clusters = 3, random_state = 70\n",
            "Silhouette Coefficient: 0.384\n",
            "\n",
            "n_clusters = 3, random_state = 80\n",
            "Silhouette Coefficient: 0.364\n",
            "\n",
            "n_clusters = 3, random_state = 90\n",
            "Silhouette Coefficient: 0.430\n",
            "\n",
            "n_clusters = 3, random_state = 100\n",
            "Silhouette Coefficient: 0.428\n",
            "\n",
            "n_clusters = 3, random_state = 110\n",
            "Silhouette Coefficient: 0.428\n",
            "\n",
            "n_clusters = 3, random_state = 120\n",
            "Silhouette Coefficient: 0.350\n",
            "\n",
            "n_clusters = 3, random_state = 130\n",
            "Silhouette Coefficient: 0.362\n",
            "\n",
            "n_clusters = 3, random_state = 140\n",
            "Silhouette Coefficient: 0.314\n",
            "\n",
            "n_clusters = 3, random_state = 150\n",
            "Silhouette Coefficient: 0.395\n",
            "\n",
            "n_clusters = 3, random_state = 160\n",
            "Silhouette Coefficient: 0.395\n",
            "\n",
            "n_clusters = 3, random_state = 170\n",
            "Silhouette Coefficient: 0.395\n",
            "\n",
            "n_clusters = 3, random_state = 180\n",
            "Silhouette Coefficient: 0.428\n",
            "\n",
            "n_clusters = 3, random_state = 190\n",
            "Silhouette Coefficient: 0.395\n",
            "\n",
            "n_clusters = 3, random_state = 200\n",
            "Silhouette Coefficient: 0.364\n",
            "\n",
            "n_clusters = 4, random_state = 50\n",
            "Silhouette Coefficient: 0.415\n",
            "\n",
            "n_clusters = 4, random_state = 60\n",
            "Silhouette Coefficient: 0.353\n",
            "\n",
            "n_clusters = 4, random_state = 70\n",
            "Silhouette Coefficient: 0.426\n",
            "\n",
            "n_clusters = 4, random_state = 80\n",
            "Silhouette Coefficient: 0.395\n",
            "\n",
            "n_clusters = 4, random_state = 90\n",
            "Silhouette Coefficient: 0.415\n",
            "\n",
            "n_clusters = 4, random_state = 100\n",
            "Silhouette Coefficient: 0.412\n",
            "\n",
            "n_clusters = 4, random_state = 110\n",
            "Silhouette Coefficient: 0.384\n",
            "\n",
            "n_clusters = 4, random_state = 120\n",
            "Silhouette Coefficient: 0.415\n",
            "\n",
            "n_clusters = 4, random_state = 130\n",
            "Silhouette Coefficient: 0.426\n",
            "\n",
            "n_clusters = 4, random_state = 140\n",
            "Silhouette Coefficient: 0.350\n",
            "\n",
            "n_clusters = 4, random_state = 150\n",
            "Silhouette Coefficient: 0.448\n",
            "\n",
            "n_clusters = 4, random_state = 160\n",
            "Silhouette Coefficient: 0.449\n",
            "\n",
            "n_clusters = 4, random_state = 170\n",
            "Silhouette Coefficient: 0.394\n",
            "\n",
            "n_clusters = 4, random_state = 180\n",
            "Silhouette Coefficient: 0.447\n",
            "\n",
            "n_clusters = 4, random_state = 190\n",
            "Silhouette Coefficient: 0.448\n",
            "\n",
            "n_clusters = 4, random_state = 200\n",
            "Silhouette Coefficient: 0.399\n",
            "\n",
            "n_clusters = 5, random_state = 50\n",
            "Silhouette Coefficient: 0.419\n",
            "\n",
            "n_clusters = 5, random_state = 60\n",
            "Silhouette Coefficient: 0.416\n",
            "\n",
            "n_clusters = 5, random_state = 70\n",
            "Silhouette Coefficient: 0.485\n",
            "\n",
            "n_clusters = 5, random_state = 80\n",
            "Silhouette Coefficient: 0.470\n",
            "\n",
            "n_clusters = 5, random_state = 90\n",
            "Silhouette Coefficient: 0.465\n",
            "\n",
            "n_clusters = 5, random_state = 100\n",
            "Silhouette Coefficient: 0.481\n",
            "\n",
            "n_clusters = 5, random_state = 110\n",
            "Silhouette Coefficient: 0.455\n",
            "\n",
            "n_clusters = 5, random_state = 120\n",
            "Silhouette Coefficient: 0.469\n",
            "\n",
            "n_clusters = 5, random_state = 130\n",
            "Silhouette Coefficient: 0.481\n",
            "\n",
            "n_clusters = 5, random_state = 140\n",
            "Silhouette Coefficient: 0.432\n",
            "\n",
            "n_clusters = 5, random_state = 150\n",
            "Silhouette Coefficient: 0.481\n",
            "\n",
            "n_clusters = 5, random_state = 160\n",
            "Silhouette Coefficient: 0.469\n",
            "\n",
            "n_clusters = 5, random_state = 170\n",
            "Silhouette Coefficient: 0.469\n",
            "\n",
            "n_clusters = 5, random_state = 180\n",
            "Silhouette Coefficient: 0.481\n",
            "\n",
            "n_clusters = 5, random_state = 190\n",
            "Silhouette Coefficient: 0.474\n",
            "\n",
            "n_clusters = 5, random_state = 200\n",
            "Silhouette Coefficient: 0.429\n",
            "\n",
            "n_clusters = 6, random_state = 50\n",
            "Silhouette Coefficient: 0.490\n",
            "\n",
            "n_clusters = 6, random_state = 60\n",
            "Silhouette Coefficient: 0.485\n",
            "\n",
            "n_clusters = 6, random_state = 70\n",
            "Silhouette Coefficient: 0.494\n",
            "\n",
            "n_clusters = 6, random_state = 80\n",
            "Silhouette Coefficient: 0.486\n",
            "\n",
            "n_clusters = 6, random_state = 90\n",
            "Silhouette Coefficient: 0.514\n",
            "\n",
            "n_clusters = 6, random_state = 100\n",
            "Silhouette Coefficient: 0.492\n",
            "\n",
            "n_clusters = 6, random_state = 110\n",
            "Silhouette Coefficient: 0.486\n",
            "\n",
            "n_clusters = 6, random_state = 120\n",
            "Silhouette Coefficient: 0.495\n",
            "\n",
            "n_clusters = 6, random_state = 130\n",
            "Silhouette Coefficient: 0.490\n",
            "\n",
            "n_clusters = 6, random_state = 140\n",
            "Silhouette Coefficient: 0.495\n",
            "\n",
            "n_clusters = 6, random_state = 150\n",
            "Silhouette Coefficient: 0.513\n",
            "\n",
            "n_clusters = 6, random_state = 160\n",
            "Silhouette Coefficient: 0.504\n",
            "\n",
            "n_clusters = 6, random_state = 170\n",
            "Silhouette Coefficient: 0.493\n",
            "\n",
            "n_clusters = 6, random_state = 180\n",
            "Silhouette Coefficient: 0.492\n",
            "\n",
            "n_clusters = 6, random_state = 190\n",
            "Silhouette Coefficient: 0.486\n",
            "\n",
            "n_clusters = 6, random_state = 200\n",
            "Silhouette Coefficient: 0.514\n",
            "\n"
          ]
        }
      ]
    },
    {
      "cell_type": "code",
      "source": [
        "best_model"
      ],
      "metadata": {
        "colab": {
          "base_uri": "https://localhost:8080/"
        },
        "id": "IDqkHqcXdaOl",
        "outputId": "fb1f5b26-4812-467a-81e4-eb47abd41d2d"
      },
      "execution_count": null,
      "outputs": [
        {
          "output_type": "execute_result",
          "data": {
            "text/plain": [
              "{'n_clusters': 6, 'random_state': 90, 'silhouette': 0.5135897828998985}"
            ]
          },
          "metadata": {},
          "execution_count": 20
        }
      ]
    },
    {
      "cell_type": "code",
      "source": [
        "print(f\"Best Silhouette Coefficient: {silhouette:.3f}\\n\\n\")\n",
        "\n",
        "plt.scatter(eixo_x, eixo_y, c=y_pred)\n",
        "plt.title(\"Clusters\")\n",
        "plt.show()"
      ],
      "metadata": {
        "colab": {
          "base_uri": "https://localhost:8080/",
          "height": 333
        },
        "outputId": "cb0cfd95-8df0-43c8-d32f-e18c7aa68a21",
        "id": "GkjA_LxTZqli"
      },
      "execution_count": null,
      "outputs": [
        {
          "output_type": "stream",
          "name": "stdout",
          "text": [
            "Best Silhouette Coefficient: 0.514\n",
            "\n",
            "\n"
          ]
        },
        {
          "output_type": "display_data",
          "data": {
            "text/plain": [
              "<Figure size 432x288 with 1 Axes>"
            ],
            "image/png": "[encoded data removed]"
          },
          "metadata": {
            "needs_background": "light"
          }
        }
      ]
    },
    {
      "cell_type": "markdown",
      "source": [
        "## KMeans PCA"
      ],
      "metadata": {
        "id": "-fnZ-Z8Ci7dw"
      }
    },
    {
      "cell_type": "code",
      "source": [
        "X = df_caracteristicas_selecionadas_deputados.iloc[: , 2:].values\n",
        "X_pca = PCA(n_components=2).fit_transform(X)\n",
        "X_pca\n",
        "X_pca.shape"
      ],
      "metadata": {
        "colab": {
          "base_uri": "https://localhost:8080/"
        },
        "outputId": "b19d1e19-5aa7-4bc9-e77c-cc452e58769a",
        "id": "_LMAGOdni7dx"
      },
      "execution_count": null,
      "outputs": [
        {
          "output_type": "execute_result",
          "data": {
            "text/plain": [
              "(513, 2)"
            ]
          },
          "metadata": {},
          "execution_count": 27
        }
      ]
    },
    {
      "cell_type": "code",
      "source": [
        "print([_ for _ in range(2, 7)])\n",
        "print([_ for _ in range(50, 201, 10)])"
      ],
      "metadata": {
        "colab": {
          "base_uri": "https://localhost:8080/"
        },
        "outputId": "69a6753f-8462-4ec0-e1b0-d4105972e07b",
        "id": "qRZgeYG1i7dx"
      },
      "execution_count": null,
      "outputs": [
        {
          "output_type": "stream",
          "name": "stdout",
          "text": [
            "[2, 3, 4, 5, 6]\n",
            "[50, 60, 70, 80, 90, 100, 110, 120, 130, 140, 150, 160, 170, 180, 190, 200]\n"
          ]
        }
      ]
    },
    {
      "cell_type": "code",
      "source": [
        "# Define modelo e parametros\n",
        "clustering_model = KMeans()\n",
        "parametros = {\n",
        "                \"n_init\": [\"auto\"],\n",
        "                'n_clusters': [_ for _ in range(2, 7)],\n",
        "                'random_state': [_ for _ in range(50, 201, 10)]\n",
        "            }\n",
        "\n",
        "# Busca pelo melhor modelo\n",
        "eixo_x = None\n",
        "eixo_y = None\n",
        "y_pred = None\n",
        "silhouette = -1\n",
        "best_model = {\n",
        "    'n_clusters': None,\n",
        "    'random_state': None,\n",
        "    'silhouette': silhouette\n",
        "}\n",
        "\n",
        "for n_clusters in parametros['n_clusters']:\n",
        "  for random_state in parametros['random_state']:\n",
        "    k_means = KMeans(n_clusters=n_clusters, n_init='auto', random_state=random_state)\n",
        "    k_means.fit(X_pca)\n",
        "    labels = k_means.labels_\n",
        "    silhouette_current = metrics.silhouette_score(X_pca, labels)\n",
        "    print(f\"n_clusters = {n_clusters}, random_state = {random_state}\")\n",
        "    print(f\"Silhouette Coefficient: {silhouette_current:.3f}\\n\")\n",
        "    if silhouette_current > silhouette:\n",
        "      eixo_x = X_pca[:, 0]\n",
        "      eixo_y = X_pca[:, 1]\n",
        "      y_pred = k_means.predict(X_pca)\n",
        "      silhouette = silhouette_current\n",
        "      best_model = {\n",
        "          'n_clusters': n_clusters,\n",
        "          'random_state': random_state,\n",
        "          'silhouette': silhouette\n",
        "      }"
      ],
      "metadata": {
        "colab": {
          "base_uri": "https://localhost:8080/"
        },
        "outputId": "13dc8e22-932d-4d5a-f587-0ac11cec7b6d",
        "id": "I8MtcHd7i7dx"
      },
      "execution_count": null,
      "outputs": [
        {
          "output_type": "stream",
          "name": "stdout",
          "text": [
            "n_clusters = 2, random_state = 50\n",
            "Silhouette Coefficient: 0.475\n",
            "\n",
            "n_clusters = 2, random_state = 60\n",
            "Silhouette Coefficient: 0.529\n",
            "\n",
            "n_clusters = 2, random_state = 70\n",
            "Silhouette Coefficient: 0.475\n",
            "\n",
            "n_clusters = 2, random_state = 80\n",
            "Silhouette Coefficient: 0.529\n",
            "\n",
            "n_clusters = 2, random_state = 90\n",
            "Silhouette Coefficient: 0.483\n",
            "\n",
            "n_clusters = 2, random_state = 100\n",
            "Silhouette Coefficient: 0.484\n",
            "\n",
            "n_clusters = 2, random_state = 110\n",
            "Silhouette Coefficient: 0.529\n",
            "\n",
            "n_clusters = 2, random_state = 120\n",
            "Silhouette Coefficient: 0.544\n",
            "\n",
            "n_clusters = 2, random_state = 130\n",
            "Silhouette Coefficient: 0.484\n",
            "\n",
            "n_clusters = 2, random_state = 140\n",
            "Silhouette Coefficient: 0.529\n",
            "\n",
            "n_clusters = 2, random_state = 150\n",
            "Silhouette Coefficient: 0.529\n",
            "\n",
            "n_clusters = 2, random_state = 160\n",
            "Silhouette Coefficient: 0.529\n",
            "\n",
            "n_clusters = 2, random_state = 170\n",
            "Silhouette Coefficient: 0.475\n",
            "\n",
            "n_clusters = 2, random_state = 180\n",
            "Silhouette Coefficient: 0.529\n",
            "\n",
            "n_clusters = 2, random_state = 190\n",
            "Silhouette Coefficient: 0.529\n",
            "\n",
            "n_clusters = 2, random_state = 200\n",
            "Silhouette Coefficient: 0.475\n",
            "\n",
            "n_clusters = 3, random_state = 50\n",
            "Silhouette Coefficient: 0.589\n",
            "\n",
            "n_clusters = 3, random_state = 60\n",
            "Silhouette Coefficient: 0.537\n",
            "\n",
            "n_clusters = 3, random_state = 70\n",
            "Silhouette Coefficient: 0.589\n",
            "\n",
            "n_clusters = 3, random_state = 80\n",
            "Silhouette Coefficient: 0.570\n",
            "\n",
            "n_clusters = 3, random_state = 90\n",
            "Silhouette Coefficient: 0.589\n",
            "\n",
            "n_clusters = 3, random_state = 100\n",
            "Silhouette Coefficient: 0.589\n",
            "\n",
            "n_clusters = 3, random_state = 110\n",
            "Silhouette Coefficient: 0.570\n",
            "\n",
            "n_clusters = 3, random_state = 120\n",
            "Silhouette Coefficient: 0.589\n",
            "\n",
            "n_clusters = 3, random_state = 130\n",
            "Silhouette Coefficient: 0.551\n",
            "\n",
            "n_clusters = 3, random_state = 140\n",
            "Silhouette Coefficient: 0.570\n",
            "\n",
            "n_clusters = 3, random_state = 150\n",
            "Silhouette Coefficient: 0.537\n",
            "\n",
            "n_clusters = 3, random_state = 160\n",
            "Silhouette Coefficient: 0.551\n",
            "\n",
            "n_clusters = 3, random_state = 170\n",
            "Silhouette Coefficient: 0.551\n",
            "\n",
            "n_clusters = 3, random_state = 180\n",
            "Silhouette Coefficient: 0.537\n",
            "\n",
            "n_clusters = 3, random_state = 190\n",
            "Silhouette Coefficient: 0.551\n",
            "\n",
            "n_clusters = 3, random_state = 200\n",
            "Silhouette Coefficient: 0.551\n",
            "\n",
            "n_clusters = 4, random_state = 50\n",
            "Silhouette Coefficient: 0.568\n",
            "\n",
            "n_clusters = 4, random_state = 60\n",
            "Silhouette Coefficient: 0.543\n",
            "\n",
            "n_clusters = 4, random_state = 70\n",
            "Silhouette Coefficient: 0.641\n",
            "\n",
            "n_clusters = 4, random_state = 80\n",
            "Silhouette Coefficient: 0.636\n",
            "\n",
            "n_clusters = 4, random_state = 90\n",
            "Silhouette Coefficient: 0.644\n",
            "\n",
            "n_clusters = 4, random_state = 100\n",
            "Silhouette Coefficient: 0.641\n",
            "\n",
            "n_clusters = 4, random_state = 110\n",
            "Silhouette Coefficient: 0.644\n",
            "\n",
            "n_clusters = 4, random_state = 120\n",
            "Silhouette Coefficient: 0.644\n",
            "\n",
            "n_clusters = 4, random_state = 130\n",
            "Silhouette Coefficient: 0.636\n",
            "\n",
            "n_clusters = 4, random_state = 140\n",
            "Silhouette Coefficient: 0.644\n",
            "\n",
            "n_clusters = 4, random_state = 150\n",
            "Silhouette Coefficient: 0.644\n",
            "\n",
            "n_clusters = 4, random_state = 160\n",
            "Silhouette Coefficient: 0.644\n",
            "\n",
            "n_clusters = 4, random_state = 170\n",
            "Silhouette Coefficient: 0.544\n",
            "\n",
            "n_clusters = 4, random_state = 180\n",
            "Silhouette Coefficient: 0.636\n",
            "\n",
            "n_clusters = 4, random_state = 190\n",
            "Silhouette Coefficient: 0.644\n",
            "\n",
            "n_clusters = 4, random_state = 200\n",
            "Silhouette Coefficient: 0.636\n",
            "\n",
            "n_clusters = 5, random_state = 50\n",
            "Silhouette Coefficient: 0.657\n",
            "\n",
            "n_clusters = 5, random_state = 60\n",
            "Silhouette Coefficient: 0.461\n",
            "\n",
            "n_clusters = 5, random_state = 70\n",
            "Silhouette Coefficient: 0.657\n",
            "\n",
            "n_clusters = 5, random_state = 80\n",
            "Silhouette Coefficient: 0.653\n",
            "\n",
            "n_clusters = 5, random_state = 90\n",
            "Silhouette Coefficient: 0.662\n",
            "\n",
            "n_clusters = 5, random_state = 100\n",
            "Silhouette Coefficient: 0.637\n",
            "\n",
            "n_clusters = 5, random_state = 110\n",
            "Silhouette Coefficient: 0.662\n",
            "\n",
            "n_clusters = 5, random_state = 120\n",
            "Silhouette Coefficient: 0.661\n",
            "\n",
            "n_clusters = 5, random_state = 130\n",
            "Silhouette Coefficient: 0.633\n",
            "\n",
            "n_clusters = 5, random_state = 140\n",
            "Silhouette Coefficient: 0.662\n",
            "\n",
            "n_clusters = 5, random_state = 150\n",
            "Silhouette Coefficient: 0.663\n",
            "\n",
            "n_clusters = 5, random_state = 160\n",
            "Silhouette Coefficient: 0.665\n",
            "\n",
            "n_clusters = 5, random_state = 170\n",
            "Silhouette Coefficient: 0.657\n",
            "\n",
            "n_clusters = 5, random_state = 180\n",
            "Silhouette Coefficient: 0.653\n",
            "\n",
            "n_clusters = 5, random_state = 190\n",
            "Silhouette Coefficient: 0.649\n",
            "\n",
            "n_clusters = 5, random_state = 200\n",
            "Silhouette Coefficient: 0.633\n",
            "\n",
            "n_clusters = 6, random_state = 50\n",
            "Silhouette Coefficient: 0.569\n",
            "\n",
            "n_clusters = 6, random_state = 60\n",
            "Silhouette Coefficient: 0.641\n",
            "\n",
            "n_clusters = 6, random_state = 70\n",
            "Silhouette Coefficient: 0.683\n",
            "\n",
            "n_clusters = 6, random_state = 80\n",
            "Silhouette Coefficient: 0.683\n",
            "\n",
            "n_clusters = 6, random_state = 90\n",
            "Silhouette Coefficient: 0.665\n",
            "\n",
            "n_clusters = 6, random_state = 100\n",
            "Silhouette Coefficient: 0.664\n",
            "\n",
            "n_clusters = 6, random_state = 110\n",
            "Silhouette Coefficient: 0.684\n",
            "\n",
            "n_clusters = 6, random_state = 120\n",
            "Silhouette Coefficient: 0.664\n",
            "\n",
            "n_clusters = 6, random_state = 130\n",
            "Silhouette Coefficient: 0.632\n",
            "\n",
            "n_clusters = 6, random_state = 140\n",
            "Silhouette Coefficient: 0.641\n",
            "\n",
            "n_clusters = 6, random_state = 150\n",
            "Silhouette Coefficient: 0.687\n",
            "\n",
            "n_clusters = 6, random_state = 160\n",
            "Silhouette Coefficient: 0.686\n",
            "\n",
            "n_clusters = 6, random_state = 170\n",
            "Silhouette Coefficient: 0.636\n",
            "\n",
            "n_clusters = 6, random_state = 180\n",
            "Silhouette Coefficient: 0.684\n",
            "\n",
            "n_clusters = 6, random_state = 190\n",
            "Silhouette Coefficient: 0.641\n",
            "\n",
            "n_clusters = 6, random_state = 200\n",
            "Silhouette Coefficient: 0.667\n",
            "\n"
          ]
        }
      ]
    },
    {
      "cell_type": "code",
      "source": [
        "best_model"
      ],
      "metadata": {
        "colab": {
          "base_uri": "https://localhost:8080/"
        },
        "outputId": "27dafd28-25f5-423a-ab3a-b16953be3770",
        "id": "iEeXhZuni7dx"
      },
      "execution_count": null,
      "outputs": [
        {
          "output_type": "execute_result",
          "data": {
            "text/plain": [
              "{'n_clusters': 6, 'random_state': 150, 'silhouette': 0.6867940624497076}"
            ]
          },
          "metadata": {},
          "execution_count": 30
        }
      ]
    },
    {
      "cell_type": "code",
      "source": [
        "print(f\"Best Silhouette Coefficient: {silhouette:.3f}\\n\\n\")\n",
        "\n",
        "plt.scatter(eixo_x, eixo_y, c=y_pred)\n",
        "plt.title(\"Clusters\")\n",
        "plt.show()"
      ],
      "metadata": {
        "colab": {
          "base_uri": "https://localhost:8080/",
          "height": 333
        },
        "outputId": "eae1c292-d569-4ffe-acdc-ff092cf6e9b3",
        "id": "3VSI7ytDi7dx"
      },
      "execution_count": null,
      "outputs": [
        {
          "output_type": "stream",
          "name": "stdout",
          "text": [
            "Best Silhouette Coefficient: 0.687\n",
            "\n",
            "\n"
          ]
        },
        {
          "output_type": "display_data",
          "data": {
            "text/plain": [
              "<Figure size 432x288 with 1 Axes>"
            ],
            "image/png": "[encoded data removed]"
          },
          "metadata": {
            "needs_background": "light"
          }
        }
      ]
    },
    {
      "cell_type": "markdown",
      "source": [
        "## Usando MeanShift"
      ],
      "metadata": {
        "id": "YQ5PnjMwIPLa"
      }
    },
    {
      "cell_type": "code",
      "source": [
        "X = df_caracteristicas_selecionadas_deputados.iloc[: , 2:].values\n",
        "X.shape"
      ],
      "metadata": {
        "colab": {
          "base_uri": "https://localhost:8080/"
        },
        "outputId": "04b7aeef-f2b5-476c-dfb6-751f8b97931c",
        "id": "szUXV_7vIPLg"
      },
      "execution_count": null,
      "outputs": [
        {
          "output_type": "execute_result",
          "data": {
            "text/plain": [
              "(513, 4)"
            ]
          },
          "metadata": {},
          "execution_count": 45
        }
      ]
    },
    {
      "cell_type": "code",
      "source": [
        "[print(q/10, s) for q in range(0, 11) for s in range(100, 201, 50)]"
      ],
      "metadata": {
        "colab": {
          "base_uri": "https://localhost:8080/"
        },
        "outputId": "7976cff8-6450-4b1a-ba96-090308b8886d",
        "id": "erm0-vQXIPLg"
      },
      "execution_count": null,
      "outputs": [
        {
          "output_type": "stream",
          "name": "stdout",
          "text": [
            "0.0 100\n",
            "0.0 150\n",
            "0.0 200\n",
            "0.1 100\n",
            "0.1 150\n",
            "0.1 200\n",
            "0.2 100\n",
            "0.2 150\n",
            "0.2 200\n",
            "0.3 100\n",
            "0.3 150\n",
            "0.3 200\n",
            "0.4 100\n",
            "0.4 150\n",
            "0.4 200\n",
            "0.5 100\n",
            "0.5 150\n",
            "0.5 200\n",
            "0.6 100\n",
            "0.6 150\n",
            "0.6 200\n",
            "0.7 100\n",
            "0.7 150\n",
            "0.7 200\n",
            "0.8 100\n",
            "0.8 150\n",
            "0.8 200\n",
            "0.9 100\n",
            "0.9 150\n",
            "0.9 200\n",
            "1.0 100\n",
            "1.0 150\n",
            "1.0 200\n"
          ]
        },
        {
          "output_type": "execute_result",
          "data": {
            "text/plain": [
              "[None,\n",
              " None,\n",
              " None,\n",
              " None,\n",
              " None,\n",
              " None,\n",
              " None,\n",
              " None,\n",
              " None,\n",
              " None,\n",
              " None,\n",
              " None,\n",
              " None,\n",
              " None,\n",
              " None,\n",
              " None,\n",
              " None,\n",
              " None,\n",
              " None,\n",
              " None,\n",
              " None,\n",
              " None,\n",
              " None,\n",
              " None,\n",
              " None,\n",
              " None,\n",
              " None,\n",
              " None,\n",
              " None,\n",
              " None,\n",
              " None,\n",
              " None,\n",
              " None]"
            ]
          },
          "metadata": {},
          "execution_count": 26
        }
      ]
    },
    {
      "cell_type": "code",
      "source": [
        "list_estimate_bandwidth = [estimate_bandwidth(X, quantile=q/10, n_samples=s) for q in range(1, 11) for s in range(100, 201, 50)]\n",
        "list_estimate_bandwidth"
      ],
      "metadata": {
        "colab": {
          "base_uri": "https://localhost:8080/"
        },
        "outputId": "3736e276-be83-44db-a1c0-3f7dc4186b09",
        "id": "9TY0NANRIPLg"
      },
      "execution_count": null,
      "outputs": [
        {
          "output_type": "execute_result",
          "data": {
            "text/plain": [
              "[4.564931783136794,\n",
              " 4.732176582875352,\n",
              " 4.723476306201684,\n",
              " 6.598807593048657,\n",
              " 6.792260687178645,\n",
              " 6.84110924501022,\n",
              " 8.507680182621474,\n",
              " 8.57742062048096,\n",
              " 8.596729529729972,\n",
              " 10.21644455970201,\n",
              " 10.306954980717638,\n",
              " 10.293780802013494,\n",
              " 11.859086179101144,\n",
              " 12.125871602347358,\n",
              " 12.116763178842437,\n",
              " 13.31308666361367,\n",
              " 13.635659767522084,\n",
              " 13.665326092194345,\n",
              " 14.85104901269833,\n",
              " 15.040312220642058,\n",
              " 15.145193701412753,\n",
              " 16.512722125884956,\n",
              " 16.674544791088636,\n",
              " 16.715633490191607,\n",
              " 18.56336283927084,\n",
              " 18.676218433882884,\n",
              " 18.681280706340335,\n",
              " 22.932098314777512,\n",
              " 23.18058323918126,\n",
              " 23.228651916423363]"
            ]
          },
          "metadata": {},
          "execution_count": 27
        }
      ]
    },
    {
      "cell_type": "code",
      "source": [
        "\n",
        "silhouette = -1\n",
        "best_model = {\n",
        "    'quantile': None,\n",
        "    'n_samples': None,\n",
        "    'labels': None,\n",
        "    'n_clusters_': None,\n",
        "    'cluster_centers': None,\n",
        "    'silhouette': silhouette\n",
        "}\n",
        "\n",
        "for quantile in range(1, 11):\n",
        "  for n_samples in range(100, 201, 50):\n",
        "    bandwidth = estimate_bandwidth(X, quantile=quantile/10, n_samples=n_samples)\n",
        "    mean_shift = MeanShift(bandwidth=bandwidth)\n",
        "    mean_shift.fit(X)\n",
        "    labels = mean_shift.labels_\n",
        "    cluster_centers = mean_shift.cluster_centers_\n",
        "    labels_unique = np.unique(labels)\n",
        "    n_clusters_ = len(labels_unique)\n",
        "    try:\n",
        "      silhouette_current = metrics.silhouette_score(X, labels)\n",
        "      print(f'bandwidth = {bandwidth}, quantile = {quantile}, n_samples = {n_samples}')\n",
        "      print(\"number of estimated clusters : %d\" % n_clusters_)\n",
        "      print(f\"Silhouette Coefficient: {silhouette_current:.3f}\\n\\n\")\n",
        "\n",
        "      if silhouette_current > silhouette:\n",
        "        silhouette = silhouette_current\n",
        "        best_model = {\n",
        "            'quantile': quantile,\n",
        "            'n_samples': n_samples,\n",
        "            'labels': labels,\n",
        "            'n_clusters_': n_clusters_,\n",
        "            'cluster_centers': cluster_centers,\n",
        "            'silhouette': silhouette\n",
        "        }\n",
        "    except:\n",
        "      next"
      ],
      "metadata": {
        "colab": {
          "base_uri": "https://localhost:8080/"
        },
        "id": "awJwxIrHcE_7",
        "outputId": "43a50799-10cb-4dd9-ec65-b09836fd751e"
      },
      "execution_count": null,
      "outputs": [
        {
          "output_type": "stream",
          "name": "stdout",
          "text": [
            "bandwidth = 1.1053980769303735, quantile = 1, n_samples = 100\n",
            "number of estimated clusters : 12\n",
            "Silhouette Coefficient: 0.568\n",
            "\n",
            "\n",
            "bandwidth = 0.9188936762564716, quantile = 1, n_samples = 150\n",
            "number of estimated clusters : 49\n",
            "Silhouette Coefficient: 0.969\n",
            "\n",
            "\n",
            "bandwidth = 0.927808751736342, quantile = 1, n_samples = 200\n",
            "number of estimated clusters : 49\n",
            "Silhouette Coefficient: 0.969\n",
            "\n",
            "\n",
            "bandwidth = 1.2592872294835604, quantile = 2, n_samples = 100\n",
            "number of estimated clusters : 9\n",
            "Silhouette Coefficient: 0.496\n",
            "\n",
            "\n",
            "bandwidth = 1.5190030767082525, quantile = 2, n_samples = 150\n",
            "number of estimated clusters : 6\n",
            "Silhouette Coefficient: 0.453\n",
            "\n",
            "\n",
            "bandwidth = 1.4895609017347022, quantile = 2, n_samples = 200\n",
            "number of estimated clusters : 7\n",
            "Silhouette Coefficient: 0.500\n",
            "\n",
            "\n",
            "bandwidth = 1.6291076522766303, quantile = 3, n_samples = 100\n",
            "number of estimated clusters : 6\n",
            "Silhouette Coefficient: 0.443\n",
            "\n",
            "\n",
            "bandwidth = 1.7192256502488643, quantile = 3, n_samples = 150\n",
            "number of estimated clusters : 3\n",
            "Silhouette Coefficient: 0.391\n",
            "\n",
            "\n",
            "bandwidth = 1.6974396290867668, quantile = 3, n_samples = 200\n",
            "number of estimated clusters : 3\n",
            "Silhouette Coefficient: 0.391\n",
            "\n",
            "\n",
            "bandwidth = 1.775064336126918, quantile = 4, n_samples = 100\n",
            "number of estimated clusters : 3\n",
            "Silhouette Coefficient: 0.392\n",
            "\n",
            "\n",
            "bandwidth = 1.8974507603002833, quantile = 4, n_samples = 150\n",
            "number of estimated clusters : 3\n",
            "Silhouette Coefficient: 0.392\n",
            "\n",
            "\n",
            "bandwidth = 1.8720290266229318, quantile = 4, n_samples = 200\n",
            "number of estimated clusters : 3\n",
            "Silhouette Coefficient: 0.392\n",
            "\n",
            "\n",
            "bandwidth = 2.0594291899870094, quantile = 5, n_samples = 100\n",
            "number of estimated clusters : 2\n",
            "Silhouette Coefficient: 0.414\n",
            "\n",
            "\n"
          ]
        }
      ]
    },
    {
      "cell_type": "code",
      "source": [
        "best_model"
      ],
      "metadata": {
        "colab": {
          "base_uri": "https://localhost:8080/"
        },
        "id": "K0J9AHvsg8ni",
        "outputId": "58b169c2-588c-43a5-ba83-a51031e4e84f"
      },
      "execution_count": null,
      "outputs": [
        {
          "output_type": "execute_result",
          "data": {
            "text/plain": [
              "{'quantile': 1,\n",
              " 'n_samples': 150,\n",
              " 'labels': array([31, 14, 10,  5,  2,  4,  7,  6,  6,  0, 22,  0, 14, 12,  9, 23, 15,\n",
              "        41,  1,  0,  3,  0,  8,  7,  4, 14,  8,  2, 10, 12,  9, 10, 32,  0,\n",
              "        17,  0, 13, 10,  0,  8,  0, 15,  8, 20,  6, 10, 15,  4,  7,  1, 33,\n",
              "         9,  2,  8, 10,  5, 17, 14, 15,  0,  1,  0,  0, 11,  5,  0, 26,  3,\n",
              "         0, 11,  4,  5, 14, 12, 19, 31, 25, 16,  3,  0, 12,  4,  7,  1,  7,\n",
              "        12,  0,  1,  0,  8, 40, 22,  0,  0,  0,  0, 12,  0,  9,  0,  0,  5,\n",
              "         0,  3,  3, 13,  8,  8, 32,  1,  1, 11,  0,  9,  5,  1,  9,  1, 16,\n",
              "         2, 38,  9,  4, 13,  4,  2, 42,  4,  3,  7,  1,  0, 29, 14, 19,  1,\n",
              "         0,  0,  0, 25, 10,  4,  5,  2,  2,  1, 47,  1,  0,  0,  0, 14,  2,\n",
              "         0,  1,  1,  5, 30,  7,  0,  7,  0,  6,  6,  1,  6,  0, 12, 18,  1,\n",
              "         1, 20, 22,  0,  1,  2,  1,  6,  1,  3, 15,  5, 27,  1,  6,  9,  1,\n",
              "        16,  0, 46,  1,  0,  1, 11,  6,  6, 18,  0,  6, 39, 26, 19,  4,  0,\n",
              "         0, 24, 17,  3,  0,  3, 25,  4,  7,  5,  1,  0,  0, 10,  8,  4,  4,\n",
              "        13, 19, 13,  0,  4,  0,  3,  0,  1, 10,  2,  0,  6,  7,  8, 45, 16,\n",
              "         6,  2,  2, 23,  0,  5,  0,  5,  2,  0, 15,  0,  1, 21,  2, 17, 28,\n",
              "         2,  1,  2,  7,  1, 23,  4,  0,  3,  8,  0,  1, 11, 12,  0,  5,  0,\n",
              "         7,  1,  0,  2,  2,  0, 26,  0,  2,  1,  2,  8,  9, 24, 18,  2,  7,\n",
              "        16,  1, 27, 35,  5,  0,  9, 17,  4,  1, 22,  0, 44,  0,  0,  4,  0,\n",
              "        18,  0, 10, 34, 10, 20,  2,  0,  0, 17,  0, 11,  7, 13,  9, 12,  2,\n",
              "         0,  1,  3,  0,  4,  2, 10,  4, 36,  0, 24,  0,  8,  1,  3,  0,  0,\n",
              "         0,  1, 43, 12, 13,  1,  0,  9,  3, 10,  1,  1,  2,  5, 16,  2,  0,\n",
              "         5, 48,  9,  0,  0,  1,  0,  0, 14,  3,  0,  9, 19,  2,  1,  0,  3,\n",
              "        11,  4,  0, 16,  0, 12,  0,  0, 21,  6, 28,  7, 18,  4,  0,  5,  3,\n",
              "         3,  0,  0,  7,  1,  0,  8,  1,  2,  0,  3, 14, 11, 18,  6,  6, 11,\n",
              "         6,  0,  7,  4,  4, 11,  4, 13,  0,  3,  0,  0,  1,  0,  1, 21,  6,\n",
              "         8,  0,  0, 15,  9,  0,  1,  3, 11, 17,  5,  7,  2,  5,  3,  3,  3,\n",
              "        37,  1,  7,  1,  5,  3,  1,  4, 15,  4,  3, 21,  5,  0,  0,  0,  1,\n",
              "         3, 13, 27, 12, 29,  4, 16,  1,  1,  8,  3, 13,  1,  1,  1,  1,  2,\n",
              "         1, 10, 30,  0,  1,  2,  0, 24,  1,  1,  0, 11, 14,  6,  0,  0, 13,\n",
              "         1,  7,  0, 19,  1,  1,  2,  6, 11, 20,  5,  0, 23,  7,  1,  0, 12,\n",
              "         6, 15,  5]),\n",
              " 'n_clusters_': 49,\n",
              " 'cluster_centers': array([[1., 0., 0., 0.],\n",
              "        [2., 0., 0., 0.],\n",
              "        [2., 2., 2., 2.],\n",
              "        [1., 0., 1., 0.],\n",
              "        [0., 0., 0., 0.],\n",
              "        [2., 0., 2., 0.],\n",
              "        [2., 2., 0., 0.],\n",
              "        [1., 0., 2., 0.],\n",
              "        [2., 0., 2., 2.],\n",
              "        [1., 0., 2., 2.],\n",
              "        [2., 0., 1., 0.],\n",
              "        [1., 2., 0., 0.],\n",
              "        [0., 0., 1., 1.],\n",
              "        [1., 0., 1., 1.],\n",
              "        [1., 0., 0., 2.],\n",
              "        [2., 2., 2., 0.],\n",
              "        [2., 0., 0., 2.],\n",
              "        [1., 2., 2., 0.],\n",
              "        [1., 2., 0., 2.],\n",
              "        [1., 0., 1., 2.],\n",
              "        [2., 2., 1., 0.],\n",
              "        [2., 2., 0., 2.],\n",
              "        [1., 2., 2., 2.],\n",
              "        [1., 2., 1., 0.],\n",
              "        [0., 0., 1., 0.],\n",
              "        [2., 2., 1., 1.],\n",
              "        [2., 0., 1., 1.],\n",
              "        [0., 2., 0., 0.],\n",
              "        [2., 2., 2., 1.],\n",
              "        [2., 0., 2., 1.],\n",
              "        [0., 2., 1., 0.],\n",
              "        [0., 0., 2., 1.],\n",
              "        [0., 0., 0., 2.],\n",
              "        [3., 2., 2., 2.],\n",
              "        [2., 2., 2., 3.],\n",
              "        [2., 2., 1., 2.],\n",
              "        [2., 2., 0., 1.],\n",
              "        [2., 0., 1., 2.],\n",
              "        [2., 0., 0., 1.],\n",
              "        [1., 2., 2., 1.],\n",
              "        [1., 2., 1., 2.],\n",
              "        [1., 1., 0., 0.],\n",
              "        [1., 0., 4., 0.],\n",
              "        [1., 0., 3., 0.],\n",
              "        [1., 0., 2., 4.],\n",
              "        [1., 0., 2., 1.],\n",
              "        [0., 0., 2., 0.],\n",
              "        [0., 0., 1., 2.],\n",
              "        [0., 0., 0., 1.]]),\n",
              " 'silhouette': 0.9688109161793372}"
            ]
          },
          "metadata": {},
          "execution_count": 48
        }
      ]
    },
    {
      "cell_type": "code",
      "source": [
        "plt.figure(1)\n",
        "plt.clf()\n",
        "\n",
        "# colors = [\"#dede00\", \"#377eb8\", \"#f781bf\", '#f9aa00', \"#00AA18\"]\n",
        "# markers = [\"p\", \"o\", \"^\", '*', 's']\n",
        "\n",
        "n_clusters_ = best_model['n_clusters_']\n",
        "cluster_centers = best_model['cluster_centers']\n",
        "labels = best_model['labels']\n",
        "\n",
        "# for k, col in zip(range(n_clusters_), colors):\n",
        "for k in range(n_clusters_):\n",
        "    my_members = labels == k\n",
        "    cluster_center = cluster_centers[k]\n",
        "    # plt.scatter(X[my_members, 0], X[my_members, 1], color=col)\n",
        "    plt.scatter(X[my_members, 0], X[my_members, 1], label=k)\n",
        "    plt.plot(\n",
        "        cluster_center[0],\n",
        "        cluster_center[1],\n",
        "        # markers[k],\n",
        "        # markerfacecolor=col,\n",
        "        # markeredgecolor=\"k\",\n",
        "        # markersize=14,\n",
        "    )\n",
        "plt.title(\"Estimated number of clusters: %d\" % n_clusters_)\n",
        "plt.show()"
      ],
      "metadata": {
        "colab": {
          "base_uri": "https://localhost:8080/",
          "height": 281
        },
        "id": "bh5JI_HBdLd3",
        "outputId": "5a77784e-65e2-41e3-b9ea-969f3c7240cc"
      },
      "execution_count": null,
      "outputs": [
        {
          "output_type": "display_data",
          "data": {
            "text/plain": [
              "<Figure size 432x288 with 1 Axes>"
            ],
            "image/png": "[encoded data removed]"
          },
          "metadata": {
            "needs_background": "light"
          }
        }
      ]
    },
    {
      "cell_type": "code",
      "source": [
        "for bandwidth in list_estimate_bandwidth:\n",
        "  mean_shift = MeanShift(bandwidth=bandwidth)\n",
        "  mean_shift.fit(X)\n",
        "  labels = mean_shift.labels_\n",
        "  cluster_centers = mean_shift.cluster_centers_\n",
        "\n",
        "  labels_unique = np.unique(labels)\n",
        "  n_clusters_ = len(labels_unique)\n",
        "\n",
        "  try:\n",
        "    print('bandwidth =', bandwidth)\n",
        "    print(\"number of estimated clusters : %d\" % n_clusters_)\n",
        "    print(f\"Silhouette Coefficient: {metrics.silhouette_score(X, labels):.3f}\\n\\n\")\n",
        "  except:\n",
        "    next"
      ],
      "metadata": {
        "colab": {
          "base_uri": "https://localhost:8080/"
        },
        "outputId": "f5f54d76-4a76-43a1-e052-0b809bb069cc",
        "id": "qQqeep9XIPLg"
      },
      "execution_count": null,
      "outputs": [
        {
          "output_type": "stream",
          "name": "stdout",
          "text": [
            "bandwidth = 4.564931783136794\n",
            "number of estimated clusters : 6\n",
            "Silhouette Coefficient: 0.342\n",
            "\n",
            "\n",
            "bandwidth = 4.732176582875352\n",
            "number of estimated clusters : 6\n",
            "Silhouette Coefficient: 0.372\n",
            "\n",
            "\n",
            "bandwidth = 4.723476306201684\n",
            "number of estimated clusters : 6\n",
            "Silhouette Coefficient: 0.372\n",
            "\n",
            "\n",
            "bandwidth = 6.598807593048657\n",
            "number of estimated clusters : 2\n",
            "Silhouette Coefficient: 0.410\n",
            "\n",
            "\n",
            "bandwidth = 6.792260687178645\n",
            "number of estimated clusters : 2\n",
            "Silhouette Coefficient: 0.392\n",
            "\n",
            "\n",
            "bandwidth = 6.84110924501022\n",
            "number of estimated clusters : 2\n",
            "Silhouette Coefficient: 0.431\n",
            "\n",
            "\n",
            "bandwidth = 8.507680182621474\n",
            "number of estimated clusters : 1\n",
            "bandwidth = 8.57742062048096\n",
            "number of estimated clusters : 1\n",
            "bandwidth = 8.596729529729972\n",
            "number of estimated clusters : 1\n",
            "bandwidth = 10.21644455970201\n",
            "number of estimated clusters : 1\n",
            "bandwidth = 10.306954980717638\n",
            "number of estimated clusters : 1\n",
            "bandwidth = 10.293780802013494\n",
            "number of estimated clusters : 1\n",
            "bandwidth = 11.859086179101144\n",
            "number of estimated clusters : 1\n",
            "bandwidth = 12.125871602347358\n",
            "number of estimated clusters : 1\n",
            "bandwidth = 12.116763178842437\n",
            "number of estimated clusters : 1\n",
            "bandwidth = 13.31308666361367\n",
            "number of estimated clusters : 1\n",
            "bandwidth = 13.635659767522084\n",
            "number of estimated clusters : 1\n",
            "bandwidth = 13.665326092194345\n",
            "number of estimated clusters : 1\n",
            "bandwidth = 14.85104901269833\n",
            "number of estimated clusters : 1\n",
            "bandwidth = 15.040312220642058\n",
            "number of estimated clusters : 1\n",
            "bandwidth = 15.145193701412753\n",
            "number of estimated clusters : 1\n",
            "bandwidth = 16.512722125884956\n",
            "number of estimated clusters : 1\n",
            "bandwidth = 16.674544791088636\n",
            "number of estimated clusters : 1\n",
            "bandwidth = 16.715633490191607\n",
            "number of estimated clusters : 1\n",
            "bandwidth = 18.56336283927084\n",
            "number of estimated clusters : 1\n",
            "bandwidth = 18.676218433882884\n",
            "number of estimated clusters : 1\n",
            "bandwidth = 18.681280706340335\n",
            "number of estimated clusters : 1\n",
            "bandwidth = 22.932098314777512\n",
            "number of estimated clusters : 1\n",
            "bandwidth = 23.18058323918126\n",
            "number of estimated clusters : 1\n",
            "bandwidth = 23.228651916423363\n",
            "number of estimated clusters : 1\n"
          ]
        }
      ]
    },
    {
      "cell_type": "code",
      "source": [
        "\n",
        "\n",
        "\n",
        "clustering_model.fit(X)\n",
        "labels = clustering_model.labels_\n",
        "cluster_centers = clustering_model.cluster_centers_\n",
        "\n",
        "labels_unique = np.unique(labels)\n",
        "n_clusters_ = len(labels_unique)\n",
        "\n",
        "print(\"number of estimated clusters : %d\" % n_clusters_)\n",
        "print(f\"Silhouette Coefficient: {metrics.silhouette_score(X, labels):.3f}\")"
      ],
      "metadata": {
        "colab": {
          "base_uri": "https://localhost:8080/"
        },
        "outputId": "902bad1d-4d42-433a-9cbc-ba8cf643ea63",
        "id": "v41JhjJsIPLg"
      },
      "execution_count": null,
      "outputs": [
        {
          "output_type": "stream",
          "name": "stdout",
          "text": [
            "number of estimated clusters : 2\n",
            "Silhouette Coefficient: 0.410\n"
          ]
        }
      ]
    },
    {
      "cell_type": "code",
      "source": [
        "clustering_model"
      ],
      "metadata": {
        "colab": {
          "base_uri": "https://localhost:8080/",
          "height": 75
        },
        "outputId": "040da453-8c4d-4277-dfba-42911b913961",
        "id": "87AtP4lHIPLh"
      },
      "execution_count": null,
      "outputs": [
        {
          "output_type": "execute_result",
          "data": {
            "text/plain": [
              "MeanShift(bandwidth=6.598807593048657)"
            ],
            "text/html": [
              "<style>#sk-container-id-11 {color: black;background-color: white;}#sk-container-id-11 pre{padding: 0;}#sk-container-id-11 div.sk-toggleable {background-color: white;}#sk-container-id-11 label.sk-toggleable__label {cursor: pointer;display: block;width: 100%;margin-bottom: 0;padding: 0.3em;box-sizing: border-box;text-align: center;}#sk-container-id-11 label.sk-toggleable__label-arrow:before {content: \"▸\";float: left;margin-right: 0.25em;color: #696969;}#sk-container-id-11 label.sk-toggleable__label-arrow:hover:before {color: black;}#sk-container-id-11 div.sk-estimator:hover label.sk-toggleable__label-arrow:before {color: black;}#sk-container-id-11 div.sk-toggleable__content {max-height: 0;max-width: 0;overflow: hidden;text-align: left;background-color: #f0f8ff;}#sk-container-id-11 div.sk-toggleable__content pre {margin: 0.2em;color: black;border-radius: 0.25em;background-color: #f0f8ff;}#sk-container-id-11 input.sk-toggleable__control:checked~div.sk-toggleable__content {max-height: 200px;max-width: 100%;overflow: auto;}#sk-container-id-11 input.sk-toggleable__control:checked~label.sk-toggleable__label-arrow:before {content: \"▾\";}#sk-container-id-11 div.sk-estimator input.sk-toggleable__control:checked~label.sk-toggleable__label {background-color: #d4ebff;}#sk-container-id-11 div.sk-label input.sk-toggleable__control:checked~label.sk-toggleable__label {background-color: #d4ebff;}#sk-container-id-11 input.sk-hidden--visually {border: 0;clip: rect(1px 1px 1px 1px);clip: rect(1px, 1px, 1px, 1px);height: 1px;margin: -1px;overflow: hidden;padding: 0;position: absolute;width: 1px;}#sk-container-id-11 div.sk-estimator {font-family: monospace;background-color: #f0f8ff;border: 1px dotted black;border-radius: 0.25em;box-sizing: border-box;margin-bottom: 0.5em;}#sk-container-id-11 div.sk-estimator:hover {background-color: #d4ebff;}#sk-container-id-11 div.sk-parallel-item::after {content: \"\";width: 100%;border-bottom: 1px solid gray;flex-grow: 1;}#sk-container-id-11 div.sk-label:hover label.sk-toggleable__label {background-color: #d4ebff;}#sk-container-id-11 div.sk-serial::before {content: \"\";position: absolute;border-left: 1px solid gray;box-sizing: border-box;top: 0;bottom: 0;left: 50%;z-index: 0;}#sk-container-id-11 div.sk-serial {display: flex;flex-direction: column;align-items: center;background-color: white;padding-right: 0.2em;padding-left: 0.2em;position: relative;}#sk-container-id-11 div.sk-item {position: relative;z-index: 1;}#sk-container-id-11 div.sk-parallel {display: flex;align-items: stretch;justify-content: center;background-color: white;position: relative;}#sk-container-id-11 div.sk-item::before, #sk-container-id-11 div.sk-parallel-item::before {content: \"\";position: absolute;border-left: 1px solid gray;box-sizing: border-box;top: 0;bottom: 0;left: 50%;z-index: -1;}#sk-container-id-11 div.sk-parallel-item {display: flex;flex-direction: column;z-index: 1;position: relative;background-color: white;}#sk-container-id-11 div.sk-parallel-item:first-child::after {align-self: flex-end;width: 50%;}#sk-container-id-11 div.sk-parallel-item:last-child::after {align-self: flex-start;width: 50%;}#sk-container-id-11 div.sk-parallel-item:only-child::after {width: 0;}#sk-container-id-11 div.sk-dashed-wrapped {border: 1px dashed gray;margin: 0 0.4em 0.5em 0.4em;box-sizing: border-box;padding-bottom: 0.4em;background-color: white;}#sk-container-id-11 div.sk-label label {font-family: monospace;font-weight: bold;display: inline-block;line-height: 1.2em;}#sk-container-id-11 div.sk-label-container {text-align: center;}#sk-container-id-11 div.sk-container {/* jupyter's `normalize.less` sets `[hidden] { display: none; }` but bootstrap.min.css set `[hidden] { display: none !important; }` so we also need the `!important` here to be able to override the default hidden behavior on the sphinx rendered scikit-learn.org. See: https://github.com/scikit-learn/scikit-learn/issues/21755 */display: inline-block !important;position: relative;}#sk-container-id-11 div.sk-text-repr-fallback {display: none;}</style><div id=\"sk-container-id-11\" class=\"sk-top-container\"><div class=\"sk-text-repr-fallback\"><pre>MeanShift(bandwidth=6.598807593048657)</pre><b>In a Jupyter environment, please rerun this cell to show the HTML representation or trust the notebook. <br />On GitHub, the HTML representation is unable to render, please try loading this page with nbviewer.org.</b></div><div class=\"sk-container\" hidden><div class=\"sk-item\"><div class=\"sk-estimator sk-toggleable\"><input class=\"sk-toggleable__control sk-hidden--visually\" id=\"sk-estimator-id-11\" type=\"checkbox\" checked><label for=\"sk-estimator-id-11\" class=\"sk-toggleable__label sk-toggleable__label-arrow\">MeanShift</label><div class=\"sk-toggleable__content\"><pre>MeanShift(bandwidth=6.598807593048657)</pre></div></div></div></div></div>"
            ]
          },
          "metadata": {},
          "execution_count": 158
        }
      ]
    },
    {
      "cell_type": "code",
      "source": [
        "\n",
        "\n",
        "bandwidth = estimate_bandwidth(X, quantile=0.2, n_samples=100)\n",
        "\n",
        "ms = MeanShift(bandwidth=bandwidth, bin_seeding=True)\n",
        "ms.fit(X)\n",
        "labels = ms.labels_\n",
        "cluster_centers = ms.cluster_centers_\n",
        "\n",
        "labels_unique = np.unique(labels)\n",
        "n_clusters_ = len(labels_unique)\n",
        "\n",
        "print(\"number of estimated clusters : %d\" % n_clusters_)\n",
        "print(f\"Silhouette Coefficient: {metrics.silhouette_score(X, labels):.3f}\")"
      ],
      "metadata": {
        "colab": {
          "base_uri": "https://localhost:8080/"
        },
        "outputId": "d299e9cd-6e21-430a-84a4-43a90bfe87cb",
        "id": "NBsJ2ITsIPLh"
      },
      "execution_count": null,
      "outputs": [
        {
          "output_type": "stream",
          "name": "stdout",
          "text": [
            "number of estimated clusters : 2\n",
            "Silhouette Coefficient: 0.435\n"
          ]
        }
      ]
    },
    {
      "cell_type": "code",
      "source": [
        "plt.figure(1)\n",
        "plt.clf()\n",
        "\n",
        "colors = [\"#dede00\", \"#377eb8\", \"#f781bf\", '#f9aa00', \"#00AA18\"]\n",
        "markers = [\"p\", \"o\", \"^\", '*', 's']\n",
        "\n",
        "for k, col in zip(range(n_clusters_), colors):\n",
        "    my_members = labels == k\n",
        "    cluster_center = cluster_centers[k]\n",
        "    plt.scatter(df_caracteristicas_selecionadas_deputados.iloc[: , 2:].values[my_members, 0], df_caracteristicas_selecionadas_deputados.iloc[: , 2:].values[my_members, 1], color=col)\n",
        "    plt.plot(\n",
        "        cluster_center[0],\n",
        "        cluster_center[1],\n",
        "        markers[k],\n",
        "        markerfacecolor=col,\n",
        "        markeredgecolor=\"k\",\n",
        "        markersize=14,\n",
        "    )\n",
        "plt.title(\"Estimated number of clusters: %d\" % n_clusters_)\n",
        "plt.show()"
      ],
      "metadata": {
        "colab": {
          "base_uri": "https://localhost:8080/",
          "height": 281
        },
        "outputId": "9f2d79ba-db19-4bdf-fb5b-4c96bf408f65",
        "id": "opZ6WmnoIPLh"
      },
      "execution_count": null,
      "outputs": [
        {
          "output_type": "display_data",
          "data": {
            "text/plain": [
              "<Figure size 432x288 with 1 Axes>"
            ],
            "image/png": "[encoded data removed]"
          },
          "metadata": {
            "needs_background": "light"
          }
        }
      ]
    },
    {
      "cell_type": "markdown",
      "source": [
        "# Nova seção"
      ],
      "metadata": {
        "id": "kpbJFA3lGZ3V"
      }
    }
  ]
}